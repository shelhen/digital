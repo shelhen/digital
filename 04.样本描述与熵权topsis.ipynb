{
 "cells": [
  {
   "cell_type": "code",
   "id": "initial_id",
   "metadata": {
    "collapsed": true,
    "ExecuteTime": {
     "end_time": "2025-03-15T10:05:56.074674Z",
     "start_time": "2025-03-15T10:05:55.619678Z"
    }
   },
   "source": [
    "import warnings\n",
    "import os\n",
    "import pandas as pd\n",
    "from pathlib import Path\n",
    "from utils.config import config, table_translate, EvaluationIndicatorTable,tMp\n",
    "warnings.filterwarnings('ignore')\n",
    "sshshs = {\n",
    "    \"1\":\"国企\",\n",
    "    \"2\":\"民营\",\n",
    "    \"3\":\"外资\"\n",
    "}\n",
    "doc_name = \"熵权-Topsis分析阶段表格数据\"\n",
    "base_path = Path(os.path.abspath('.')) / 'assert'\n",
    "works = {key: indicator for key, indicator in config['行业代码'].items()}\n",
    "# dataset = dataset[(dataset[\"wufei\"]>0.2)&(dataset[\"zhaochenyv\"]>0.5)&(dataset[\"yuanchun\"]>0.5)&(dataset[\"lishouxi\"]>0.5)&(dataset[\"csmar\"]>10)]\n",
    "dataset = pd.read_csv('./data/制造企业绩效评价数据总表.csv', dtype={\"股票代码\": 'object'})\n",
    "# 确定评价年份\n",
    "dataset[\"行业名称\"] = dataset[\"行业代码\"].apply(lambda x: works[str(x)])\n",
    "dataset[\"股权性质\"] = dataset[\"股权性质\"].apply(lambda x:sshshs[str(x)] if str(x) in sshshs else \"其他\")\n",
    "\n",
    "# 最后进行指标逆向化\n",
    "_max = dataset['存货周转率(%)'].max()\n",
    "dataset['存货周转率(%)'] = dataset['存货周转率(%)'].apply(lambda x: _max-x)\n",
    "dataset['EBITDA率(%)']  = dataset['EBITDA率(%)'] /1e8\n",
    "dataset['员工收入增长率(%)']  = dataset['员工收入增长率(%)'] /100\n",
    "years = sorted(list(set(dataset[\"截止日期\"].tolist())))\n",
    "if len(years)==1:\n",
    "    year = 2023\n",
    "    matrix = dataset[dataset['截止日期']==year].reset_index(drop=True).copy(deep=True)\n",
    "    print('共获得{0}年, {1}个指标下{2}个样本企业数据'.format(year,matrix.shape[1], matrix.shape[0]))\n",
    "else:\n",
    "    dataset.sort_values([\"股票代码\",'截止日期'], inplace=True)\n",
    "    matrix = dataset.set_index([\"股票代码\",'截止日期']).copy(deep=True)\n",
    "    start, *y, end = years\n",
    "    print(f'共获得{start}-{end}年，{matrix.shape[1]}个指标下{dataset[dataset[\"截止日期\"]==2023].shape[0]}家企业{matrix.shape[0]}个样本企业数据')"
   ],
   "outputs": [
    {
     "name": "stdout",
     "output_type": "stream",
     "text": [
      "共获得2018-2023年，41个指标下1436家企业8616个样本企业数据\n"
     ]
    }
   ],
   "execution_count": 1
  },
  {
   "metadata": {
    "ExecuteTime": {
     "end_time": "2025-03-15T10:05:59.454038Z",
     "start_time": "2025-03-15T10:05:58.722104Z"
    }
   },
   "cell_type": "code",
   "source": [
    "# 样本结构分析\n",
    "un_set = dataset[[\"股票代码\",\"股票简称\", \"截止日期\",\"行业名称\",\"所属省份\",\"股权性质\"]]\n",
    "\n",
    "def consum(ind):\n",
    "    temp = un_set.groupby([\"截止日期\", ind]).count().reset_index().set_index(ind)\n",
    "    temp2 = pd.DataFrame()\n",
    "    for i in range(6):\n",
    "        temp2[2018+i] = temp[temp[\"截止日期\"]==2018+i][[\"股票代码\"]]\n",
    "    temp2[\"合计\"] = temp2.sum(axis=1) \n",
    "    temp2.reset_index(inplace=True)\n",
    "    temp2.fillna(0, inplace=True)\n",
    "    table_translate(temp2,f\"目标样本分{ind}逐年份变化情况表\", doc_name)\n",
    "consum(\"行业名称\")\n",
    "consum(\"所属省份\")\n",
    "consum(\"股权性质\")\n",
    "un_set.to_csv('./data/un_unit.csv')"
   ],
   "id": "4243557c484a0c73",
   "outputs": [],
   "execution_count": 2
  },
  {
   "metadata": {
    "ExecuteTime": {
     "end_time": "2025-03-15T10:06:04.037394Z",
     "start_time": "2025-03-15T10:06:02.665008Z"
    }
   },
   "cell_type": "code",
   "source": [
    "# 统计学特征\n",
    "import numpy as np\n",
    "from sklearn.preprocessing import MinMaxScaler\n",
    "\n",
    "ind_table = pd.DataFrame(EvaluationIndicatorTable)\n",
    "# 计算公式\n",
    "table_translate(ind_table, filename=doc_name, table_name=\"评价指标体系表\")\n",
    "metrix = matrix[ind_table[\"指标层\"].tolist()].astype('float')\n",
    "columns = [f\"X{i+1}\" for i in range(len(metrix.columns.tolist()))]\n",
    "# 极值标准化\n",
    "scaler = MinMaxScaler()\n",
    "scale = scaler.fit_transform(metrix)\n",
    "temp = pd.DataFrame(scale, index=matrix.index, columns=columns).reset_index()\n",
    "temp = temp.iloc[:25].round(3)\n",
    "temp.loc[temp.shape[0]] = ['...' for i in range(temp.shape[1])]\n",
    "temp = pd.concat([temp.iloc[:,:5], pd.DataFrame([['...']] *16, columns=['...']), temp.iloc[:,-3:]], axis=1)\n",
    "table_translate(temp, filename=doc_name, table_name=\"数据处理结果表\")\n",
    "\n",
    "temp = metrix.describe().T.round(3).reset_index(drop=True)\n",
    "temp.index = [f\"X{i+1}\" for i in range(temp.shape[0])] \n",
    "temp.reset_index(inplace=True)\n",
    "temp[\"count\"] = temp[\"count\"].astype(int)\n",
    "table_translate(temp, filename=doc_name, table_name=\"数据样本描述性特征\")"
   ],
   "id": "b0d4e34eaa7b4efe",
   "outputs": [],
   "execution_count": 3
  },
  {
   "metadata": {
    "ExecuteTime": {
     "end_time": "2025-03-15T10:06:06.758081Z",
     "start_time": "2025-03-15T10:06:06.094161Z"
    }
   },
   "cell_type": "code",
   "source": [
    "# 熵权-topsia\n",
    "\n",
    "epsilon = 1e-10\n",
    "p, i = scale.shape\n",
    "temp = scale / (scale.sum(axis=0)+epsilon)\n",
    "E = - 1 / np.log(p) * (temp*np.log(temp+epsilon)).sum(axis=0)\n",
    "w = (1-E)/(1 - E).sum()\n",
    "# topsis\n",
    "temp = scale * w\n",
    "_max = temp.max(axis=0)\n",
    "_min = temp.min(axis=0)\n",
    "#  计算到正负理想节解的距离\n",
    "dax = np.sqrt((temp - _max)**2).sum(axis=1)\n",
    "din = np.sqrt((temp - _min)**2).sum(axis=1)\n",
    "score = din/(dax+din)\n",
    "s = scale.sum(axis=1)\n",
    "s = (s-s.min())/(s.max()-s.min())*0.1\n",
    "# 不知道结果还对不对\n",
    "score = pd.Series(score + s, index=matrix.index, name='score')\n",
    "data = pd.merge(matrix, score, left_index=True, right_index=True, how='outer')\n",
    "\n",
    "data.sort_values(\"score\", ascending=False)\n",
    "data.sort_index(inplace=True)\n",
    "data.to_csv('./data/dataset.csv', index=False)\n",
    "temp = data.reset_index()\n",
    "temp = temp[temp[\"截止日期\"]==2023].sort_values([\"score\"], ascending=False)\n",
    "\n",
    "temp = temp.iloc[:30].round(3)\n",
    "temp = temp[[\"股票简称\", \"净资产收益率(%)\", \"资产报酬率(%)\",\"营业收入增长率(%)\",\"总资产周转率(%)\",\"社会责任报告质量\",\"员工收入增长率(%)\",\"数字化供应链覆盖度\",\"数字化战略导向持续性\",\"score\"]]\n",
    "r_map = {value:key for key,value in tMp.items()}\n",
    "temp.rename(columns=r_map, inplace=True)\n",
    "temp.reset_index(drop=True,inplace=True)\n",
    "temp.loc[temp.shape[0]] = ['...' for i in range(temp.shape[1])]\n",
    "temp = pd.concat([temp.iloc[:,:4], pd.DataFrame([['...']] *30, columns=['...']), temp.iloc[:,-5:]], axis=1)\n",
    "table_translate(temp, filename=doc_name, table_name=\"熵权TOPSIS评价结果\")\n"
   ],
   "id": "6726719b1811efc5",
   "outputs": [],
   "execution_count": 4
  },
  {
   "metadata": {},
   "cell_type": "code",
   "outputs": [],
   "execution_count": null,
   "source": "\n",
   "id": "b73cdaa482baec64"
  }
 ],
 "metadata": {
  "kernelspec": {
   "display_name": "Python 3",
   "language": "python",
   "name": "python3"
  },
  "language_info": {
   "codemirror_mode": {
    "name": "ipython",
    "version": 2
   },
   "file_extension": ".py",
   "mimetype": "text/x-python",
   "name": "python",
   "nbconvert_exporter": "python",
   "pygments_lexer": "ipython2",
   "version": "2.7.6"
  }
 },
 "nbformat": 4,
 "nbformat_minor": 5
}
