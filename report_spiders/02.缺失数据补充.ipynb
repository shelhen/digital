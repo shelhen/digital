{
 "cells": [
  {
   "cell_type": "code",
   "execution_count": 1,
   "metadata": {
    "collapsed": true,
    "ExecuteTime": {
     "end_time": "2023-07-30T07:23:53.719415100Z",
     "start_time": "2023-07-30T07:23:53.091657600Z"
    }
   },
   "outputs": [
    {
     "data": {
      "text/plain": "                            文件名称  \\\n0      000001-2007-深发展Ａ-年度报告.pdf   \n1      000001-2008-深发展Ａ-年度报告.pdf   \n2      000001-2009-深发展Ａ-年度报告.pdf   \n3      000001-2010-深发展Ａ-年度报告.pdf   \n4      000001-2011-深发展Ａ-年度报告.pdf   \n...                          ...   \n48146  900957-2019-凌云Ｂ股-年度报告.pdf   \n48147  900957-2020-凌云Ｂ股-年度报告.pdf   \n48148  900957-2021-凌云Ｂ股-年度报告.pdf   \n48149  900957-2022-凌云Ｂ股-年度报告.pdf   \n48150  600664-2022-哈药股份-年度报告.pdf   \n\n                                                    下载链接    股票代码  截止日期  \n0      http://static.cninfo.com.cn/finalpage/2008-03-...  000001  2007  \n1      http://static.cninfo.com.cn/finalpage/2009-03-...  000001  2008  \n2      http://static.cninfo.com.cn/finalpage/2010-03-...  000001  2009  \n3      http://static.cninfo.com.cn/finalpage/2011-02-...  000001  2010  \n4      http://static.cninfo.com.cn/finalpage/2012-03-...  000001  2011  \n...                                                  ...     ...   ...  \n48146  http://static.cninfo.com.cn/finalpage/2020-04-...  900957  2019  \n48147  http://static.cninfo.com.cn/finalpage/2021-04-...  900957  2020  \n48148  http://static.cninfo.com.cn/finalpage/2022-04-...  900957  2021  \n48149  http://static.cninfo.com.cn/finalpage/2023-04-...  900957  2022  \n48150  http://static.cninfo.com.cn/finalpage/2023-04-...  600664  2022  \n\n[48151 rows x 4 columns]",
      "text/html": "<div>\n<style scoped>\n    .dataframe tbody tr th:only-of-type {\n        vertical-align: middle;\n    }\n\n    .dataframe tbody tr th {\n        vertical-align: top;\n    }\n\n    .dataframe thead th {\n        text-align: right;\n    }\n</style>\n<table border=\"1\" class=\"dataframe\">\n  <thead>\n    <tr style=\"text-align: right;\">\n      <th></th>\n      <th>文件名称</th>\n      <th>下载链接</th>\n      <th>股票代码</th>\n      <th>截止日期</th>\n    </tr>\n  </thead>\n  <tbody>\n    <tr>\n      <th>0</th>\n      <td>000001-2007-深发展Ａ-年度报告.pdf</td>\n      <td>http://static.cninfo.com.cn/finalpage/2008-03-...</td>\n      <td>000001</td>\n      <td>2007</td>\n    </tr>\n    <tr>\n      <th>1</th>\n      <td>000001-2008-深发展Ａ-年度报告.pdf</td>\n      <td>http://static.cninfo.com.cn/finalpage/2009-03-...</td>\n      <td>000001</td>\n      <td>2008</td>\n    </tr>\n    <tr>\n      <th>2</th>\n      <td>000001-2009-深发展Ａ-年度报告.pdf</td>\n      <td>http://static.cninfo.com.cn/finalpage/2010-03-...</td>\n      <td>000001</td>\n      <td>2009</td>\n    </tr>\n    <tr>\n      <th>3</th>\n      <td>000001-2010-深发展Ａ-年度报告.pdf</td>\n      <td>http://static.cninfo.com.cn/finalpage/2011-02-...</td>\n      <td>000001</td>\n      <td>2010</td>\n    </tr>\n    <tr>\n      <th>4</th>\n      <td>000001-2011-深发展Ａ-年度报告.pdf</td>\n      <td>http://static.cninfo.com.cn/finalpage/2012-03-...</td>\n      <td>000001</td>\n      <td>2011</td>\n    </tr>\n    <tr>\n      <th>...</th>\n      <td>...</td>\n      <td>...</td>\n      <td>...</td>\n      <td>...</td>\n    </tr>\n    <tr>\n      <th>48146</th>\n      <td>900957-2019-凌云Ｂ股-年度报告.pdf</td>\n      <td>http://static.cninfo.com.cn/finalpage/2020-04-...</td>\n      <td>900957</td>\n      <td>2019</td>\n    </tr>\n    <tr>\n      <th>48147</th>\n      <td>900957-2020-凌云Ｂ股-年度报告.pdf</td>\n      <td>http://static.cninfo.com.cn/finalpage/2021-04-...</td>\n      <td>900957</td>\n      <td>2020</td>\n    </tr>\n    <tr>\n      <th>48148</th>\n      <td>900957-2021-凌云Ｂ股-年度报告.pdf</td>\n      <td>http://static.cninfo.com.cn/finalpage/2022-04-...</td>\n      <td>900957</td>\n      <td>2021</td>\n    </tr>\n    <tr>\n      <th>48149</th>\n      <td>900957-2022-凌云Ｂ股-年度报告.pdf</td>\n      <td>http://static.cninfo.com.cn/finalpage/2023-04-...</td>\n      <td>900957</td>\n      <td>2022</td>\n    </tr>\n    <tr>\n      <th>48150</th>\n      <td>600664-2022-哈药股份-年度报告.pdf</td>\n      <td>http://static.cninfo.com.cn/finalpage/2023-04-...</td>\n      <td>600664</td>\n      <td>2022</td>\n    </tr>\n  </tbody>\n</table>\n<p>48151 rows × 4 columns</p>\n</div>"
     },
     "execution_count": 1,
     "metadata": {},
     "output_type": "execute_result"
    }
   ],
   "source": [
    "import pandas as pd\n",
    "\n",
    "dataset_link = pd.read_csv(r'D:\\Projects\\DigitalTransformation\\01.预备文件与处理\\datas\\下载链接(清洗后).txt',header=None,index_col=None,names=['文件名称', '下载链接'])\n",
    "\n",
    "dataset_link['股票代码'] = dataset_link['文件名称'].apply(lambda x:x.split('-')[0])\n",
    "dataset_link['截止日期'] = dataset_link['文件名称'].apply(lambda x:x.split('-')[1])\n",
    "dataset_link['截止日期'] = dataset_link['截止日期'].astype('int')\n",
    "dataset_link"
   ]
  },
  {
   "cell_type": "code",
   "execution_count": 2,
   "outputs": [
    {
     "data": {
      "text/plain": "              缺失数据    股票代码  截止日期\n0      000008:2022  000008  2022\n1      000012:2022  000012  2022\n2      000016:2022  000016  2022\n3      000017:2022  000017  2022\n4      000020:2022  000020  2022\n...            ...     ...   ...\n10113  900953:2017  900953  2017\n10114  900953:2018  900953  2018\n10115  900953:2019  900953  2019\n10116  900953:2020  900953  2020\n10117  900953:2021  900953  2021\n\n[10118 rows x 3 columns]",
      "text/html": "<div>\n<style scoped>\n    .dataframe tbody tr th:only-of-type {\n        vertical-align: middle;\n    }\n\n    .dataframe tbody tr th {\n        vertical-align: top;\n    }\n\n    .dataframe thead th {\n        text-align: right;\n    }\n</style>\n<table border=\"1\" class=\"dataframe\">\n  <thead>\n    <tr style=\"text-align: right;\">\n      <th></th>\n      <th>缺失数据</th>\n      <th>股票代码</th>\n      <th>截止日期</th>\n    </tr>\n  </thead>\n  <tbody>\n    <tr>\n      <th>0</th>\n      <td>000008:2022</td>\n      <td>000008</td>\n      <td>2022</td>\n    </tr>\n    <tr>\n      <th>1</th>\n      <td>000012:2022</td>\n      <td>000012</td>\n      <td>2022</td>\n    </tr>\n    <tr>\n      <th>2</th>\n      <td>000016:2022</td>\n      <td>000016</td>\n      <td>2022</td>\n    </tr>\n    <tr>\n      <th>3</th>\n      <td>000017:2022</td>\n      <td>000017</td>\n      <td>2022</td>\n    </tr>\n    <tr>\n      <th>4</th>\n      <td>000020:2022</td>\n      <td>000020</td>\n      <td>2022</td>\n    </tr>\n    <tr>\n      <th>...</th>\n      <td>...</td>\n      <td>...</td>\n      <td>...</td>\n    </tr>\n    <tr>\n      <th>10113</th>\n      <td>900953:2017</td>\n      <td>900953</td>\n      <td>2017</td>\n    </tr>\n    <tr>\n      <th>10114</th>\n      <td>900953:2018</td>\n      <td>900953</td>\n      <td>2018</td>\n    </tr>\n    <tr>\n      <th>10115</th>\n      <td>900953:2019</td>\n      <td>900953</td>\n      <td>2019</td>\n    </tr>\n    <tr>\n      <th>10116</th>\n      <td>900953:2020</td>\n      <td>900953</td>\n      <td>2020</td>\n    </tr>\n    <tr>\n      <th>10117</th>\n      <td>900953:2021</td>\n      <td>900953</td>\n      <td>2021</td>\n    </tr>\n  </tbody>\n</table>\n<p>10118 rows × 3 columns</p>\n</div>"
     },
     "execution_count": 2,
     "metadata": {},
     "output_type": "execute_result"
    }
   ],
   "source": [
    "lessset = pd.read_csv(r\"D:\\Projects\\DigitalTransformation\\01.预备文件与处理\\datas\\缺失数据.txt\", index_col=None, header=None,names=['缺失数据'])\n",
    "lessset['股票代码'] = lessset['缺失数据'].apply(lambda x:x.split(':')[0])\n",
    "lessset['截止日期'] = lessset['缺失数据'].apply(lambda x:x.split(':')[1])\n",
    "lessset['截止日期'] = lessset['截止日期'].astype('int')\n",
    "lessset"
   ],
   "metadata": {
    "collapsed": false,
    "ExecuteTime": {
     "end_time": "2023-07-30T07:24:34.535081100Z",
     "start_time": "2023-07-30T07:24:34.508807100Z"
    }
   }
  },
  {
   "cell_type": "code",
   "execution_count": 3,
   "outputs": [
    {
     "data": {
      "text/plain": "              缺失数据    股票代码  截止日期                       文件名称  \\\n0      000008:2022  000008  2022  000008-2022-神州高铁-年度报告.pdf   \n1      000012:2022  000012  2022   000012-2022-南玻Ａ-年度报告.pdf   \n2      000016:2022  000016  2022  000016-2022-深康佳Ａ-年度报告.pdf   \n3      000017:2022  000017  2022  000017-2022-深中华A-年度报告.pdf   \n4      000020:2022  000020  2022  000020-2022-深华发Ａ-年度报告.pdf   \n...            ...     ...   ...                        ...   \n10114  900953:2017  900953  2017   900953-2017-凯马Ｂ-年度报告.pdf   \n10115  900953:2018  900953  2018   900953-2018-凯马Ｂ-年度报告.pdf   \n10116  900953:2019  900953  2019   900953-2019-凯马Ｂ-年度报告.pdf   \n10117  900953:2020  900953  2020   900953-2020-凯马Ｂ-年度报告.pdf   \n10118  900953:2021  900953  2021   900953-2021-凯马Ｂ-年度报告.pdf   \n\n                                                    下载链接  \n0      http://static.cninfo.com.cn/finalpage/2023-04-...  \n1      http://static.cninfo.com.cn/finalpage/2023-04-...  \n2      http://static.cninfo.com.cn/finalpage/2023-03-...  \n3      http://static.cninfo.com.cn/finalpage/2023-04-...  \n4      http://static.cninfo.com.cn/finalpage/2023-04-...  \n...                                                  ...  \n10114  http://static.cninfo.com.cn/finalpage/2018-03-...  \n10115  http://static.cninfo.com.cn/finalpage/2019-04-...  \n10116  http://static.cninfo.com.cn/finalpage/2020-04-...  \n10117  http://static.cninfo.com.cn/finalpage/2021-04-...  \n10118  http://static.cninfo.com.cn/finalpage/2022-04-...  \n\n[10119 rows x 5 columns]",
      "text/html": "<div>\n<style scoped>\n    .dataframe tbody tr th:only-of-type {\n        vertical-align: middle;\n    }\n\n    .dataframe tbody tr th {\n        vertical-align: top;\n    }\n\n    .dataframe thead th {\n        text-align: right;\n    }\n</style>\n<table border=\"1\" class=\"dataframe\">\n  <thead>\n    <tr style=\"text-align: right;\">\n      <th></th>\n      <th>缺失数据</th>\n      <th>股票代码</th>\n      <th>截止日期</th>\n      <th>文件名称</th>\n      <th>下载链接</th>\n    </tr>\n  </thead>\n  <tbody>\n    <tr>\n      <th>0</th>\n      <td>000008:2022</td>\n      <td>000008</td>\n      <td>2022</td>\n      <td>000008-2022-神州高铁-年度报告.pdf</td>\n      <td>http://static.cninfo.com.cn/finalpage/2023-04-...</td>\n    </tr>\n    <tr>\n      <th>1</th>\n      <td>000012:2022</td>\n      <td>000012</td>\n      <td>2022</td>\n      <td>000012-2022-南玻Ａ-年度报告.pdf</td>\n      <td>http://static.cninfo.com.cn/finalpage/2023-04-...</td>\n    </tr>\n    <tr>\n      <th>2</th>\n      <td>000016:2022</td>\n      <td>000016</td>\n      <td>2022</td>\n      <td>000016-2022-深康佳Ａ-年度报告.pdf</td>\n      <td>http://static.cninfo.com.cn/finalpage/2023-03-...</td>\n    </tr>\n    <tr>\n      <th>3</th>\n      <td>000017:2022</td>\n      <td>000017</td>\n      <td>2022</td>\n      <td>000017-2022-深中华A-年度报告.pdf</td>\n      <td>http://static.cninfo.com.cn/finalpage/2023-04-...</td>\n    </tr>\n    <tr>\n      <th>4</th>\n      <td>000020:2022</td>\n      <td>000020</td>\n      <td>2022</td>\n      <td>000020-2022-深华发Ａ-年度报告.pdf</td>\n      <td>http://static.cninfo.com.cn/finalpage/2023-04-...</td>\n    </tr>\n    <tr>\n      <th>...</th>\n      <td>...</td>\n      <td>...</td>\n      <td>...</td>\n      <td>...</td>\n      <td>...</td>\n    </tr>\n    <tr>\n      <th>10114</th>\n      <td>900953:2017</td>\n      <td>900953</td>\n      <td>2017</td>\n      <td>900953-2017-凯马Ｂ-年度报告.pdf</td>\n      <td>http://static.cninfo.com.cn/finalpage/2018-03-...</td>\n    </tr>\n    <tr>\n      <th>10115</th>\n      <td>900953:2018</td>\n      <td>900953</td>\n      <td>2018</td>\n      <td>900953-2018-凯马Ｂ-年度报告.pdf</td>\n      <td>http://static.cninfo.com.cn/finalpage/2019-04-...</td>\n    </tr>\n    <tr>\n      <th>10116</th>\n      <td>900953:2019</td>\n      <td>900953</td>\n      <td>2019</td>\n      <td>900953-2019-凯马Ｂ-年度报告.pdf</td>\n      <td>http://static.cninfo.com.cn/finalpage/2020-04-...</td>\n    </tr>\n    <tr>\n      <th>10117</th>\n      <td>900953:2020</td>\n      <td>900953</td>\n      <td>2020</td>\n      <td>900953-2020-凯马Ｂ-年度报告.pdf</td>\n      <td>http://static.cninfo.com.cn/finalpage/2021-04-...</td>\n    </tr>\n    <tr>\n      <th>10118</th>\n      <td>900953:2021</td>\n      <td>900953</td>\n      <td>2021</td>\n      <td>900953-2021-凯马Ｂ-年度报告.pdf</td>\n      <td>http://static.cninfo.com.cn/finalpage/2022-04-...</td>\n    </tr>\n  </tbody>\n</table>\n<p>10119 rows × 5 columns</p>\n</div>"
     },
     "execution_count": 3,
     "metadata": {},
     "output_type": "execute_result"
    }
   ],
   "source": [
    "dataset_ = pd.merge(lessset, dataset_link, on=['股票代码','截止日期'],how='left')\n",
    "dataset_"
   ],
   "metadata": {
    "collapsed": false,
    "ExecuteTime": {
     "end_time": "2023-07-30T07:24:43.639003200Z",
     "start_time": "2023-07-30T07:24:43.606996800Z"
    }
   }
  },
  {
   "cell_type": "code",
   "execution_count": 5,
   "outputs": [
    {
     "data": {
      "text/plain": "              缺失数据    股票代码  截止日期                       文件名称  \\\n0      000008:2022  000008  2022  000008-2022-神州高铁-年度报告.pdf   \n1      000012:2022  000012  2022   000012-2022-南玻Ａ-年度报告.pdf   \n2      000016:2022  000016  2022  000016-2022-深康佳Ａ-年度报告.pdf   \n3      000017:2022  000017  2022  000017-2022-深中华A-年度报告.pdf   \n4      000020:2022  000020  2022  000020-2022-深华发Ａ-年度报告.pdf   \n...            ...     ...   ...                        ...   \n10114  900953:2017  900953  2017   900953-2017-凯马Ｂ-年度报告.pdf   \n10115  900953:2018  900953  2018   900953-2018-凯马Ｂ-年度报告.pdf   \n10116  900953:2019  900953  2019   900953-2019-凯马Ｂ-年度报告.pdf   \n10117  900953:2020  900953  2020   900953-2020-凯马Ｂ-年度报告.pdf   \n10118  900953:2021  900953  2021   900953-2021-凯马Ｂ-年度报告.pdf   \n\n                                                    下载链接  \n0      http://static.cninfo.com.cn/finalpage/2023-04-...  \n1      http://static.cninfo.com.cn/finalpage/2023-04-...  \n2      http://static.cninfo.com.cn/finalpage/2023-03-...  \n3      http://static.cninfo.com.cn/finalpage/2023-04-...  \n4      http://static.cninfo.com.cn/finalpage/2023-04-...  \n...                                                  ...  \n10114  http://static.cninfo.com.cn/finalpage/2018-03-...  \n10115  http://static.cninfo.com.cn/finalpage/2019-04-...  \n10116  http://static.cninfo.com.cn/finalpage/2020-04-...  \n10117  http://static.cninfo.com.cn/finalpage/2021-04-...  \n10118  http://static.cninfo.com.cn/finalpage/2022-04-...  \n\n[3387 rows x 5 columns]",
      "text/html": "<div>\n<style scoped>\n    .dataframe tbody tr th:only-of-type {\n        vertical-align: middle;\n    }\n\n    .dataframe tbody tr th {\n        vertical-align: top;\n    }\n\n    .dataframe thead th {\n        text-align: right;\n    }\n</style>\n<table border=\"1\" class=\"dataframe\">\n  <thead>\n    <tr style=\"text-align: right;\">\n      <th></th>\n      <th>缺失数据</th>\n      <th>股票代码</th>\n      <th>截止日期</th>\n      <th>文件名称</th>\n      <th>下载链接</th>\n    </tr>\n  </thead>\n  <tbody>\n    <tr>\n      <th>0</th>\n      <td>000008:2022</td>\n      <td>000008</td>\n      <td>2022</td>\n      <td>000008-2022-神州高铁-年度报告.pdf</td>\n      <td>http://static.cninfo.com.cn/finalpage/2023-04-...</td>\n    </tr>\n    <tr>\n      <th>1</th>\n      <td>000012:2022</td>\n      <td>000012</td>\n      <td>2022</td>\n      <td>000012-2022-南玻Ａ-年度报告.pdf</td>\n      <td>http://static.cninfo.com.cn/finalpage/2023-04-...</td>\n    </tr>\n    <tr>\n      <th>2</th>\n      <td>000016:2022</td>\n      <td>000016</td>\n      <td>2022</td>\n      <td>000016-2022-深康佳Ａ-年度报告.pdf</td>\n      <td>http://static.cninfo.com.cn/finalpage/2023-03-...</td>\n    </tr>\n    <tr>\n      <th>3</th>\n      <td>000017:2022</td>\n      <td>000017</td>\n      <td>2022</td>\n      <td>000017-2022-深中华A-年度报告.pdf</td>\n      <td>http://static.cninfo.com.cn/finalpage/2023-04-...</td>\n    </tr>\n    <tr>\n      <th>4</th>\n      <td>000020:2022</td>\n      <td>000020</td>\n      <td>2022</td>\n      <td>000020-2022-深华发Ａ-年度报告.pdf</td>\n      <td>http://static.cninfo.com.cn/finalpage/2023-04-...</td>\n    </tr>\n    <tr>\n      <th>...</th>\n      <td>...</td>\n      <td>...</td>\n      <td>...</td>\n      <td>...</td>\n      <td>...</td>\n    </tr>\n    <tr>\n      <th>10114</th>\n      <td>900953:2017</td>\n      <td>900953</td>\n      <td>2017</td>\n      <td>900953-2017-凯马Ｂ-年度报告.pdf</td>\n      <td>http://static.cninfo.com.cn/finalpage/2018-03-...</td>\n    </tr>\n    <tr>\n      <th>10115</th>\n      <td>900953:2018</td>\n      <td>900953</td>\n      <td>2018</td>\n      <td>900953-2018-凯马Ｂ-年度报告.pdf</td>\n      <td>http://static.cninfo.com.cn/finalpage/2019-04-...</td>\n    </tr>\n    <tr>\n      <th>10116</th>\n      <td>900953:2019</td>\n      <td>900953</td>\n      <td>2019</td>\n      <td>900953-2019-凯马Ｂ-年度报告.pdf</td>\n      <td>http://static.cninfo.com.cn/finalpage/2020-04-...</td>\n    </tr>\n    <tr>\n      <th>10117</th>\n      <td>900953:2020</td>\n      <td>900953</td>\n      <td>2020</td>\n      <td>900953-2020-凯马Ｂ-年度报告.pdf</td>\n      <td>http://static.cninfo.com.cn/finalpage/2021-04-...</td>\n    </tr>\n    <tr>\n      <th>10118</th>\n      <td>900953:2021</td>\n      <td>900953</td>\n      <td>2021</td>\n      <td>900953-2021-凯马Ｂ-年度报告.pdf</td>\n      <td>http://static.cninfo.com.cn/finalpage/2022-04-...</td>\n    </tr>\n  </tbody>\n</table>\n<p>3387 rows × 5 columns</p>\n</div>"
     },
     "execution_count": 5,
     "metadata": {},
     "output_type": "execute_result"
    }
   ],
   "source": [
    "dataset_null = dataset_[~dataset_['下载链接'].isnull()]\n",
    "dataset_null"
   ],
   "metadata": {
    "collapsed": false,
    "ExecuteTime": {
     "end_time": "2023-07-30T07:24:53.330620Z",
     "start_time": "2023-07-30T07:24:53.298205300Z"
    }
   }
  },
  {
   "cell_type": "code",
   "execution_count": null,
   "outputs": [],
   "source": [
    "less = []\n",
    "for row in dataset_null.iterrows():\n",
    "    less.append(row[1]['缺失数据'])\n",
    "with open('./datas/to_download_link.txt','w',encoding='utf8') as f:\n",
    "    f.write('\\n'.join(less))"
   ],
   "metadata": {
    "collapsed": false
   }
  },
  {
   "cell_type": "code",
   "execution_count": 6,
   "outputs": [],
   "source": [
    "to_save = dataset_null[['文件名称','下载链接']]\n",
    "# dataset_null[dataset_null['截止日期']==2022]\n",
    "to_save.to_csv('./datas/缺失pdf下载.txt',encoding='utf8',header=None,index=None)"
   ],
   "metadata": {
    "collapsed": false,
    "ExecuteTime": {
     "end_time": "2023-07-30T07:24:58.308845Z",
     "start_time": "2023-07-30T07:24:58.293596100Z"
    }
   }
  },
  {
   "cell_type": "code",
   "execution_count": null,
   "outputs": [],
   "source": [],
   "metadata": {
    "collapsed": false
   }
  }
 ],
 "metadata": {
  "kernelspec": {
   "display_name": "Python 3",
   "language": "python",
   "name": "python3"
  },
  "language_info": {
   "codemirror_mode": {
    "name": "ipython",
    "version": 2
   },
   "file_extension": ".py",
   "mimetype": "text/x-python",
   "name": "python",
   "nbconvert_exporter": "python",
   "pygments_lexer": "ipython2",
   "version": "2.7.6"
  }
 },
 "nbformat": 4,
 "nbformat_minor": 0
}
