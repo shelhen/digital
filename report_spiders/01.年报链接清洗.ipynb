{
 "cells": [
  {
   "cell_type": "code",
   "execution_count": null,
   "metadata": {
    "collapsed": true
   },
   "outputs": [],
   "source": [
    "import re\n",
    "import pandas as pd\n",
    "pd.options.io.excel.xlsx.writer = 'xlsxwriter'\n",
    "\n",
    "\n",
    "def extrac_year(name):\n",
    "    publish = int(name.split('-')[1])\n",
    "    title = name.split('-')[0]\n",
    "    try:\n",
    "        year = re.search(r'20\\d{2}', title).group(0)\n",
    "    except:\n",
    "        year = publish-1\n",
    "    return year\n",
    "\n",
    "\n",
    "path = r\"D:\\Projects\\DigitalTransformation\\01.预备文件与处理\\datas\\年报链接(未处理).txt\"\n",
    "dataset_ = pd.read_csv(path,index_col=None,header=None,names=['股票代码','截止时间','时间戳','股票简称','素材id','年报标题','下载链接'],dtype={'股票代码':'object'})\n",
    "dataset_.drop_duplicates(subset=['下载链接', '素材id', '股票代码'],inplace=True)\n",
    "\n",
    "dataset_['公布年份'] = dataset_['下载链接'].apply(lambda x:x.split('/')[4][:4])\n",
    "dataset_['年报标题2'] = dataset_['年报标题'] + '-' + dataset_['公布年份']\n",
    "dataset_['年报年份'] = dataset_['年报标题2'].apply(lambda x: extrac_year(x))\n",
    "dataset_['时间戳'] = dataset_['时间戳'].apply(lambda x:int(x)/1e3)\n",
    "dataset_.sort_values(['股票代码','年报年份'],inplace=True)\n",
    "dataset_.reset_index(level=0, inplace=True)\n",
    "dataset_.drop(['index', '年报标题2','公布年份','素材id'], axis=1, inplace=True)\n",
    "dataset_['截止时间'] = dataset_['截止时间'].astype('int')\n",
    "dataset_['年报年份'] = dataset_['年报年份'].astype('int')\n",
    "dataset_ = dataset_[['股票代码', '股票简称', '年报年份', '年报标题', '时间戳', '下载链接']]\n",
    "dataset_"
   ]
  },
  {
   "cell_type": "code",
   "execution_count": null,
   "outputs": [],
   "source": [
    "# 拿到所有链接，初步筛选去除标题名称不符合要求的所有数据\n",
    "delitems = dataset_[(~dataset_['年报标题'].str.contains('年度报'))&(~dataset_['年报标题'].str.contains('年报'))][['年报标题']].index.tolist()\n",
    "dataset = dataset_.drop(list(delitems))\n",
    "dataset"
   ],
   "metadata": {
    "collapsed": false
   }
  },
  {
   "cell_type": "code",
   "execution_count": null,
   "outputs": [],
   "source": [
    "# 删除各年内地修订数据\n",
    "secids=set(dataset['股票代码'].tolist())\n",
    "result=[]\n",
    "def delfun(items):\n",
    "    result_=[]\n",
    "    while len(items) >1:\n",
    "        res_ = {item.split(':')[1]:item.split(':')[0] for item in items}\n",
    "        name_ = min(res_, key=res_.get)\n",
    "        result_.append(int(name_))\n",
    "        items.remove(f\"{res_[name_]}:{name_}\")\n",
    "    return result_\n",
    "\n",
    "for secid in secids:\n",
    "    _dataset = dataset[dataset['股票代码']==secid]\n",
    "    years = set(_dataset['年报年份'].tolist())\n",
    "    for year in years:\n",
    "        res=[]\n",
    "        for idx,row in _dataset.iterrows():\n",
    "            if year == row[2]:\n",
    "                content=f\"{int(row[4])}:{row.name}\"\n",
    "                res.append(content)\n",
    "        if len(res)>1:\n",
    "            result.extend(delfun(res))\n",
    "dataset.drop(list(result),inplace=True)  # sorted(delitems)\n",
    "dataset"
   ],
   "metadata": {
    "collapsed": false
   }
  },
  {
   "cell_type": "code",
   "execution_count": null,
   "outputs": [],
   "source": [
    "# 再次去除重复\n",
    "dataset_.drop_duplicates(subset=['股票代码','年报年份'])\n",
    "# 组装为目标格式\n",
    "dataset['年报年份'] = dataset['年报年份'].astype('str')\n",
    "dataset['title'] = dataset['股票代码'] + '-' + dataset['年报年份'] + '-' + dataset['股票简称'] + '-' +'年度报告.pdf'\n",
    "result = dataset[['title','下载链接']]\n"
   ],
   "metadata": {
    "collapsed": false
   }
  },
  {
   "cell_type": "code",
   "execution_count": null,
   "outputs": [],
   "source": [
    "result.to_csv(r'D:\\Projects\\DigitalTransformation\\01.预备文件与处理\\datas\\下载链接(清洗后).txt', header=None, index=None)"
   ],
   "metadata": {
    "collapsed": false
   }
  },
  {
   "cell_type": "code",
   "execution_count": null,
   "outputs": [],
   "source": [],
   "metadata": {
    "collapsed": false
   }
  }
 ],
 "metadata": {
  "kernelspec": {
   "display_name": "Python 3",
   "language": "python",
   "name": "python3"
  },
  "language_info": {
   "codemirror_mode": {
    "name": "ipython",
    "version": 2
   },
   "file_extension": ".py",
   "mimetype": "text/x-python",
   "name": "python",
   "nbconvert_exporter": "python",
   "pygments_lexer": "ipython2",
   "version": "2.7.6"
  }
 },
 "nbformat": 4,
 "nbformat_minor": 0
}
