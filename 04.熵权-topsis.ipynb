{
 "cells": [
  {
   "cell_type": "code",
   "id": "initial_id",
   "metadata": {
    "collapsed": true,
    "ExecuteTime": {
     "end_time": "2025-03-11T16:27:26.288032Z",
     "start_time": "2025-03-11T16:27:26.007924Z"
    }
   },
   "source": [
    "import warnings\n",
    "import os\n",
    "import pandas as pd\n",
    "from pathlib import Path\n",
    "warnings.filterwarnings('ignore')\n",
    "\n",
    "\n",
    "doc_name = \"熵权-Topsis分析阶段表格数据\"\n",
    "base_path = Path(os.path.abspath('.')) / 'assert'\n",
    "\n",
    "# 是否筛选数字化程度高一点的数据\n",
    "# dataset = dataset[(dataset[\"wufei\"]>0.2)&(dataset[\"zhaochenyv\"]>0.5)&(dataset[\"yuanchun\"]>0.5)&(dataset[\"lishouxi\"]>0.5)&(dataset[\"csmar\"]>10)]\n",
    "dataset = pd.read_csv('./data/制造企业绩效评价数据总表.csv', dtype={\"股票代码\": 'object'})\n",
    "dataset = dataset[dataset['截止日期']==2023].reset_index(drop=True)\n",
    "dataset.drop([\"截止日期\",\"wufei\", \"zhaochenyv\", \"yuanchun\", \"lishouxi\", \"csmar\"], axis=1, inplace=True)\n",
    "print(f\"筛选保留2023年数据{dataset.shape[0]}个。\")"
   ],
   "outputs": [
    {
     "name": "stdout",
     "output_type": "stream",
     "text": [
      "筛选保留2023年数据1515个。\n"
     ]
    }
   ],
   "execution_count": 1
  },
  {
   "metadata": {
    "ExecuteTime": {
     "end_time": "2025-03-11T16:27:28.832451Z",
     "start_time": "2025-03-11T16:27:28.121172Z"
    }
   },
   "cell_type": "code",
   "source": [
    "import numpy as np\n",
    "from sklearn.preprocessing import MinMaxScaler\n",
    "from utils.config import table_translate\n",
    "from utils.config import EvaluationIndicatorTable, pos_indicators\n",
    "\n",
    "\n",
    "data = dataset.copy(deep=True)\n",
    "# 将构建的指标体系转化为表格形式\n",
    "ind_table = pd.DataFrame(EvaluationIndicatorTable)\n",
    "# 计算公式\n",
    "table_translate(ind_table, filename=doc_name, table_name=\"评价指标体系表\")\n",
    "# 指标逆向化\n",
    "for name in pos_indicators:\n",
    "    max_ = data[name].max()\n",
    "    data[name] = data[name].apply(lambda x: max_ - x)\n",
    "\n",
    "un_unit = data[[\"股票代码\", \"股票简称\", '行业代码', '所属省份']].set_index(\"股票简称\")\n",
    "data = data.set_index(\"股票简称\")[ind_table[\"指标层\"].tolist()].astype('float')\n",
    "# 极值标准化\n",
    "scaler = MinMaxScaler()\n",
    "scale = scaler.fit_transform(data)\n",
    "epsilon = 1e-10\n",
    "p, i = scale.shape\n",
    "temp = scale / (scale.sum(axis=0)+epsilon)\n",
    "E = - 1 / np.log(p) * (temp*np.log(temp+epsilon)).sum(axis=0)\n",
    "w = (1-E)/(1 - E).sum()\n",
    "# topsis\n",
    "temp = scale * w\n",
    "_max = temp.max(axis=0)\n",
    "_min = temp.min(axis=0)\n",
    "#  计算到正负理想节解的距离\n",
    "dax = np.sqrt((temp - _max)**2).sum(axis=1)\n",
    "din = np.sqrt((temp - _min)**2).sum(axis=1)\n",
    "score = din/(dax+din)\n",
    "s = scale.sum(axis=1)\n",
    "s = (s-s.min())/(s.max()-s.min())*0.05\n",
    "score = pd.Series(score + s, index=data.index, name='score')\n",
    "data = pd.merge(data, score, left_index=True, right_index=True, how='outer').reset_index()\n",
    "data = pd.merge(un_unit, data,on=[\"股票简称\"], how='outer').sort_values(['股票代码']).reset_index(drop=True)\n",
    "data.to_csv('./data/dataset.csv', index=False)"
   ],
   "id": "797f76f55bf4c7a6",
   "outputs": [],
   "execution_count": 2
  },
  {
   "metadata": {},
   "cell_type": "code",
   "outputs": [],
   "execution_count": null,
   "source": "",
   "id": "5f15d34e6629aed5"
  }
 ],
 "metadata": {
  "kernelspec": {
   "display_name": "Python 3",
   "language": "python",
   "name": "python3"
  },
  "language_info": {
   "codemirror_mode": {
    "name": "ipython",
    "version": 2
   },
   "file_extension": ".py",
   "mimetype": "text/x-python",
   "name": "python",
   "nbconvert_exporter": "python",
   "pygments_lexer": "ipython2",
   "version": "2.7.6"
  }
 },
 "nbformat": 4,
 "nbformat_minor": 5
}
