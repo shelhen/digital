{
 "cells": [
  {
   "cell_type": "code",
   "execution_count": null,
   "id": "initial_id",
   "metadata": {
    "collapsed": true
   },
   "outputs": [],
   "source": [
    "import pandas as pd\n",
    "import numpy as np\n",
    "from sklearn.preprocessing import MinMaxScaler\n",
    "from sklearn.model_selection import train_test_split\n",
    "from sklearn.metrics import mean_squared_error, r2_score, mean_absolute_error\n",
    "\n",
    "\n",
    "rs = 132\n",
    "dataset = pd.read_csv('./data/dataset.csv')\n",
    "dataset.set_index('股票简称', inplace=True)\n",
    "features = [\n",
    "    '净资产收益率(%)', '资产报酬率(%)', 'EBITDA率(%)', '营业利润率(%)', '投入资本回报率(%)', \n",
    "    '资产负债率(%)', '权益乘数(%)', '速动比率(%)', '现金流动负债比率(%)', '长期资本负债率(%)',\n",
    "    '营业收入增长率(%)', '资本保值增值率(%)', '总资产增长率(%)', '资本积累率(%)', '营业利润增长率(%)',\n",
    "    '总资产周转率', '应收账款周转率', '流动资产周转率', '存货周转率', '现金资产比率(%)', \n",
    "    '数字技术应用', '商业模式变革', '智能制造', '现代信息系统',\n",
    "    '客户集中度(%)', '供应商集中度(%)', '成本费用利润率(%)',\n",
    "    '研发人员占比(%)', '研发营收比(%)', '发明专利申请数',\n",
    "    '两权分离率(%)', '独董比例(%)', '董事会规模','股权集中度(%)',\n",
    "    '员工人均营收比(%)', '提供岗位增长率(%)', '员工收入增长率(%)',\n",
    "]\n",
    "label_name = '因子得分'\n",
    "unit_map = dataset[['股票代码', '行业代码', '所属省份']].to_dict()\n",
    "# 获取数据集和标签值\n",
    "y : pd.Series = dataset[label_name]\n",
    "X : pd.DataFrame = dataset[features].copy(deep=True).astype(\"float\")\n",
    "# 数据预处理：1.极差标准化；2.数据集划分。\n",
    "X_train, X_test, y_train, y_test = train_test_split(X, y, test_size=0.2, random_state=rs)\n",
    "scaler = MinMaxScaler()\n",
    "scaler.fit(X_train)\n",
    "\n",
    "X_train_s = scaler.transform(X_train)\n",
    "X_test_s = scaler.transform(X_test)"
   ]
  },
  {
   "metadata": {},
   "cell_type": "code",
   "outputs": [],
   "execution_count": null,
   "source": [
    "from xgboost import XGBRegressor\n",
    "from sklearn.ensemble import RandomForestRegressor\n",
    "from sklearn.linear_model import LinearRegression\n",
    "from sklearn.tree import DecisionTreeRegressor\n",
    "\n",
    "params= {'ccp_alpha': 0.7814179316082759, 'max_depth': 11, 'min_samples_leaf': 1, 'min_samples_split': 2}\n",
    "model = DecisionTreeRegressor(max_features=\"sqrt\", random_state=rs, **params)\n",
    "model.fit(X_train_s, y_train)\n",
    "print(model.score(X_test_s, y_test))\n",
    "params = {\n",
    "    'max_depth': 13,\n",
    "    'max_features': 11,\n",
    "    'min_samples_leaf': 2,\n",
    "    'min_samples_split': 2,\n",
    "    'n_estimators': 7\n",
    "}\n",
    "model = RandomForestRegressor(verbose=0, random_state=rs, **params)\n",
    "model.fit(X_train_s, y_train)\n",
    "print(model.score(X_test_s, y_test))\n",
    "params = {\n",
    "    \"objective\": 'reg:squarederror',\n",
    "    'colsample_bytree': 0.92,\n",
    "    'gamma': 0.1,\n",
    "    'learning_rate': 0.2,\n",
    "    'max_depth': 11, \n",
    "    'min_child_weight': 5,\n",
    "    'n_estimators': 21,\n",
    "    'subsample': 0.5,\n",
    "    \"reg_alpha\": 0,\n",
    "    \"reg_lambda\": 0,\n",
    "    \"scale_pos_weight\": 1\n",
    "}\n",
    "model = XGBRegressor(random_state=rs, **params, n_jobs=-1)\n",
    "model.fit(X_train_s, y_train)\n",
    "print(model.score(X_test_s, y_test))"
   ],
   "id": "cb354626258f461"
  }
 ],
 "metadata": {
  "kernelspec": {
   "display_name": "Python 3",
   "language": "python",
   "name": "python3"
  },
  "language_info": {
   "codemirror_mode": {
    "name": "ipython",
    "version": 2
   },
   "file_extension": ".py",
   "mimetype": "text/x-python",
   "name": "python",
   "nbconvert_exporter": "python",
   "pygments_lexer": "ipython2",
   "version": "2.7.6"
  }
 },
 "nbformat": 4,
 "nbformat_minor": 5
}
