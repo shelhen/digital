{
 "cells": [
  {
   "metadata": {
    "collapsed": true,
    "ExecuteTime": {
     "end_time": "2025-05-30T11:11:36.651306Z",
     "start_time": "2025-05-30T11:11:36.565Z"
    }
   },
   "cell_type": "code",
   "source": [
    "import warnings\n",
    "import pandas as pd\n",
    "from tensorflow.distribute.experimental.rpc.kernels.gen_rpc_ops import rpc_server_start_eager_fallback\n",
    "\n",
    "warnings.filterwarnings('ignore')\n",
    "\n",
    "#29\n",
    "codes = ['C13', 'C14', 'C15', 'C17', 'C18', 'C19', 'C20', 'C21', 'C22', 'C23', 'C24', 'C25', 'C26', 'C27', 'C28', 'C29', 'C30', 'C31', 'C32', 'C33', 'C34', 'C35', 'C36', 'C37', 'C38', 'C39', 'C40', 'C41', 'C42']\n",
    "dataset = pd.read_excel('./data/行业数据/INDFI_BASIS.xlsx',engine=\"openpyxl\", skiprows=[0, 2], dtype={'证券代码': 'object'}, parse_dates=[\"统计截止日期\"])\n",
    "dataset[\"统计截止日期\"] = dataset[\"统计截止日期\"].dt.year\n",
    "dataset = dataset[(dataset[\"期初/期末值标识\"]==1)&(dataset[\"行业代码\"].isin(codes))]\n",
    "dataset = dataset[dataset[\"统计截止日期\"]<2024]\n",
    "dataset.fillna(0, inplace=True)\n",
    "dataset"
   ],
   "id": "initial_id",
   "outputs": [
    {
     "ename": "ImportError",
     "evalue": "dlopen(/Users/xieheng/projects/envs/digital/lib/python3.9/site-packages/tensorflow/python/platform/_pywrap_cpu_feature_guard.so, 0x0002): Library not loaded: @rpath/libtensorflow_cc.2.dylib\n  Referenced from: <2A053E7E-6DBA-37C2-A28E-1D52A5836870> /Users/xieheng/projects/envs/digital/lib/python3.9/site-packages/tensorflow/python/_pywrap_tensorflow_internal.so\n  Reason: tried: '/Users/xieheng/projects/envs/digital/lib/python3.9/site-packages/tensorflow/python/../../_solib_darwin_arm64/_U_S_Stensorflow_Spython_C_Upywrap_Utensorflow_Uinternal.so_Ucclib___Utensorflow/libtensorflow_cc.2.dylib' (no such file), '/Users/xieheng/projects/envs/digital/lib/python3.9/site-packages/tensorflow/python/_pywrap_tensorflow_internal.so.runfiles/org_tensorflow/_solib_darwin_arm64/_U_S_Stensorflow_Spython_C_Upywrap_Utensorflow_Uinternal.so_Ucclib___Utensorflow/libtensorflow_cc.2.dylib' (no such file), '/Users/xieheng/projects/envs/digital/lib/python3.9/site-packages/tensorflow/python/../../_solib_darwin_arm64/_Utensorflow/libtensorflow_cc.2.dylib' (no such file), '/Users/xieheng/projects/envs/digital/lib/python3.9/site-packages/tensorflow/python/_pywrap_tensorflow_internal.so.runfiles/org_tensorflow/_solib_darwin_arm64/_Utensorflow/libtensorflow_cc.2.dylib' (no such file), '/Users/xieheng/projects/envs/digital/lib/python3.9/site-packages/tensorflow/python/libtensorflow_cc.2.dylib' (no such file), '/Users/xieheng/projects/envs/digital/lib/python3.9/site-packages/tensorflow/python/../libtensorflow_cc.2.dylib' (no such file), '/Users/xieheng/projects/envs/digital/lib/python3.9/site-packages/tensorflow/python/platform/../../../_solib_darwin_arm64/_U_S_Stensorflow_Clibtensorflow_Uframework_Uimport_Ulib___Utensorflow/libtensorflow_cc.2.dylib' (no such file), '/Users/xieheng/projects/envs/digital/lib/python3.9/site-packages/tensorflow/python/platform/_pywrap_cpu_feature_guard.so.runfiles/org_tensorflow/_solib_darwin_arm64/_U_S_Stensorflow_Clibtensorflow_Uframework_Uimport_Ulib___Utensorflow/libtensorflow_cc.2.dylib' (no such file), '/Users/xieheng/projects/envs/digital/lib/python3.9/site-packages/tensorflow/python/platform/../../../_solib_darwin_arm64/_U_S_Stensorflow_Spython_C_Upywrap_Utensorflow_Uinternal_Umacos___Utensorflow_Spython/libtensorflow_cc.2.dylib' (no such file), '/Users/xieheng/projects/envs/digital/lib/python3.9/site-packages/tensorflow/python/platform/_pywrap_cpu_feature_guard.so.runfiles/org_tensorflow/_solib_darwin_arm64/_U_S_Stensorflow_Spython_C_Upywrap_Utensorflow_Uinternal_Umacos___Utensorflow_Spython/libtensorflow_cc.2.dylib' (no such file), '/Users/xieheng/projects/envs/digital/lib/python3.9/site-packages/tensorflow/python/platform/libtensorflow_cc.2.dylib' (no such file), '/Users/xieheng/projects/envs/digital/lib/python3.9/site-packages/tensorflow/python/platform/../libtensorflow_cc.2.dylib' (no such file), '/Users/xieheng/projects/envs/digital/lib/python3.9/site-packages/tensorflow/python/platform/../../libtensorflow_cc.2.dylib' (no such file), '/Users/xieheng/projects/envs/digital/lib/python3.9/site-packages/tensorflow/python/platform/../../../_solib_darwin_arm64/_U_S_Stensorflow_Clibtensorflow_Uframework_Uimport_Ulib___Utensorflow/libtensorflow_cc.2.dylib' (no such file), '/Users/xieheng/projects/envs/digital/lib/python3.9/site-packages/tensorflow/python/platform/_pywrap_cpu_feature_guard.so.runfiles/org_tensorflow/_solib_darwin_arm64/_U_S_Stensorflow_Clibtensorflow_Uframework_Uimport_Ulib___Utensorflow/libtensorflow_cc.2.dylib' (no such file), '/Users/xieheng/projects/envs/digital/lib/python3.9/site-packages/tensorflow/python/platform/../../../_solib_darwin_arm64/_U_S_Stensorflow_Spython_C_Upywrap_Utensorflow_Uinternal_Umacos___Utensorflow_Spython/libtensorflow_cc.2.dylib' (no such file), '/Users/xieheng/projects/envs/digital/lib/python3.9/site-packages/tensorflow/python/platform/_pywrap_cpu_feature_guard.so.runfiles/org_tensorflow/_solib_darwin_arm64/_U_S_Stensorflow_Spython_C_Upywrap_Utensorflow_Uinternal_Umacos___Utensorflow_Spython/libtensorflow_cc.2.dylib' (no such file), '/Users/xieheng/projects/envs/digital/lib/python3.9/site-packages/tensorflow/python/platform/libtensorflow_cc.2.dylib' (no such file), '/Users/xieheng/projects/envs/digital/lib/python3.9/site-packages/tensorflow/python/platform/../libtensorflow_cc.2.dylib' (no such file), '/Users/xieheng/projects/envs/digital/lib/python3.9/site-packages/tensorflow/python/platform/../../libtensorflow_cc.2.dylib' (no such file), '/opt/homebrew/lib/libtensorflow_cc.2.dylib' (no such file), '/System/Volumes/Preboot/Cryptexes/OS/opt/homebrew/lib/libtensorflow_cc.2.dylib' (no such file), '/opt/homebrew/lib/libtensorflow_cc.2.dylib' (no such file), '/System/Volumes/Preboot/Cryptexes/OS/opt/homebrew/lib/libtensorflow_cc.2.dylib' (no such file), '/usr/local/lib/libtensorflow_cc.2.dylib' (no such file), '/usr/lib/libtensorflow_cc.2.dylib' (no such file, not in dyld cache)",
     "output_type": "error",
     "traceback": [
      "\u001B[0;31m---------------------------------------------------------------------------\u001B[0m",
      "\u001B[0;31mImportError\u001B[0m                               Traceback (most recent call last)",
      "Cell \u001B[0;32mIn[2], line 3\u001B[0m\n\u001B[1;32m      1\u001B[0m \u001B[38;5;28;01mimport\u001B[39;00m\u001B[38;5;250m \u001B[39m\u001B[38;5;21;01mwarnings\u001B[39;00m\n\u001B[1;32m      2\u001B[0m \u001B[38;5;28;01mimport\u001B[39;00m\u001B[38;5;250m \u001B[39m\u001B[38;5;21;01mpandas\u001B[39;00m\u001B[38;5;250m \u001B[39m\u001B[38;5;28;01mas\u001B[39;00m\u001B[38;5;250m \u001B[39m\u001B[38;5;21;01mpd\u001B[39;00m\n\u001B[0;32m----> 3\u001B[0m \u001B[38;5;28;01mfrom\u001B[39;00m\u001B[38;5;250m \u001B[39m\u001B[38;5;21;01mtensorflow\u001B[39;00m\u001B[38;5;21;01m.\u001B[39;00m\u001B[38;5;21;01mdistribute\u001B[39;00m\u001B[38;5;21;01m.\u001B[39;00m\u001B[38;5;21;01mexperimental\u001B[39;00m\u001B[38;5;21;01m.\u001B[39;00m\u001B[38;5;21;01mrpc\u001B[39;00m\u001B[38;5;21;01m.\u001B[39;00m\u001B[38;5;21;01mkernels\u001B[39;00m\u001B[38;5;21;01m.\u001B[39;00m\u001B[38;5;21;01mgen_rpc_ops\u001B[39;00m\u001B[38;5;250m \u001B[39m\u001B[38;5;28;01mimport\u001B[39;00m rpc_server_start_eager_fallback\n\u001B[1;32m      5\u001B[0m warnings\u001B[38;5;241m.\u001B[39mfilterwarnings(\u001B[38;5;124m'\u001B[39m\u001B[38;5;124mignore\u001B[39m\u001B[38;5;124m'\u001B[39m)\n\u001B[1;32m      7\u001B[0m \u001B[38;5;66;03m#29\u001B[39;00m\n",
      "File \u001B[0;32m~/projects/envs/digital/lib/python3.9/site-packages/tensorflow/__init__.py:40\u001B[0m\n\u001B[1;32m     37\u001B[0m _os\u001B[38;5;241m.\u001B[39menviron\u001B[38;5;241m.\u001B[39msetdefault(\u001B[38;5;124m\"\u001B[39m\u001B[38;5;124mENABLE_RUNTIME_UPTIME_TELEMETRY\u001B[39m\u001B[38;5;124m\"\u001B[39m, \u001B[38;5;124m\"\u001B[39m\u001B[38;5;124m1\u001B[39m\u001B[38;5;124m\"\u001B[39m)\n\u001B[1;32m     39\u001B[0m \u001B[38;5;66;03m# Do not remove this line; See https://github.com/tensorflow/tensorflow/issues/42596\u001B[39;00m\n\u001B[0;32m---> 40\u001B[0m \u001B[38;5;28;01mfrom\u001B[39;00m\u001B[38;5;250m \u001B[39m\u001B[38;5;21;01mtensorflow\u001B[39;00m\u001B[38;5;21;01m.\u001B[39;00m\u001B[38;5;21;01mpython\u001B[39;00m\u001B[38;5;250m \u001B[39m\u001B[38;5;28;01mimport\u001B[39;00m pywrap_tensorflow \u001B[38;5;28;01mas\u001B[39;00m _pywrap_tensorflow  \u001B[38;5;66;03m# pylint: disable=unused-import\u001B[39;00m\n\u001B[1;32m     41\u001B[0m \u001B[38;5;28;01mfrom\u001B[39;00m\u001B[38;5;250m \u001B[39m\u001B[38;5;21;01mtensorflow\u001B[39;00m\u001B[38;5;21;01m.\u001B[39;00m\u001B[38;5;21;01mpython\u001B[39;00m\u001B[38;5;21;01m.\u001B[39;00m\u001B[38;5;21;01mtools\u001B[39;00m\u001B[38;5;250m \u001B[39m\u001B[38;5;28;01mimport\u001B[39;00m module_util \u001B[38;5;28;01mas\u001B[39;00m _module_util\n\u001B[1;32m     42\u001B[0m \u001B[38;5;28;01mfrom\u001B[39;00m\u001B[38;5;250m \u001B[39m\u001B[38;5;21;01mtensorflow\u001B[39;00m\u001B[38;5;21;01m.\u001B[39;00m\u001B[38;5;21;01mpython\u001B[39;00m\u001B[38;5;21;01m.\u001B[39;00m\u001B[38;5;21;01mutil\u001B[39;00m\u001B[38;5;21;01m.\u001B[39;00m\u001B[38;5;21;01mlazy_loader\u001B[39;00m\u001B[38;5;250m \u001B[39m\u001B[38;5;28;01mimport\u001B[39;00m KerasLazyLoader \u001B[38;5;28;01mas\u001B[39;00m _KerasLazyLoader\n",
      "File \u001B[0;32m~/projects/envs/digital/lib/python3.9/site-packages/tensorflow/python/pywrap_tensorflow.py:34\u001B[0m\n\u001B[1;32m     29\u001B[0m \u001B[38;5;28;01mfrom\u001B[39;00m\u001B[38;5;250m \u001B[39m\u001B[38;5;21;01mtensorflow\u001B[39;00m\u001B[38;5;21;01m.\u001B[39;00m\u001B[38;5;21;01mpython\u001B[39;00m\u001B[38;5;21;01m.\u001B[39;00m\u001B[38;5;21;01mplatform\u001B[39;00m\u001B[38;5;250m \u001B[39m\u001B[38;5;28;01mimport\u001B[39;00m self_check\n\u001B[1;32m     31\u001B[0m \u001B[38;5;66;03m# TODO(mdan): Cleanup antipattern: import for side effects.\u001B[39;00m\n\u001B[1;32m     32\u001B[0m \n\u001B[1;32m     33\u001B[0m \u001B[38;5;66;03m# Perform pre-load sanity checks in order to produce a more actionable error.\u001B[39;00m\n\u001B[0;32m---> 34\u001B[0m \u001B[43mself_check\u001B[49m\u001B[38;5;241;43m.\u001B[39;49m\u001B[43mpreload_check\u001B[49m\u001B[43m(\u001B[49m\u001B[43m)\u001B[49m\n\u001B[1;32m     36\u001B[0m \u001B[38;5;66;03m# pylint: disable=wildcard-import,g-import-not-at-top,unused-import,line-too-long\u001B[39;00m\n\u001B[1;32m     38\u001B[0m \u001B[38;5;28;01mtry\u001B[39;00m:\n\u001B[1;32m     39\u001B[0m   \u001B[38;5;66;03m# This import is expected to fail if there is an explicit shared object\u001B[39;00m\n\u001B[1;32m     40\u001B[0m   \u001B[38;5;66;03m# dependency (with_framework_lib=true), since we do not need RTLD_GLOBAL.\u001B[39;00m\n",
      "File \u001B[0;32m~/projects/envs/digital/lib/python3.9/site-packages/tensorflow/python/platform/self_check.py:63\u001B[0m, in \u001B[0;36mpreload_check\u001B[0;34m()\u001B[0m\n\u001B[1;32m     50\u001B[0m       \u001B[38;5;28;01mraise\u001B[39;00m \u001B[38;5;167;01mImportError\u001B[39;00m(\n\u001B[1;32m     51\u001B[0m           \u001B[38;5;124m\"\u001B[39m\u001B[38;5;124mCould not find the DLL(s) \u001B[39m\u001B[38;5;132;01m%r\u001B[39;00m\u001B[38;5;124m. TensorFlow requires that these DLLs \u001B[39m\u001B[38;5;124m\"\u001B[39m\n\u001B[1;32m     52\u001B[0m           \u001B[38;5;124m\"\u001B[39m\u001B[38;5;124mbe installed in a directory that is named in your \u001B[39m\u001B[38;5;132;01m%%\u001B[39;00m\u001B[38;5;124mPATH\u001B[39m\u001B[38;5;132;01m%%\u001B[39;00m\u001B[38;5;124m \u001B[39m\u001B[38;5;124m\"\u001B[39m\n\u001B[0;32m   (...)\u001B[0m\n\u001B[1;32m     56\u001B[0m           \u001B[38;5;124m\"\u001B[39m\u001B[38;5;124mhttps://support.microsoft.com/help/2977003/the-latest-supported-visual-c-downloads\u001B[39m\u001B[38;5;124m\"\u001B[39m\n\u001B[1;32m     57\u001B[0m           \u001B[38;5;241m%\u001B[39m \u001B[38;5;124m\"\u001B[39m\u001B[38;5;124m or \u001B[39m\u001B[38;5;124m\"\u001B[39m\u001B[38;5;241m.\u001B[39mjoin(missing))\n\u001B[1;32m     58\u001B[0m \u001B[38;5;28;01melse\u001B[39;00m:\n\u001B[1;32m     59\u001B[0m   \u001B[38;5;66;03m# Load a library that performs CPU feature guard checking.  Doing this here\u001B[39;00m\n\u001B[1;32m     60\u001B[0m   \u001B[38;5;66;03m# as a preload check makes it more likely that we detect any CPU feature\u001B[39;00m\n\u001B[1;32m     61\u001B[0m   \u001B[38;5;66;03m# incompatibilities before we trigger them (which would typically result in\u001B[39;00m\n\u001B[1;32m     62\u001B[0m   \u001B[38;5;66;03m# SIGILL).\u001B[39;00m\n\u001B[0;32m---> 63\u001B[0m   \u001B[38;5;28;01mfrom\u001B[39;00m\u001B[38;5;250m \u001B[39m\u001B[38;5;21;01mtensorflow\u001B[39;00m\u001B[38;5;21;01m.\u001B[39;00m\u001B[38;5;21;01mpython\u001B[39;00m\u001B[38;5;21;01m.\u001B[39;00m\u001B[38;5;21;01mplatform\u001B[39;00m\u001B[38;5;250m \u001B[39m\u001B[38;5;28;01mimport\u001B[39;00m _pywrap_cpu_feature_guard\n\u001B[1;32m     64\u001B[0m   _pywrap_cpu_feature_guard\u001B[38;5;241m.\u001B[39mInfoAboutUnusedCPUFeatures()\n",
      "\u001B[0;31mImportError\u001B[0m: dlopen(/Users/xieheng/projects/envs/digital/lib/python3.9/site-packages/tensorflow/python/platform/_pywrap_cpu_feature_guard.so, 0x0002): Library not loaded: @rpath/libtensorflow_cc.2.dylib\n  Referenced from: <2A053E7E-6DBA-37C2-A28E-1D52A5836870> /Users/xieheng/projects/envs/digital/lib/python3.9/site-packages/tensorflow/python/_pywrap_tensorflow_internal.so\n  Reason: tried: '/Users/xieheng/projects/envs/digital/lib/python3.9/site-packages/tensorflow/python/../../_solib_darwin_arm64/_U_S_Stensorflow_Spython_C_Upywrap_Utensorflow_Uinternal.so_Ucclib___Utensorflow/libtensorflow_cc.2.dylib' (no such file), '/Users/xieheng/projects/envs/digital/lib/python3.9/site-packages/tensorflow/python/_pywrap_tensorflow_internal.so.runfiles/org_tensorflow/_solib_darwin_arm64/_U_S_Stensorflow_Spython_C_Upywrap_Utensorflow_Uinternal.so_Ucclib___Utensorflow/libtensorflow_cc.2.dylib' (no such file), '/Users/xieheng/projects/envs/digital/lib/python3.9/site-packages/tensorflow/python/../../_solib_darwin_arm64/_Utensorflow/libtensorflow_cc.2.dylib' (no such file), '/Users/xieheng/projects/envs/digital/lib/python3.9/site-packages/tensorflow/python/_pywrap_tensorflow_internal.so.runfiles/org_tensorflow/_solib_darwin_arm64/_Utensorflow/libtensorflow_cc.2.dylib' (no such file), '/Users/xieheng/projects/envs/digital/lib/python3.9/site-packages/tensorflow/python/libtensorflow_cc.2.dylib' (no such file), '/Users/xieheng/projects/envs/digital/lib/python3.9/site-packages/tensorflow/python/../libtensorflow_cc.2.dylib' (no such file), '/Users/xieheng/projects/envs/digital/lib/python3.9/site-packages/tensorflow/python/platform/../../../_solib_darwin_arm64/_U_S_Stensorflow_Clibtensorflow_Uframework_Uimport_Ulib___Utensorflow/libtensorflow_cc.2.dylib' (no such file), '/Users/xieheng/projects/envs/digital/lib/python3.9/site-packages/tensorflow/python/platform/_pywrap_cpu_feature_guard.so.runfiles/org_tensorflow/_solib_darwin_arm64/_U_S_Stensorflow_Clibtensorflow_Uframework_Uimport_Ulib___Utensorflow/libtensorflow_cc.2.dylib' (no such file), '/Users/xieheng/projects/envs/digital/lib/python3.9/site-packages/tensorflow/python/platform/../../../_solib_darwin_arm64/_U_S_Stensorflow_Spython_C_Upywrap_Utensorflow_Uinternal_Umacos___Utensorflow_Spython/libtensorflow_cc.2.dylib' (no such file), '/Users/xieheng/projects/envs/digital/lib/python3.9/site-packages/tensorflow/python/platform/_pywrap_cpu_feature_guard.so.runfiles/org_tensorflow/_solib_darwin_arm64/_U_S_Stensorflow_Spython_C_Upywrap_Utensorflow_Uinternal_Umacos___Utensorflow_Spython/libtensorflow_cc.2.dylib' (no such file), '/Users/xieheng/projects/envs/digital/lib/python3.9/site-packages/tensorflow/python/platform/libtensorflow_cc.2.dylib' (no such file), '/Users/xieheng/projects/envs/digital/lib/python3.9/site-packages/tensorflow/python/platform/../libtensorflow_cc.2.dylib' (no such file), '/Users/xieheng/projects/envs/digital/lib/python3.9/site-packages/tensorflow/python/platform/../../libtensorflow_cc.2.dylib' (no such file), '/Users/xieheng/projects/envs/digital/lib/python3.9/site-packages/tensorflow/python/platform/../../../_solib_darwin_arm64/_U_S_Stensorflow_Clibtensorflow_Uframework_Uimport_Ulib___Utensorflow/libtensorflow_cc.2.dylib' (no such file), '/Users/xieheng/projects/envs/digital/lib/python3.9/site-packages/tensorflow/python/platform/_pywrap_cpu_feature_guard.so.runfiles/org_tensorflow/_solib_darwin_arm64/_U_S_Stensorflow_Clibtensorflow_Uframework_Uimport_Ulib___Utensorflow/libtensorflow_cc.2.dylib' (no such file), '/Users/xieheng/projects/envs/digital/lib/python3.9/site-packages/tensorflow/python/platform/../../../_solib_darwin_arm64/_U_S_Stensorflow_Spython_C_Upywrap_Utensorflow_Uinternal_Umacos___Utensorflow_Spython/libtensorflow_cc.2.dylib' (no such file), '/Users/xieheng/projects/envs/digital/lib/python3.9/site-packages/tensorflow/python/platform/_pywrap_cpu_feature_guard.so.runfiles/org_tensorflow/_solib_darwin_arm64/_U_S_Stensorflow_Spython_C_Upywrap_Utensorflow_Uinternal_Umacos___Utensorflow_Spython/libtensorflow_cc.2.dylib' (no such file), '/Users/xieheng/projects/envs/digital/lib/python3.9/site-packages/tensorflow/python/platform/libtensorflow_cc.2.dylib' (no such file), '/Users/xieheng/projects/envs/digital/lib/python3.9/site-packages/tensorflow/python/platform/../libtensorflow_cc.2.dylib' (no such file), '/Users/xieheng/projects/envs/digital/lib/python3.9/site-packages/tensorflow/python/platform/../../libtensorflow_cc.2.dylib' (no such file), '/opt/homebrew/lib/libtensorflow_cc.2.dylib' (no such file), '/System/Volumes/Preboot/Cryptexes/OS/opt/homebrew/lib/libtensorflow_cc.2.dylib' (no such file), '/opt/homebrew/lib/libtensorflow_cc.2.dylib' (no such file), '/System/Volumes/Preboot/Cryptexes/OS/opt/homebrew/lib/libtensorflow_cc.2.dylib' (no such file), '/usr/local/lib/libtensorflow_cc.2.dylib' (no such file), '/usr/lib/libtensorflow_cc.2.dylib' (no such file, not in dyld cache)"
     ]
    }
   ],
   "execution_count": 2
  },
  {
   "metadata": {
    "ExecuteTime": {
     "end_time": "2025-05-30T11:11:45.673149Z",
     "start_time": "2025-05-30T11:11:45.658715Z"
    }
   },
   "cell_type": "code",
   "source": [
    "data = dataset[(dataset[\"市场类型\"]==5)&(dataset[\"是否剔除当年新上市或被暂停上市的公司\"]==1)&(dataset[\"是否剔除ST或*ST股\"]==1)]\n",
    "data = data[data[\"统计截止日期\"]>2016]\n",
    "data = data[[\"行业名称\",\"统计截止日期\", \"行业内公司总数\", \"行业资产总计\",\"行业负债合计\",\"行业营业收入\",\"行业净利润\",\"行业市值A\"]].reset_index(drop=True)\n",
    "dt23 = data[data[\"统计截止日期\"]==2023]\n",
    "# data.groupby([\"行业名称\", \"统计截止日期\"])\n",
    "# data.set_index(\"行业名称\", inplace=True)\n",
    "# dt23.sort_values(\"行业内公司总数\",ascending=False).iloc[:10]\n",
    "\n",
    "print(f\"我国上市制造业共计3593家，其中深沪主板上市{sum(dt23['行业内公司总数'])}，营业总收入达到{sum(dt23['行业营业收入'])/1e12:.3f}万亿元，总市值达到{sum(dt23['行业市值A'])/1e12:.3f}\")\n",
    "# print()\n"
   ],
   "id": "56a36a3fdf71d606",
   "outputs": [
    {
     "ename": "NameError",
     "evalue": "name 'dataset' is not defined",
     "output_type": "error",
     "traceback": [
      "\u001B[0;31m---------------------------------------------------------------------------\u001B[0m",
      "\u001B[0;31mNameError\u001B[0m                                 Traceback (most recent call last)",
      "Cell \u001B[0;32mIn[3], line 1\u001B[0m\n\u001B[0;32m----> 1\u001B[0m data \u001B[38;5;241m=\u001B[39m \u001B[43mdataset\u001B[49m[(dataset[\u001B[38;5;124m\"\u001B[39m\u001B[38;5;124m市场类型\u001B[39m\u001B[38;5;124m\"\u001B[39m]\u001B[38;5;241m==\u001B[39m\u001B[38;5;241m5\u001B[39m)\u001B[38;5;241m&\u001B[39m(dataset[\u001B[38;5;124m\"\u001B[39m\u001B[38;5;124m是否剔除当年新上市或被暂停上市的公司\u001B[39m\u001B[38;5;124m\"\u001B[39m]\u001B[38;5;241m==\u001B[39m\u001B[38;5;241m1\u001B[39m)\u001B[38;5;241m&\u001B[39m(dataset[\u001B[38;5;124m\"\u001B[39m\u001B[38;5;124m是否剔除ST或*ST股\u001B[39m\u001B[38;5;124m\"\u001B[39m]\u001B[38;5;241m==\u001B[39m\u001B[38;5;241m1\u001B[39m)]\n\u001B[1;32m      2\u001B[0m data \u001B[38;5;241m=\u001B[39m data[data[\u001B[38;5;124m\"\u001B[39m\u001B[38;5;124m统计截止日期\u001B[39m\u001B[38;5;124m\"\u001B[39m]\u001B[38;5;241m>\u001B[39m\u001B[38;5;241m2016\u001B[39m]\n\u001B[1;32m      3\u001B[0m data \u001B[38;5;241m=\u001B[39m data[[\u001B[38;5;124m\"\u001B[39m\u001B[38;5;124m行业名称\u001B[39m\u001B[38;5;124m\"\u001B[39m,\u001B[38;5;124m\"\u001B[39m\u001B[38;5;124m统计截止日期\u001B[39m\u001B[38;5;124m\"\u001B[39m, \u001B[38;5;124m\"\u001B[39m\u001B[38;5;124m行业内公司总数\u001B[39m\u001B[38;5;124m\"\u001B[39m, \u001B[38;5;124m\"\u001B[39m\u001B[38;5;124m行业资产总计\u001B[39m\u001B[38;5;124m\"\u001B[39m,\u001B[38;5;124m\"\u001B[39m\u001B[38;5;124m行业负债合计\u001B[39m\u001B[38;5;124m\"\u001B[39m,\u001B[38;5;124m\"\u001B[39m\u001B[38;5;124m行业营业收入\u001B[39m\u001B[38;5;124m\"\u001B[39m,\u001B[38;5;124m\"\u001B[39m\u001B[38;5;124m行业净利润\u001B[39m\u001B[38;5;124m\"\u001B[39m,\u001B[38;5;124m\"\u001B[39m\u001B[38;5;124m行业市值A\u001B[39m\u001B[38;5;124m\"\u001B[39m]]\u001B[38;5;241m.\u001B[39mreset_index(drop\u001B[38;5;241m=\u001B[39m\u001B[38;5;28;01mTrue\u001B[39;00m)\n",
      "\u001B[0;31mNameError\u001B[0m: name 'dataset' is not defined"
     ]
    }
   ],
   "execution_count": 3
  },
  {
   "metadata": {
    "ExecuteTime": {
     "end_time": "2025-05-30T11:11:49.022073Z",
     "start_time": "2025-05-30T11:11:48.903736Z"
    }
   },
   "cell_type": "code",
   "source": [
    "import seaborn as sns\n",
    "import numpy as np\n",
    "import matplotlib.pyplot as plt\n",
    "from utils.methods import feature_importance_plot\n",
    "#  'SimSun', # 'SimSun' 为宋体\n",
    "sns.set(context='notebook', style='ticks', font_scale=1.1)\n",
    "sns.set_style(\"ticks\", {'axes.grid':True, \"grid.color\": \".6\", \"grid.linestyle\": \":\"})\n",
    "plt.rcParams['font.family'] = ['Times New Roman','Heiti TC', 'Heiti TC',] \n",
    "plt.rcParams['axes.unicode_minus'] = False  # 解决负号显示问题\n",
    "\n",
    "fig, axes = plt.subplots(nrows=1, ncols=2, figsize=(10, 4), dpi=300)\n",
    "temp = data.groupby(\"统计截止日期\").sum()\n",
    "temp[\"GPD增速\"] = [6.94720079331685,6.7497738324959,5.95050075367413,2.23863835634639,8.44846941687277,2.95066992959268,5.24955786387791]\n",
    "temp[\"GPD增速\"] = temp[\"GPD增速\"]\n",
    "temp[\"总收入复合增长率\"] = temp[\"行业营业收入\"] / temp[\"行业营业收入\"].shift(1)  -1\n",
    "temp[\"净利润率\"] = temp[\"行业净利润\"]/temp[\"行业营业收入\"]*100\n",
    "temp[\"净利润同比增速\"] = temp[\"行业净利润\"].pct_change(periods=1) * 100\n",
    "total = temp[temp.index>2017]\n",
    "inedxs = [f\"{year}年\" for year in total.index]\n",
    "axes[0].set_title('沪深A股上市制造业总市值及总资产变化情况图（亿元）', fontsize=14)\n",
    "rects = axes[0].bar(total.index-0.15, total[\"行业市值A\"]/1e8, label=\"总市值\", width=0.5, color=\"b\")\n",
    "axes[0].bar_label(rects, padding=3)\n",
    "rects = axes[0].bar(total.index+0.15, total[\"行业资产总计\"]/1e8, label=\"总资产\", width=0.5,color=\"r\")\n",
    "axes[0].bar_label(rects, padding=3)\n",
    "axes[0].set_ylim([0, 450000])\n",
    "axes[0].set_xlim([2017, 2024])\n",
    "axes[0].set_xticks(total.index)\n",
    "axes[0].set_xticklabels(inedxs, fontsize=12)\n",
    "axes[0].legend(loc=(0.05, 0.76), ncols=1,frameon=False)  # \n",
    "axes[1].set_title('沪深A股上市制造业总收入变化情况图（亿元）', fontsize=14)\n",
    "\n",
    "rects = axes[1].bar(inedxs, total[\"行业营业收入\"]/1e8, label=\"总营业收入\",width=0.6,color=\"b\")\n",
    "axes[1].bar_label(rects, padding=3)\n",
    "axes[1].set_ylim([0, 300000])\n",
    "ax2 = axes[1].twinx()\n",
    "# ax2.plot(inedxs, temp[\"行业营业收入\"].pct_change(periods=1, fill_method='pad', limit=None, freq=None, axis=0)[1:],c=\"#D1885C\",linewidth=2,marker='o',)\n",
    "ax2.plot(inedxs,total[\"总收入复合增长率\"]*100,c=\"#7C7A7D\",linewidth=2,marker='o',label=\"总收入复合增速\")\n",
    "ax2.plot(inedxs, total[\"GPD增速\"],c=\"r\",linewidth=2,marker='o',label=\"GPD增速\")\n",
    "ax2.set_ylim([0, 30])\n",
    "ax2.set_yticklabels([f\"{value}%\" for value in ax2.get_yticks()], fontsize=12)\n",
    "ax2.legend(loc=(0.05, 0.76), ncols=1, frameon=False)\n",
    "\n",
    "# axes[1].set_title('沪深A股上市制造业资产总利润变化情况图（亿元）', fontsize=14)\n",
    "# rects = axes[1].bar(inedxs, total[\"行业净利润\"]/1e8, label=\"总利润\",width=0.6)\n",
    "# axes[1].bar_label(rects, padding=3)\n",
    "# axes[1].set_ylim([0, 18000])\n",
    "# ax3 = axes[1].twinx()\n",
    "# ax3.plot(inedxs,total[\"净利润率\"],c=\"#7C7A7D\",linewidth=2,marker='o',label=\"净利润率\")\n",
    "# ax3.plot(inedxs, total[\"净利润同比增速\"],c=\"r\",linewidth=2,marker='o',label=\"同比增速\")\n",
    "# ax3.set_ylim([-15, 38])\n",
    "# ax3.set_yticklabels([f\"{value}%\" for value in ax3.get_yticks()], fontsize=12)\n",
    "# ax3.legend(loc=(0.05, 0.76), ncols=1, frameon=False)\n",
    "\n",
    "# axes[1, 1].set_title('沪深A股上市制造业总数量变化情况图（个）', fontsize=14)\n",
    "# rects =axes[1, 1].bar(inedxs, total[\"行业内公司总数\"], label=\"公司总数\",width=0.6)\n",
    "# axes[1, 1].bar_label(rects, padding=3)\n",
    "# axes[1, 1].set_ylim([0, 2500])\n",
    "# ax.set_xlim([-4, 49])\n",
    "# ax.set_ylim([0, 42])\n",
    "# ax.set_xlabel(\"重要性\")\n",
    "# ax.set_ylabel(\"万亿元\")\n",
    "# ax.set_xticks(indexs)\n",
    "# ax.set_title('2014-2023中国A股上市制造业市场规模变化情况图', fontsize=20)\n",
    "# ax.set_xticklabels([f\"{year}年\" for year in temp1.index], rotation=00, fontsize=12)\n",
    "# ax.legend(loc=(0.15, -0.12), ncols=4,frameon=False)\n",
    "plt.tight_layout()\n",
    "plt.subplots_adjust()\n",
    "plt.savefig('./assert/imgs/制造业现状图.svg', dpi=300, bbox_inches='tight', pad_inches=0.0,transparent=True)\n",
    "plt.show()"
   ],
   "id": "de87fd58ec895481",
   "outputs": [
    {
     "ename": "ImportError",
     "evalue": "dlopen(/Users/xieheng/projects/envs/digital/lib/python3.9/site-packages/tensorflow/python/platform/_pywrap_cpu_feature_guard.so, 0x0002): Library not loaded: @rpath/libtensorflow_cc.2.dylib\n  Referenced from: <2A053E7E-6DBA-37C2-A28E-1D52A5836870> /Users/xieheng/projects/envs/digital/lib/python3.9/site-packages/tensorflow/python/_pywrap_tensorflow_internal.so\n  Reason: tried: '/Users/xieheng/projects/envs/digital/lib/python3.9/site-packages/tensorflow/python/../../_solib_darwin_arm64/_U_S_Stensorflow_Spython_C_Upywrap_Utensorflow_Uinternal.so_Ucclib___Utensorflow/libtensorflow_cc.2.dylib' (no such file), '/Users/xieheng/projects/envs/digital/lib/python3.9/site-packages/tensorflow/python/_pywrap_tensorflow_internal.so.runfiles/org_tensorflow/_solib_darwin_arm64/_U_S_Stensorflow_Spython_C_Upywrap_Utensorflow_Uinternal.so_Ucclib___Utensorflow/libtensorflow_cc.2.dylib' (no such file), '/Users/xieheng/projects/envs/digital/lib/python3.9/site-packages/tensorflow/python/../../_solib_darwin_arm64/_Utensorflow/libtensorflow_cc.2.dylib' (no such file), '/Users/xieheng/projects/envs/digital/lib/python3.9/site-packages/tensorflow/python/_pywrap_tensorflow_internal.so.runfiles/org_tensorflow/_solib_darwin_arm64/_Utensorflow/libtensorflow_cc.2.dylib' (no such file), '/Users/xieheng/projects/envs/digital/lib/python3.9/site-packages/tensorflow/python/libtensorflow_cc.2.dylib' (no such file), '/Users/xieheng/projects/envs/digital/lib/python3.9/site-packages/tensorflow/python/../libtensorflow_cc.2.dylib' (no such file), '/Users/xieheng/projects/envs/digital/lib/python3.9/site-packages/tensorflow/python/platform/../../../_solib_darwin_arm64/_U_S_Stensorflow_Clibtensorflow_Uframework_Uimport_Ulib___Utensorflow/libtensorflow_cc.2.dylib' (no such file), '/Users/xieheng/projects/envs/digital/lib/python3.9/site-packages/tensorflow/python/platform/_pywrap_cpu_feature_guard.so.runfiles/org_tensorflow/_solib_darwin_arm64/_U_S_Stensorflow_Clibtensorflow_Uframework_Uimport_Ulib___Utensorflow/libtensorflow_cc.2.dylib' (no such file), '/Users/xieheng/projects/envs/digital/lib/python3.9/site-packages/tensorflow/python/platform/../../../_solib_darwin_arm64/_U_S_Stensorflow_Spython_C_Upywrap_Utensorflow_Uinternal_Umacos___Utensorflow_Spython/libtensorflow_cc.2.dylib' (no such file), '/Users/xieheng/projects/envs/digital/lib/python3.9/site-packages/tensorflow/python/platform/_pywrap_cpu_feature_guard.so.runfiles/org_tensorflow/_solib_darwin_arm64/_U_S_Stensorflow_Spython_C_Upywrap_Utensorflow_Uinternal_Umacos___Utensorflow_Spython/libtensorflow_cc.2.dylib' (no such file), '/Users/xieheng/projects/envs/digital/lib/python3.9/site-packages/tensorflow/python/platform/libtensorflow_cc.2.dylib' (no such file), '/Users/xieheng/projects/envs/digital/lib/python3.9/site-packages/tensorflow/python/platform/../libtensorflow_cc.2.dylib' (no such file), '/Users/xieheng/projects/envs/digital/lib/python3.9/site-packages/tensorflow/python/platform/../../libtensorflow_cc.2.dylib' (no such file), '/Users/xieheng/projects/envs/digital/lib/python3.9/site-packages/tensorflow/python/platform/../../../_solib_darwin_arm64/_U_S_Stensorflow_Clibtensorflow_Uframework_Uimport_Ulib___Utensorflow/libtensorflow_cc.2.dylib' (no such file), '/Users/xieheng/projects/envs/digital/lib/python3.9/site-packages/tensorflow/python/platform/_pywrap_cpu_feature_guard.so.runfiles/org_tensorflow/_solib_darwin_arm64/_U_S_Stensorflow_Clibtensorflow_Uframework_Uimport_Ulib___Utensorflow/libtensorflow_cc.2.dylib' (no such file), '/Users/xieheng/projects/envs/digital/lib/python3.9/site-packages/tensorflow/python/platform/../../../_solib_darwin_arm64/_U_S_Stensorflow_Spython_C_Upywrap_Utensorflow_Uinternal_Umacos___Utensorflow_Spython/libtensorflow_cc.2.dylib' (no such file), '/Users/xieheng/projects/envs/digital/lib/python3.9/site-packages/tensorflow/python/platform/_pywrap_cpu_feature_guard.so.runfiles/org_tensorflow/_solib_darwin_arm64/_U_S_Stensorflow_Spython_C_Upywrap_Utensorflow_Uinternal_Umacos___Utensorflow_Spython/libtensorflow_cc.2.dylib' (no such file), '/Users/xieheng/projects/envs/digital/lib/python3.9/site-packages/tensorflow/python/platform/libtensorflow_cc.2.dylib' (no such file), '/Users/xieheng/projects/envs/digital/lib/python3.9/site-packages/tensorflow/python/platform/../libtensorflow_cc.2.dylib' (no such file), '/Users/xieheng/projects/envs/digital/lib/python3.9/site-packages/tensorflow/python/platform/../../libtensorflow_cc.2.dylib' (no such file), '/opt/homebrew/lib/libtensorflow_cc.2.dylib' (no such file), '/System/Volumes/Preboot/Cryptexes/OS/opt/homebrew/lib/libtensorflow_cc.2.dylib' (no such file), '/opt/homebrew/lib/libtensorflow_cc.2.dylib' (no such file), '/System/Volumes/Preboot/Cryptexes/OS/opt/homebrew/lib/libtensorflow_cc.2.dylib' (no such file), '/usr/local/lib/libtensorflow_cc.2.dylib' (no such file), '/usr/lib/libtensorflow_cc.2.dylib' (no such file, not in dyld cache)",
     "output_type": "error",
     "traceback": [
      "\u001B[0;31m---------------------------------------------------------------------------\u001B[0m",
      "\u001B[0;31mImportError\u001B[0m                               Traceback (most recent call last)",
      "Cell \u001B[0;32mIn[4], line 4\u001B[0m\n\u001B[1;32m      2\u001B[0m \u001B[38;5;28;01mimport\u001B[39;00m\u001B[38;5;250m \u001B[39m\u001B[38;5;21;01mnumpy\u001B[39;00m\u001B[38;5;250m \u001B[39m\u001B[38;5;28;01mas\u001B[39;00m\u001B[38;5;250m \u001B[39m\u001B[38;5;21;01mnp\u001B[39;00m\n\u001B[1;32m      3\u001B[0m \u001B[38;5;28;01mimport\u001B[39;00m\u001B[38;5;250m \u001B[39m\u001B[38;5;21;01mmatplotlib\u001B[39;00m\u001B[38;5;21;01m.\u001B[39;00m\u001B[38;5;21;01mpyplot\u001B[39;00m\u001B[38;5;250m \u001B[39m\u001B[38;5;28;01mas\u001B[39;00m\u001B[38;5;250m \u001B[39m\u001B[38;5;21;01mplt\u001B[39;00m\n\u001B[0;32m----> 4\u001B[0m \u001B[38;5;28;01mfrom\u001B[39;00m\u001B[38;5;250m \u001B[39m\u001B[38;5;21;01mutils\u001B[39;00m\u001B[38;5;21;01m.\u001B[39;00m\u001B[38;5;21;01mmethods\u001B[39;00m\u001B[38;5;250m \u001B[39m\u001B[38;5;28;01mimport\u001B[39;00m feature_importance_plot\n\u001B[1;32m      5\u001B[0m \u001B[38;5;66;03m#  'SimSun', # 'SimSun' 为宋体\u001B[39;00m\n\u001B[1;32m      6\u001B[0m sns\u001B[38;5;241m.\u001B[39mset(context\u001B[38;5;241m=\u001B[39m\u001B[38;5;124m'\u001B[39m\u001B[38;5;124mnotebook\u001B[39m\u001B[38;5;124m'\u001B[39m, style\u001B[38;5;241m=\u001B[39m\u001B[38;5;124m'\u001B[39m\u001B[38;5;124mticks\u001B[39m\u001B[38;5;124m'\u001B[39m, font_scale\u001B[38;5;241m=\u001B[39m\u001B[38;5;241m1.1\u001B[39m)\n",
      "File \u001B[0;32m~/projects/digital/utils/methods.py:17\u001B[0m\n\u001B[1;32m     15\u001B[0m \u001B[38;5;28;01mimport\u001B[39;00m\u001B[38;5;250m \u001B[39m\u001B[38;5;21;01mpandas\u001B[39;00m\u001B[38;5;250m \u001B[39m\u001B[38;5;28;01mas\u001B[39;00m\u001B[38;5;250m \u001B[39m\u001B[38;5;21;01mpd\u001B[39;00m\n\u001B[1;32m     16\u001B[0m \u001B[38;5;28;01mimport\u001B[39;00m\u001B[38;5;250m \u001B[39m\u001B[38;5;21;01mnumpy\u001B[39;00m\u001B[38;5;250m \u001B[39m\u001B[38;5;28;01mas\u001B[39;00m\u001B[38;5;250m \u001B[39m\u001B[38;5;21;01mnp\u001B[39;00m\n\u001B[0;32m---> 17\u001B[0m \u001B[38;5;28;01mimport\u001B[39;00m\u001B[38;5;250m \u001B[39m\u001B[38;5;21;01mtensorflow\u001B[39;00m\u001B[38;5;250m \u001B[39m\u001B[38;5;28;01mas\u001B[39;00m\u001B[38;5;250m \u001B[39m\u001B[38;5;21;01mtf\u001B[39;00m\n\u001B[1;32m     18\u001B[0m \u001B[38;5;28;01mfrom\u001B[39;00m\u001B[38;5;250m \u001B[39m\u001B[38;5;21;01mshap\u001B[39;00m\u001B[38;5;21;01m.\u001B[39;00m\u001B[38;5;21;01mplots\u001B[39;00m\u001B[38;5;250m \u001B[39m\u001B[38;5;28;01mimport\u001B[39;00m colors\n\u001B[1;32m     19\u001B[0m \u001B[38;5;28;01mimport\u001B[39;00m\u001B[38;5;250m \u001B[39m\u001B[38;5;21;01mmatplotlib\u001B[39;00m\n",
      "File \u001B[0;32m~/projects/envs/digital/lib/python3.9/site-packages/tensorflow/__init__.py:40\u001B[0m\n\u001B[1;32m     37\u001B[0m _os\u001B[38;5;241m.\u001B[39menviron\u001B[38;5;241m.\u001B[39msetdefault(\u001B[38;5;124m\"\u001B[39m\u001B[38;5;124mENABLE_RUNTIME_UPTIME_TELEMETRY\u001B[39m\u001B[38;5;124m\"\u001B[39m, \u001B[38;5;124m\"\u001B[39m\u001B[38;5;124m1\u001B[39m\u001B[38;5;124m\"\u001B[39m)\n\u001B[1;32m     39\u001B[0m \u001B[38;5;66;03m# Do not remove this line; See https://github.com/tensorflow/tensorflow/issues/42596\u001B[39;00m\n\u001B[0;32m---> 40\u001B[0m \u001B[38;5;28;01mfrom\u001B[39;00m\u001B[38;5;250m \u001B[39m\u001B[38;5;21;01mtensorflow\u001B[39;00m\u001B[38;5;21;01m.\u001B[39;00m\u001B[38;5;21;01mpython\u001B[39;00m\u001B[38;5;250m \u001B[39m\u001B[38;5;28;01mimport\u001B[39;00m pywrap_tensorflow \u001B[38;5;28;01mas\u001B[39;00m _pywrap_tensorflow  \u001B[38;5;66;03m# pylint: disable=unused-import\u001B[39;00m\n\u001B[1;32m     41\u001B[0m \u001B[38;5;28;01mfrom\u001B[39;00m\u001B[38;5;250m \u001B[39m\u001B[38;5;21;01mtensorflow\u001B[39;00m\u001B[38;5;21;01m.\u001B[39;00m\u001B[38;5;21;01mpython\u001B[39;00m\u001B[38;5;21;01m.\u001B[39;00m\u001B[38;5;21;01mtools\u001B[39;00m\u001B[38;5;250m \u001B[39m\u001B[38;5;28;01mimport\u001B[39;00m module_util \u001B[38;5;28;01mas\u001B[39;00m _module_util\n\u001B[1;32m     42\u001B[0m \u001B[38;5;28;01mfrom\u001B[39;00m\u001B[38;5;250m \u001B[39m\u001B[38;5;21;01mtensorflow\u001B[39;00m\u001B[38;5;21;01m.\u001B[39;00m\u001B[38;5;21;01mpython\u001B[39;00m\u001B[38;5;21;01m.\u001B[39;00m\u001B[38;5;21;01mutil\u001B[39;00m\u001B[38;5;21;01m.\u001B[39;00m\u001B[38;5;21;01mlazy_loader\u001B[39;00m\u001B[38;5;250m \u001B[39m\u001B[38;5;28;01mimport\u001B[39;00m KerasLazyLoader \u001B[38;5;28;01mas\u001B[39;00m _KerasLazyLoader\n",
      "File \u001B[0;32m~/projects/envs/digital/lib/python3.9/site-packages/tensorflow/python/pywrap_tensorflow.py:34\u001B[0m\n\u001B[1;32m     29\u001B[0m \u001B[38;5;28;01mfrom\u001B[39;00m\u001B[38;5;250m \u001B[39m\u001B[38;5;21;01mtensorflow\u001B[39;00m\u001B[38;5;21;01m.\u001B[39;00m\u001B[38;5;21;01mpython\u001B[39;00m\u001B[38;5;21;01m.\u001B[39;00m\u001B[38;5;21;01mplatform\u001B[39;00m\u001B[38;5;250m \u001B[39m\u001B[38;5;28;01mimport\u001B[39;00m self_check\n\u001B[1;32m     31\u001B[0m \u001B[38;5;66;03m# TODO(mdan): Cleanup antipattern: import for side effects.\u001B[39;00m\n\u001B[1;32m     32\u001B[0m \n\u001B[1;32m     33\u001B[0m \u001B[38;5;66;03m# Perform pre-load sanity checks in order to produce a more actionable error.\u001B[39;00m\n\u001B[0;32m---> 34\u001B[0m \u001B[43mself_check\u001B[49m\u001B[38;5;241;43m.\u001B[39;49m\u001B[43mpreload_check\u001B[49m\u001B[43m(\u001B[49m\u001B[43m)\u001B[49m\n\u001B[1;32m     36\u001B[0m \u001B[38;5;66;03m# pylint: disable=wildcard-import,g-import-not-at-top,unused-import,line-too-long\u001B[39;00m\n\u001B[1;32m     38\u001B[0m \u001B[38;5;28;01mtry\u001B[39;00m:\n\u001B[1;32m     39\u001B[0m   \u001B[38;5;66;03m# This import is expected to fail if there is an explicit shared object\u001B[39;00m\n\u001B[1;32m     40\u001B[0m   \u001B[38;5;66;03m# dependency (with_framework_lib=true), since we do not need RTLD_GLOBAL.\u001B[39;00m\n",
      "File \u001B[0;32m~/projects/envs/digital/lib/python3.9/site-packages/tensorflow/python/platform/self_check.py:63\u001B[0m, in \u001B[0;36mpreload_check\u001B[0;34m()\u001B[0m\n\u001B[1;32m     50\u001B[0m       \u001B[38;5;28;01mraise\u001B[39;00m \u001B[38;5;167;01mImportError\u001B[39;00m(\n\u001B[1;32m     51\u001B[0m           \u001B[38;5;124m\"\u001B[39m\u001B[38;5;124mCould not find the DLL(s) \u001B[39m\u001B[38;5;132;01m%r\u001B[39;00m\u001B[38;5;124m. TensorFlow requires that these DLLs \u001B[39m\u001B[38;5;124m\"\u001B[39m\n\u001B[1;32m     52\u001B[0m           \u001B[38;5;124m\"\u001B[39m\u001B[38;5;124mbe installed in a directory that is named in your \u001B[39m\u001B[38;5;132;01m%%\u001B[39;00m\u001B[38;5;124mPATH\u001B[39m\u001B[38;5;132;01m%%\u001B[39;00m\u001B[38;5;124m \u001B[39m\u001B[38;5;124m\"\u001B[39m\n\u001B[0;32m   (...)\u001B[0m\n\u001B[1;32m     56\u001B[0m           \u001B[38;5;124m\"\u001B[39m\u001B[38;5;124mhttps://support.microsoft.com/help/2977003/the-latest-supported-visual-c-downloads\u001B[39m\u001B[38;5;124m\"\u001B[39m\n\u001B[1;32m     57\u001B[0m           \u001B[38;5;241m%\u001B[39m \u001B[38;5;124m\"\u001B[39m\u001B[38;5;124m or \u001B[39m\u001B[38;5;124m\"\u001B[39m\u001B[38;5;241m.\u001B[39mjoin(missing))\n\u001B[1;32m     58\u001B[0m \u001B[38;5;28;01melse\u001B[39;00m:\n\u001B[1;32m     59\u001B[0m   \u001B[38;5;66;03m# Load a library that performs CPU feature guard checking.  Doing this here\u001B[39;00m\n\u001B[1;32m     60\u001B[0m   \u001B[38;5;66;03m# as a preload check makes it more likely that we detect any CPU feature\u001B[39;00m\n\u001B[1;32m     61\u001B[0m   \u001B[38;5;66;03m# incompatibilities before we trigger them (which would typically result in\u001B[39;00m\n\u001B[1;32m     62\u001B[0m   \u001B[38;5;66;03m# SIGILL).\u001B[39;00m\n\u001B[0;32m---> 63\u001B[0m   \u001B[38;5;28;01mfrom\u001B[39;00m\u001B[38;5;250m \u001B[39m\u001B[38;5;21;01mtensorflow\u001B[39;00m\u001B[38;5;21;01m.\u001B[39;00m\u001B[38;5;21;01mpython\u001B[39;00m\u001B[38;5;21;01m.\u001B[39;00m\u001B[38;5;21;01mplatform\u001B[39;00m\u001B[38;5;250m \u001B[39m\u001B[38;5;28;01mimport\u001B[39;00m _pywrap_cpu_feature_guard\n\u001B[1;32m     64\u001B[0m   _pywrap_cpu_feature_guard\u001B[38;5;241m.\u001B[39mInfoAboutUnusedCPUFeatures()\n",
      "\u001B[0;31mImportError\u001B[0m: dlopen(/Users/xieheng/projects/envs/digital/lib/python3.9/site-packages/tensorflow/python/platform/_pywrap_cpu_feature_guard.so, 0x0002): Library not loaded: @rpath/libtensorflow_cc.2.dylib\n  Referenced from: <2A053E7E-6DBA-37C2-A28E-1D52A5836870> /Users/xieheng/projects/envs/digital/lib/python3.9/site-packages/tensorflow/python/_pywrap_tensorflow_internal.so\n  Reason: tried: '/Users/xieheng/projects/envs/digital/lib/python3.9/site-packages/tensorflow/python/../../_solib_darwin_arm64/_U_S_Stensorflow_Spython_C_Upywrap_Utensorflow_Uinternal.so_Ucclib___Utensorflow/libtensorflow_cc.2.dylib' (no such file), '/Users/xieheng/projects/envs/digital/lib/python3.9/site-packages/tensorflow/python/_pywrap_tensorflow_internal.so.runfiles/org_tensorflow/_solib_darwin_arm64/_U_S_Stensorflow_Spython_C_Upywrap_Utensorflow_Uinternal.so_Ucclib___Utensorflow/libtensorflow_cc.2.dylib' (no such file), '/Users/xieheng/projects/envs/digital/lib/python3.9/site-packages/tensorflow/python/../../_solib_darwin_arm64/_Utensorflow/libtensorflow_cc.2.dylib' (no such file), '/Users/xieheng/projects/envs/digital/lib/python3.9/site-packages/tensorflow/python/_pywrap_tensorflow_internal.so.runfiles/org_tensorflow/_solib_darwin_arm64/_Utensorflow/libtensorflow_cc.2.dylib' (no such file), '/Users/xieheng/projects/envs/digital/lib/python3.9/site-packages/tensorflow/python/libtensorflow_cc.2.dylib' (no such file), '/Users/xieheng/projects/envs/digital/lib/python3.9/site-packages/tensorflow/python/../libtensorflow_cc.2.dylib' (no such file), '/Users/xieheng/projects/envs/digital/lib/python3.9/site-packages/tensorflow/python/platform/../../../_solib_darwin_arm64/_U_S_Stensorflow_Clibtensorflow_Uframework_Uimport_Ulib___Utensorflow/libtensorflow_cc.2.dylib' (no such file), '/Users/xieheng/projects/envs/digital/lib/python3.9/site-packages/tensorflow/python/platform/_pywrap_cpu_feature_guard.so.runfiles/org_tensorflow/_solib_darwin_arm64/_U_S_Stensorflow_Clibtensorflow_Uframework_Uimport_Ulib___Utensorflow/libtensorflow_cc.2.dylib' (no such file), '/Users/xieheng/projects/envs/digital/lib/python3.9/site-packages/tensorflow/python/platform/../../../_solib_darwin_arm64/_U_S_Stensorflow_Spython_C_Upywrap_Utensorflow_Uinternal_Umacos___Utensorflow_Spython/libtensorflow_cc.2.dylib' (no such file), '/Users/xieheng/projects/envs/digital/lib/python3.9/site-packages/tensorflow/python/platform/_pywrap_cpu_feature_guard.so.runfiles/org_tensorflow/_solib_darwin_arm64/_U_S_Stensorflow_Spython_C_Upywrap_Utensorflow_Uinternal_Umacos___Utensorflow_Spython/libtensorflow_cc.2.dylib' (no such file), '/Users/xieheng/projects/envs/digital/lib/python3.9/site-packages/tensorflow/python/platform/libtensorflow_cc.2.dylib' (no such file), '/Users/xieheng/projects/envs/digital/lib/python3.9/site-packages/tensorflow/python/platform/../libtensorflow_cc.2.dylib' (no such file), '/Users/xieheng/projects/envs/digital/lib/python3.9/site-packages/tensorflow/python/platform/../../libtensorflow_cc.2.dylib' (no such file), '/Users/xieheng/projects/envs/digital/lib/python3.9/site-packages/tensorflow/python/platform/../../../_solib_darwin_arm64/_U_S_Stensorflow_Clibtensorflow_Uframework_Uimport_Ulib___Utensorflow/libtensorflow_cc.2.dylib' (no such file), '/Users/xieheng/projects/envs/digital/lib/python3.9/site-packages/tensorflow/python/platform/_pywrap_cpu_feature_guard.so.runfiles/org_tensorflow/_solib_darwin_arm64/_U_S_Stensorflow_Clibtensorflow_Uframework_Uimport_Ulib___Utensorflow/libtensorflow_cc.2.dylib' (no such file), '/Users/xieheng/projects/envs/digital/lib/python3.9/site-packages/tensorflow/python/platform/../../../_solib_darwin_arm64/_U_S_Stensorflow_Spython_C_Upywrap_Utensorflow_Uinternal_Umacos___Utensorflow_Spython/libtensorflow_cc.2.dylib' (no such file), '/Users/xieheng/projects/envs/digital/lib/python3.9/site-packages/tensorflow/python/platform/_pywrap_cpu_feature_guard.so.runfiles/org_tensorflow/_solib_darwin_arm64/_U_S_Stensorflow_Spython_C_Upywrap_Utensorflow_Uinternal_Umacos___Utensorflow_Spython/libtensorflow_cc.2.dylib' (no such file), '/Users/xieheng/projects/envs/digital/lib/python3.9/site-packages/tensorflow/python/platform/libtensorflow_cc.2.dylib' (no such file), '/Users/xieheng/projects/envs/digital/lib/python3.9/site-packages/tensorflow/python/platform/../libtensorflow_cc.2.dylib' (no such file), '/Users/xieheng/projects/envs/digital/lib/python3.9/site-packages/tensorflow/python/platform/../../libtensorflow_cc.2.dylib' (no such file), '/opt/homebrew/lib/libtensorflow_cc.2.dylib' (no such file), '/System/Volumes/Preboot/Cryptexes/OS/opt/homebrew/lib/libtensorflow_cc.2.dylib' (no such file), '/opt/homebrew/lib/libtensorflow_cc.2.dylib' (no such file), '/System/Volumes/Preboot/Cryptexes/OS/opt/homebrew/lib/libtensorflow_cc.2.dylib' (no such file), '/usr/local/lib/libtensorflow_cc.2.dylib' (no such file), '/usr/lib/libtensorflow_cc.2.dylib' (no such file, not in dyld cache)"
     ]
    }
   ],
   "execution_count": 4
  },
  {
   "metadata": {},
   "cell_type": "code",
   "outputs": [],
   "execution_count": null,
   "source": [
    "# .reset_index(drop=True)\n",
    "# years = [i for i in range(2010, 2024)]\n",
    "# inf = temp1[[\"行业资产总计\",\"行业负债合计\",\"行业营业收入\",\"行业市值A\"]]\n",
    "# # colors=['#802827','#BB9A71']\n",
    "# # ,color=colors[multiplier]\n",
    "# width = 0.3\n",
    "# multiplier=0\n",
    "# for attribute, measurement in inf.items():\n",
    "#     offset = width * multiplier\n",
    "#     print(offset, inf.index+offset)\n",
    "#     print(inf.index)\n",
    "#     rects = ax.bar(inf.index+offset, measurement/1e8, width, label=attribute,alpha=0.9)\n",
    "#     # ax.bar_label(rects, padding=3)\n",
    "#     multiplier += 1\n"
   ],
   "id": "9ed3cf2dabf7fe2f"
  },
  {
   "metadata": {
    "ExecuteTime": {
     "end_time": "2025-05-30T11:11:32.221005Z",
     "start_time": "2025-05-30T11:11:32.122772Z"
    }
   },
   "cell_type": "code",
   "source": [
    "# 绘制我国高端制造业上市公司总市值、收入和净利润变化趋势\n",
    "assets = [0, 0, 0, 0, 0, 135555, 161873, 192927, 229342, 256929]\n",
    "profit = [0, 0, 0, 0, 0, 3796, 5805, 8012, 8816, 7983]\n",
    "revenue = [0, 0, 0, 0, 0, 82377, 93407, 116272, 134678, 146606]\n",
    "market_value = [0, 0, 0, 0, 0, 160280, 273078, 353341, 288463, 291051]\n",
    "year = [2014+i for i in range(10)]\n",
    "\n",
    "dataset = pd.DataFrame([assets,profit,revenue,market_value], columns=year, index=['总资产(亿元)','净利润(亿元)','总收入(亿元)','总市值(亿元)']).T\n",
    "dataset"
   ],
   "id": "105f3be2df51bcd0",
   "outputs": [
    {
     "ename": "NameError",
     "evalue": "name 'pd' is not defined",
     "output_type": "error",
     "traceback": [
      "\u001B[0;31m---------------------------------------------------------------------------\u001B[0m",
      "\u001B[0;31mNameError\u001B[0m                                 Traceback (most recent call last)",
      "Cell \u001B[0;32mIn[1], line 8\u001B[0m\n\u001B[1;32m      5\u001B[0m market_value \u001B[38;5;241m=\u001B[39m [\u001B[38;5;241m0\u001B[39m, \u001B[38;5;241m0\u001B[39m, \u001B[38;5;241m0\u001B[39m, \u001B[38;5;241m0\u001B[39m, \u001B[38;5;241m0\u001B[39m, \u001B[38;5;241m160280\u001B[39m, \u001B[38;5;241m273078\u001B[39m, \u001B[38;5;241m353341\u001B[39m, \u001B[38;5;241m288463\u001B[39m, \u001B[38;5;241m291051\u001B[39m]\n\u001B[1;32m      6\u001B[0m year \u001B[38;5;241m=\u001B[39m [\u001B[38;5;241m2014\u001B[39m\u001B[38;5;241m+\u001B[39mi \u001B[38;5;28;01mfor\u001B[39;00m i \u001B[38;5;129;01min\u001B[39;00m \u001B[38;5;28mrange\u001B[39m(\u001B[38;5;241m10\u001B[39m)]\n\u001B[0;32m----> 8\u001B[0m dataset \u001B[38;5;241m=\u001B[39m \u001B[43mpd\u001B[49m\u001B[38;5;241m.\u001B[39mDataFrame([assets,profit,revenue,market_value], columns\u001B[38;5;241m=\u001B[39myear, index\u001B[38;5;241m=\u001B[39m[\u001B[38;5;124m'\u001B[39m\u001B[38;5;124m总资产(亿元)\u001B[39m\u001B[38;5;124m'\u001B[39m,\u001B[38;5;124m'\u001B[39m\u001B[38;5;124m净利润(亿元)\u001B[39m\u001B[38;5;124m'\u001B[39m,\u001B[38;5;124m'\u001B[39m\u001B[38;5;124m总收入(亿元)\u001B[39m\u001B[38;5;124m'\u001B[39m,\u001B[38;5;124m'\u001B[39m\u001B[38;5;124m总市值(亿元)\u001B[39m\u001B[38;5;124m'\u001B[39m])\u001B[38;5;241m.\u001B[39mT\n\u001B[1;32m      9\u001B[0m dataset\n",
      "\u001B[0;31mNameError\u001B[0m: name 'pd' is not defined"
     ]
    }
   ],
   "execution_count": 1
  },
  {
   "metadata": {},
   "cell_type": "code",
   "outputs": [],
   "execution_count": null,
   "source": [
    "# temp1.plot(kind=\"bar\", ax=ax, width=0.8)\n",
    "\n",
    "width = 0.9 # 设置每个条形的宽度\n",
    "indexs = np.array([i for i in range(0, 50, 5)])\n",
    "for i, (attribute, measurement) in enumerate(temp1.items()):\n",
    "    # 假设画轴每两个端点之间的距离为1，那么 复图之间的间距与只其宽度有关\n",
    "    # 如果有四个子图，则宽度理论不能大于0.25，因此复合图一单出现\n",
    "    # 显示大小会受figsize比例影响，因此宽度调整无效\n",
    "    offset = width * i - width/2*3 \n",
    "    rects = ax.bar(indexs + offset, (measurement/1e12).round(1), width, label=attribute.strip(\"A\"), alpha=0.9)\n",
    "    ax.bar_label(rects, padding=3)\n",
    "ax.set_xlim([-4, 49])\n",
    "ax.set_ylim([0, 42])\n",
    "# ax.set_xlabel(\"重要性\")\n",
    "ax.set_ylabel(\"万亿元\")\n",
    "ax.set_xticks(indexs)\n",
    "ax.set_title('2014-2023中国A股上市制造业市场规模变化情况图', fontsize=20)\n",
    "ax.set_xticklabels([f\"{year}年\" for year in temp1.index], rotation=00, fontsize=12)\n",
    "ax.legend(loc=(0.15, -0.12), ncols=4,frameon=False)\n",
    "plt.subplots_adjust()\n",
    "plt.show()"
   ],
   "id": "90c497bb5d381b99"
  },
  {
   "metadata": {},
   "cell_type": "code",
   "outputs": [],
   "execution_count": null,
   "source": "",
   "id": "df0f77799a07b1c"
  },
  {
   "metadata": {
    "ExecuteTime": {
     "end_time": "2025-03-15T06:57:23.775379Z",
     "start_time": "2025-03-15T06:57:23.713954Z"
    }
   },
   "cell_type": "code",
   "source": [
    "import pandas as pd\n",
    "from utils.config import table_translate\n",
    "\n",
    "text = \"\"\"\n",
    "Symbol [股票代码] - 交易所公布的股票代码。\n",
    "EndDate [统计截止日期] - 上市公司社会责任报告的统计截止日期，以YYYY-MM-DD表示，如2012-12-31。\n",
    "Source [数据来源] - 1=企业披露独立的社会责任报告;0=企业随年报披露社会责任报告。\n",
    "DeclareDate [公告日期] - 上市公司社会责任报告的具体披露日期，以YYYY-MM-DD表示。\n",
    "Province [所属省份] - 上市公司注册地所在省份\n",
    "IndustryCode [行业代码] - 采用证监会2012版行业分类标准。\n",
    "IndustryName [行业名称] - 采用证监会2012版行业分类标准。\n",
    "TotalTax [纳税总额] - 公司统计年度纳税总额。\n",
    "IndustryCode1 [行业代码1] - 2023版上市公司协会行业分类代码。\n",
    "IndustryName1 [行业名称1] - 2023版上市公司协会行业分类名称。\n",
    "SocialcontributionValue [每股社会贡献值] - 详见“指标说明”。\n",
    "DonationAmount [社会捐赠额] - 公司统计年度社会捐赠总额。\n",
    "Certification [是否经第三方机构审验] - 1代表是；2代表否\n",
    "CertificationIns [审验机构] - 审验机构名称。\n",
    "GRI [是否参照GRI《可持续发展报告指南》] - 1代表是；2代表否\n",
    "ShareholdersProtection [是否披露股东权益保护] - 1代表是；2代表否\n",
    "CreditorProtection [是否披露债权人权益保护] - 1代表是；2代表否\n",
    "StaffProtection [是否披露职工权益保护] - 1代表是；2代表否\n",
    "DeliveryProtection [是否披露供应商权益保护] - 1代表是；2代表否\n",
    "CustomerProtection [是否披露客户及消费者权益保护] - 1代表是；2代表否\n",
    "EnvironmentProtection [是否披露环境和可持续发展] - 1代表是；2代表否\n",
    "PublicRelations [是否披露公共关系和社会公益事业] - 1代表是；2代表否\n",
    "SystemConstruction [是否披露社会责任制度建设及改善措施] - 1代表是；2代表否\n",
    "WorkSafety [是否披露安全生产内容] - 1代表是；2代表否\n",
    "Deficiency [是否披露公司存在的不足] - 1代表是；2代表否\n",
    "IsMandatoryDisclose [公告披露意愿] - 1=自愿披露；2=应规披露\n",
    "RegulatoryModule [应规模块] - 治理、金融、境外、深圳100指。\n",
    "Big4 [审计师是否来自四大会计师事务所] - 1代表是；2代表否。\n",
    "\"\"\"\n",
    "result = {\n",
    "    \"字段名称\":[],\n",
    "    \"说明\": []\n",
    "}\n",
    "for item in text.split('\\n'):\n",
    "    if not item:\n",
    "        # \"股票代码\", \"统计截止日期\", \"每股社会贡献值\",\n",
    "        continue\n",
    "    name = item.split(' ')[1].strip('[').strip(']')\n",
    "    if name in [\"纳税总额\",  \"社会捐赠额\", \"是否经第三方机构审验\", \"审计师是否来自四大会计师事务所\", \"是否参照GRI《可持续发展报告指南》\", \"是否披露股东权益保护\", \"是否披露债权人权益保护\", \"是否披露职工权益保护\", \"是否披露供应商权益保护\", \"是否披露客户及消费者权益保护\", \"是否披露环境和可持续发展\", \"是否披露公共关系和社会公益事业\", \"是否披露社会责任制度建设及改善措施\", \"是否披露安全生产内容\", \"是否披露公司存在的不足\", \"公告披露意愿\"]:\n",
    "        desc  = item.split('-')[-1]\n",
    "        result[\"字段名称\"].append(name)\n",
    "        result[\"说明\"].append(desc)\n",
    "table_translate(pd.DataFrame(result), \"上市公司社会责任报告基本信息表提取字段\", \"研究背景相关\")\n"
   ],
   "id": "ecb91a53c5f25f52",
   "outputs": [],
   "execution_count": 21
  },
  {
   "metadata": {},
   "cell_type": "code",
   "outputs": [],
   "execution_count": null,
   "source": [
    "\n",
    "\n",
    "\n"
   ],
   "id": "1880226f3946e9c6"
  }
 ],
 "metadata": {
  "kernelspec": {
   "display_name": "Python 3",
   "language": "python",
   "name": "python3"
  },
  "language_info": {
   "codemirror_mode": {
    "name": "ipython",
    "version": 2
   },
   "file_extension": ".py",
   "mimetype": "text/x-python",
   "name": "python",
   "nbconvert_exporter": "python",
   "pygments_lexer": "ipython2",
   "version": "2.7.6"
  }
 },
 "nbformat": 4,
 "nbformat_minor": 5
}
