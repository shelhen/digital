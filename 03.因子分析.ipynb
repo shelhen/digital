{
 "cells": [
  {
   "cell_type": "code",
   "id": "initial_id",
   "metadata": {
    "collapsed": true,
    "ExecuteTime": {
     "end_time": "2025-03-11T14:57:30.026598Z",
     "start_time": "2025-03-11T14:57:29.994102Z"
    }
   },
   "source": [
    "import warnings\n",
    "import os\n",
    "import pandas as pd\n",
    "from pathlib import Path\n",
    "warnings.filterwarnings('ignore')\n",
    "\n",
    "\n",
    "doc_name = \"因子分析阶段表格数据\"\n",
    "base_path = Path(os.path.abspath('.')) / 'assert'\n",
    "# 是否筛选数字化程度高一点的数据\n",
    "# dataset = dataset[(dataset[\"wufei\"]>0.2)&(dataset[\"zhaochenyv\"]>0.5)&(dataset[\"yuanchun\"]>0.5)&(dataset[\"lishouxi\"]>0.5)&(dataset[\"csmar\"]>10)]\n",
    "dataset = pd.read_csv('./data/制造企业绩效评价数据总表.csv', dtype={\"股票代码\": 'object'})\n",
    "dataset = dataset[dataset['截止日期']==2023].reset_index(drop=True)\n",
    "dataset.drop([\"截止日期\",\"wufei\", \"zhaochenyv\", \"yuanchun\", \"lishouxi\", \"csmar\"], axis=1, inplace=True)\n",
    "print(f\"筛选保留2023年数据{dataset.shape[0]}个。\")"
   ],
   "outputs": [
    {
     "name": "stdout",
     "output_type": "stream",
     "text": [
      "筛选保留2023年数据1515个。\n"
     ]
    }
   ],
   "execution_count": 1
  },
  {
   "metadata": {
    "ExecuteTime": {
     "end_time": "2025-03-11T14:57:32.224602Z",
     "start_time": "2025-03-11T14:57:31.979935Z"
    }
   },
   "cell_type": "code",
   "source": [
    "import numpy as np\n",
    "from utils.config import EvaluationIndicatorTable, pos_indicators\n",
    "from utils.config import table_translate\n",
    "from factor_analyzer.factor_analyzer import calculate_kmo, calculate_bartlett_sphericity\n",
    "\n",
    "data = dataset.copy(deep=True)\n",
    "# 将构建的指标体系转化为表格形式\n",
    "ind_table = pd.DataFrame(EvaluationIndicatorTable)\n",
    "table_translate(ind_table, filename=doc_name, table_name=\"评价指标体系表\")\n",
    "for name in pos_indicators:\n",
    "    max_ = data[name].max()\n",
    "    data[name] = data[name].apply(lambda x: max_ - x)\n",
    "\n",
    "un_unit = data[[\"股票代码\", \"股票简称\", '行业代码', '所属省份', \"股权性质\"]].set_index(\"股票简称\")\n",
    "data = data.set_index(\"股票简称\")[ind_table[\"指标层\"].tolist()].astype('float')\n",
    "\n",
    "mo_all, kmo_model = calculate_kmo(data)\n",
    "chi_square, p = calculate_bartlett_sphericity(data)\n",
    "print(f\"KMO统计量的值为：{kmo_model:.4f}\")\n",
    "print(f\"在{p:.3f}的显著水平下，近似卡方{chi_square:.3f}，球形检验拒绝相关阵为单位阵的原假设，说明做因子分析的效果还可以。\")"
   ],
   "id": "ce3af9e1b74b89cd",
   "outputs": [
    {
     "name": "stdout",
     "output_type": "stream",
     "text": [
      "KMO统计量的值为：nan\n",
      "在nan的显著水平下，近似卡方nan，球形检验拒绝相关阵为单位阵的原假设，说明做因子分析的效果还可以。\n"
     ]
    }
   ],
   "execution_count": 2
  },
  {
   "metadata": {},
   "cell_type": "code",
   "outputs": [],
   "execution_count": null,
   "source": [
    "from factor_analyzer.factor_analyzer import FactorAnalyzer\n",
    "\n",
    "# 首先确定需要保留多少个主成分\n",
    "fa = FactorAnalyzer(n_factors=data.shape[1], rotation=None, method='principal')\n",
    "fa.fit(data)\n",
    "# 依次计算各类方差贡献率\n",
    "eig_df = pd.DataFrame(fa.get_eigenvalues()[1], columns=[\"总计\"])\n",
    "# eig_df = eig_df.sort_values(\"总计\", ascending=False)\n",
    "eig_df['方差贡献率(%)'] = eig_df[\"总计\"].apply(lambda x: x * 100 / sum(eig_df[\"总计\"]))\n",
    "eig_df['累积贡献率(%)'] = eig_df['方差贡献率(%)'].cumsum()"
   ],
   "id": "77ef7367ab41600d"
  },
  {
   "metadata": {},
   "cell_type": "code",
   "outputs": [],
   "execution_count": null,
   "source": [
    "print(fa.get_eigenvalues()[1])\n",
    "# 因子分析建模: 最大方差旋转\n",
    "n_factors = 7\n",
    "fa = FactorAnalyzer(n_factors=n_factors, rotation='varimax', method='principal')\n",
    "fa.fit(data)\n",
    "\n",
    "# 旋转后解析结果\n",
    "eig_table = eig_df[:n_factors].copy(deep=True)\n",
    "eig_table[\"总计2\"] = np.sum(np.square(fa.loadings_), axis=0)\n",
    "eig_table[\"方差贡献率2(%)\"] = eig_table[\"总计2\"].apply(lambda x: x / eig_df[\"总计\"].sum() * 100)\n",
    "eig_table[\"累积贡献率2(%)\"] = eig_table[\"方差贡献率2(%)\"].cumsum()\n",
    "eig_table = eig_table.round(3)\n",
    "eig_table.columns = [i for i in range(6)]\n",
    "eig_table.loc[-1] = [\"总计\", \"方差贡献率(%)\", \"累积贡献率(%)\", \"总计\", \"方差贡献率(%)\", \"累积贡献率(%)\"]\n",
    "eig_table.loc[-2] = [\"提取载荷平方和\", \"提取载荷平方和\", \"提取载荷平方和\", \"旋转载荷平方和\", \"旋转载荷平方和\",\n",
    "                     \"旋转载荷平方和\"]\n",
    "eig_table.index += 2\n",
    "eig_table.sort_index(inplace=True)\n",
    "table_translate(eig_table, filename=doc_name, table_name=\"方差解释率表\")\n",
    "eig_table"
   ],
   "id": "34ae799e17c58cf"
  },
  {
   "metadata": {},
   "cell_type": "code",
   "outputs": [],
   "execution_count": null,
   "source": [
    "import matplotlib.pyplot as plt\n",
    "\n",
    "plt.rcParams['font.family'] = 'serif'\n",
    "plt.rcParams['font.serif'] = 'Times New Roman'\n",
    "plt.rcParams['axes.unicode_minus'] = False\n",
    "\n",
    "alpha = 0.8\n",
    "linewidth = 2\n",
    "color = 'grey'\n",
    "marker = \"o\"\n",
    "markersize = 5\n",
    "markeredgecolor = 'k'\n",
    "markeredgewidth = 1\n",
    "fig, (ax1, ax2) = plt.subplots(nrows=1, ncols=2, figsize=(10, 3.6), dpi=300)\n",
    "\n",
    "# font = {\"fontsize\":10, \"fontfamily\": \"Songti SC\"}  \n",
    "font = {\"fontsize\": 10, \"fontfamily\": \"simsun\"}\n",
    "names = range(1, eig_df.shape[0] + 1)\n",
    "ax1.set_title(\"碎石图\", fontdict=font, fontweight='heavy')\n",
    "ax1.plot(names, eig_df['总计'], linestyle='-', linewidth=linewidth, color=color, marker=marker,\n",
    "         markeredgecolor=markeredgecolor, alpha=alpha, markersize=markersize, markeredgewidth=markeredgewidth)\n",
    "# ax1.axhlineine(y=eig_df['总计'].sum()/len(eig_df['总计'])+0.1, xmin=-1.5, xmax=10, color='black', linestyle=':')\n",
    "ax1.set_xlabel(\"主成分号\", fontdict=font)\n",
    "ax1.set_ylabel(\"特征值\", fontdict=font)\n",
    "ax1.set_xticks(range(eig_df.shape[0] + 1)[::5])\n",
    "ax1.tick_params(direction='out', length=4, width=1, bottom=True, left=True)\n",
    "ax1.set_xlim(0, eig_df.shape[0] + 1)\n",
    "ax1.set_yticks([0, 1, 2, 3, 4, 5, 6, 7])\n",
    "ax1.grid(linestyle=\"--\", lw=0.5, color=\"#4E616C\")\n",
    "for spine in ax1.spines.values():\n",
    "    spine.set_linewidth(1)\n",
    "    spine.set_edgecolor(\"black\")\n",
    "\n",
    "ax2.set_title(\"方差解释及累计方差贡献率图\", fontdict=font, fontweight='heavy')\n",
    "ax2.plot(names, eig_df['方差贡献率(%)'], linestyle='-', linewidth=linewidth, color=color, marker=marker,\n",
    "         markeredgecolor=markeredgecolor, alpha=alpha, markersize=markersize, markeredgewidth=markeredgewidth)\n",
    "ax2.plot(names, eig_df['累积贡献率(%)'], linestyle='-.', linewidth=linewidth, color=color, marker=marker,\n",
    "         markeredgecolor=markeredgecolor, alpha=alpha, markersize=markersize, markeredgewidth=markeredgewidth)\n",
    "ax2.set_yticks([0, 20, 40, 60, 80, 100])\n",
    "ax2.tick_params(direction='out', length=4, width=1, bottom=True, left=True)\n",
    "ax2.set_xlabel(\"主成分号\", fontdict=font)\n",
    "ax2.set_ylabel(\"方差解释率(%)\", fontdict=font)\n",
    "ax2.set_xticks(range(eig_df.shape[0] + 1)[::5])\n",
    "ax2.grid(linestyle=\"--\", lw=0.5, color=\"#4E616C\")\n",
    "for spine in ax2.spines.values():\n",
    "    spine.set_linewidth(1)\n",
    "    spine.set_edgecolor(\"black\")\n",
    "plt.savefig(base_path / 'imgs/碎石图.svg', bbox_inches='tight', pad_inches=0.0, transparent=True)\n",
    "plt.show()"
   ],
   "id": "20f932a92f4b1488"
  },
  {
   "metadata": {},
   "cell_type": "code",
   "outputs": [],
   "execution_count": null,
   "source": [
    "import seaborn as sns\n",
    "\n",
    "sns.set(font='Times New Roman')\n",
    "\n",
    "# font = {\"fontfamily\":\"Songti SC\", \"fontsize\":10}  \n",
    "font = {\"fontsize\": 10, \"fontfamily\": \"simsun\"}\n",
    "fig = plt.figure(figsize=(6, 6), dpi=300)\n",
    "ax = fig.add_axes([0, 0, 1, 1])\n",
    "sns.heatmap(np.abs(fa.loadings_), cmap='Blues', annot=True, fmt='.3f', ax=ax,\n",
    "            annot_kws={\"fontfamily\": \"Times New Roman\", \"fontsize\": 12},\n",
    "            xticklabels=[f'F{i + 1}' for i in range(n_factors)], yticklabels=data.columns)\n",
    "ax.set_xlabel('主因子', fontdict=font)\n",
    "ax.set_ylabel('评价指标', fontdict=font)\n",
    "ax.set_yticklabels(ax.get_yticklabels(), fontdict=font)\n",
    "plt.tight_layout()\n",
    "plt.savefig(base_path / 'imgs/旋转后的载荷矩阵.svg', transparent=True, pad_inches=0.0, bbox_inches='tight')\n",
    "plt.show()"
   ],
   "id": "5d4ec4ccccfb7cda"
  },
  {
   "metadata": {},
   "cell_type": "code",
   "outputs": [],
   "execution_count": null,
   "source": [
    "# 计算最终因子得分-形成训练数据\n",
    "\n",
    "# aa1 = fa.transform(matrix).dot(eig_df['方差贡献率(%)'][:n_factors].to_numpy())\n",
    "# weights_ = np.linalg.solve(fa.corr_, fa.loadings_)\n",
    "# X_scale = (metrix - np.mean(metrix, axis=0)) / np.std(metrix, axis=0)\n",
    "# aa2 = X_scale.dot(weights_.dot(eig_df['方差贡献率(%)'][:n_factors].to_numpy()))\n",
    "# weights_.shape\n",
    "# _w = weights_.dot(eig_df['方差贡献率(%)'][:n_factors].to_numpy())\n",
    "\n",
    "# _data[\"因子得分\"] = fa.transform(data).dot(eig_df['方差贡献率(%)'][:n_factors].to_numpy())\n",
    "# _data = pd.merge(un_unit, _data, left_index=True, right_index=True)\n",
    "# _data = _data.reset_index()\n",
    "# _data.to_csv('./data/dataset.csv', index=False)\n",
    "# print(_data.columns.tolist())\n",
    "# _data.head(10)"
   ],
   "id": "41ace9af3c9e5235"
  }
 ],
 "metadata": {
  "kernelspec": {
   "display_name": "Python 3",
   "language": "python",
   "name": "python3"
  },
  "language_info": {
   "codemirror_mode": {
    "name": "ipython",
    "version": 2
   },
   "file_extension": ".py",
   "mimetype": "text/x-python",
   "name": "python",
   "nbconvert_exporter": "python",
   "pygments_lexer": "ipython2",
   "version": "2.7.6"
  }
 },
 "nbformat": 4,
 "nbformat_minor": 5
}
