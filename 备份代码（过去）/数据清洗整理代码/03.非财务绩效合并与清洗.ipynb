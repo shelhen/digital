{
 "cells": [
  {
   "cell_type": "code",
   "execution_count": 1,
   "id": "initial_id",
   "metadata": {
    "collapsed": true,
    "ExecuteTime": {
     "end_time": "2024-04-07T10:25:18.480898Z",
     "start_time": "2024-04-07T10:24:55.927898Z"
    }
   },
   "outputs": [
    {
     "data": {
      "text/plain": "       截止年份    股票代码   董事会规模     员工人数     纳税总额A    捐赠总额  本期销售额占年度销售总额比例(%)  \\\n0      2007  000001  250426   8573.0       NaN     NaN                NaN   \n1      2008  000001  295216  10381.0       NaN  1500.0                NaN   \n2      2009  000001  230571  11308.0       NaN  1300.0                NaN   \n3      2010  000001  352655  12203.0  308400.0   580.3                NaN   \n4      2011  000001  272946  13778.0  473200.0   198.0                NaN   \n...     ...     ...     ...      ...       ...     ...                ...   \n50624  2018  900957   24833     75.0       NaN     NaN              100.0   \n50625  2019  900957   23928     78.0       NaN     NaN              100.0   \n50626  2020  900957   23191     78.0       NaN     NaN              100.0   \n50627  2021  900957   22442     78.0       NaN     NaN              100.0   \n50628  2022  900957   21944     79.0       NaN     NaN              100.0   \n\n       本期采购额占年度采购总额比例(%)        主营业务收入        职工薪酬  两权分离度(%)  股权集中度4(%)  \\\n0                    NaN           NaN         NaN       NaN    30.9984   \n1                    NaN           NaN         NaN       NaN    34.7276   \n2                    NaN           NaN         NaN       NaN    33.7005   \n3                    NaN           NaN         NaN       NaN    39.5633   \n4                    NaN           NaN         NaN       NaN    58.9121   \n...                  ...           ...         ...       ...        ...   \n50624               87.0  6.470736e+07  3812398.46   13.0328    48.0287   \n50625               94.0  1.050223e+08  4830802.38   13.0328    48.1793   \n50626               86.0           NaN  5517133.22   13.0328    48.3093   \n50627               84.0           NaN  5808021.88   13.0328    48.3658   \n50628               99.0  1.199133e+08  5690719.27   13.0328    48.6943   \n\n       研发人员数量占比(%)  研发营收比(%)      独董比例  \n0              NaN       NaN  0.285714  \n1              NaN       NaN  0.285714  \n2              NaN       NaN  0.333333  \n3              NaN       NaN  0.312500  \n4              NaN       NaN  0.444444  \n...            ...       ...       ...  \n50624          NaN       NaN  0.333333  \n50625          NaN       NaN  0.333333  \n50626          NaN       NaN  0.454545  \n50627          NaN       NaN  0.333333  \n50628          NaN       NaN  0.333333  \n\n[50629 rows x 15 columns]",
      "text/html": "<div>\n<style scoped>\n    .dataframe tbody tr th:only-of-type {\n        vertical-align: middle;\n    }\n\n    .dataframe tbody tr th {\n        vertical-align: top;\n    }\n\n    .dataframe thead th {\n        text-align: right;\n    }\n</style>\n<table border=\"1\" class=\"dataframe\">\n  <thead>\n    <tr style=\"text-align: right;\">\n      <th></th>\n      <th>截止年份</th>\n      <th>股票代码</th>\n      <th>董事会规模</th>\n      <th>员工人数</th>\n      <th>纳税总额A</th>\n      <th>捐赠总额</th>\n      <th>本期销售额占年度销售总额比例(%)</th>\n      <th>本期采购额占年度采购总额比例(%)</th>\n      <th>主营业务收入</th>\n      <th>职工薪酬</th>\n      <th>两权分离度(%)</th>\n      <th>股权集中度4(%)</th>\n      <th>研发人员数量占比(%)</th>\n      <th>研发营收比(%)</th>\n      <th>独董比例</th>\n    </tr>\n  </thead>\n  <tbody>\n    <tr>\n      <th>0</th>\n      <td>2007</td>\n      <td>000001</td>\n      <td>250426</td>\n      <td>8573.0</td>\n      <td>NaN</td>\n      <td>NaN</td>\n      <td>NaN</td>\n      <td>NaN</td>\n      <td>NaN</td>\n      <td>NaN</td>\n      <td>NaN</td>\n      <td>30.9984</td>\n      <td>NaN</td>\n      <td>NaN</td>\n      <td>0.285714</td>\n    </tr>\n    <tr>\n      <th>1</th>\n      <td>2008</td>\n      <td>000001</td>\n      <td>295216</td>\n      <td>10381.0</td>\n      <td>NaN</td>\n      <td>1500.0</td>\n      <td>NaN</td>\n      <td>NaN</td>\n      <td>NaN</td>\n      <td>NaN</td>\n      <td>NaN</td>\n      <td>34.7276</td>\n      <td>NaN</td>\n      <td>NaN</td>\n      <td>0.285714</td>\n    </tr>\n    <tr>\n      <th>2</th>\n      <td>2009</td>\n      <td>000001</td>\n      <td>230571</td>\n      <td>11308.0</td>\n      <td>NaN</td>\n      <td>1300.0</td>\n      <td>NaN</td>\n      <td>NaN</td>\n      <td>NaN</td>\n      <td>NaN</td>\n      <td>NaN</td>\n      <td>33.7005</td>\n      <td>NaN</td>\n      <td>NaN</td>\n      <td>0.333333</td>\n    </tr>\n    <tr>\n      <th>3</th>\n      <td>2010</td>\n      <td>000001</td>\n      <td>352655</td>\n      <td>12203.0</td>\n      <td>308400.0</td>\n      <td>580.3</td>\n      <td>NaN</td>\n      <td>NaN</td>\n      <td>NaN</td>\n      <td>NaN</td>\n      <td>NaN</td>\n      <td>39.5633</td>\n      <td>NaN</td>\n      <td>NaN</td>\n      <td>0.312500</td>\n    </tr>\n    <tr>\n      <th>4</th>\n      <td>2011</td>\n      <td>000001</td>\n      <td>272946</td>\n      <td>13778.0</td>\n      <td>473200.0</td>\n      <td>198.0</td>\n      <td>NaN</td>\n      <td>NaN</td>\n      <td>NaN</td>\n      <td>NaN</td>\n      <td>NaN</td>\n      <td>58.9121</td>\n      <td>NaN</td>\n      <td>NaN</td>\n      <td>0.444444</td>\n    </tr>\n    <tr>\n      <th>...</th>\n      <td>...</td>\n      <td>...</td>\n      <td>...</td>\n      <td>...</td>\n      <td>...</td>\n      <td>...</td>\n      <td>...</td>\n      <td>...</td>\n      <td>...</td>\n      <td>...</td>\n      <td>...</td>\n      <td>...</td>\n      <td>...</td>\n      <td>...</td>\n      <td>...</td>\n    </tr>\n    <tr>\n      <th>50624</th>\n      <td>2018</td>\n      <td>900957</td>\n      <td>24833</td>\n      <td>75.0</td>\n      <td>NaN</td>\n      <td>NaN</td>\n      <td>100.0</td>\n      <td>87.0</td>\n      <td>6.470736e+07</td>\n      <td>3812398.46</td>\n      <td>13.0328</td>\n      <td>48.0287</td>\n      <td>NaN</td>\n      <td>NaN</td>\n      <td>0.333333</td>\n    </tr>\n    <tr>\n      <th>50625</th>\n      <td>2019</td>\n      <td>900957</td>\n      <td>23928</td>\n      <td>78.0</td>\n      <td>NaN</td>\n      <td>NaN</td>\n      <td>100.0</td>\n      <td>94.0</td>\n      <td>1.050223e+08</td>\n      <td>4830802.38</td>\n      <td>13.0328</td>\n      <td>48.1793</td>\n      <td>NaN</td>\n      <td>NaN</td>\n      <td>0.333333</td>\n    </tr>\n    <tr>\n      <th>50626</th>\n      <td>2020</td>\n      <td>900957</td>\n      <td>23191</td>\n      <td>78.0</td>\n      <td>NaN</td>\n      <td>NaN</td>\n      <td>100.0</td>\n      <td>86.0</td>\n      <td>NaN</td>\n      <td>5517133.22</td>\n      <td>13.0328</td>\n      <td>48.3093</td>\n      <td>NaN</td>\n      <td>NaN</td>\n      <td>0.454545</td>\n    </tr>\n    <tr>\n      <th>50627</th>\n      <td>2021</td>\n      <td>900957</td>\n      <td>22442</td>\n      <td>78.0</td>\n      <td>NaN</td>\n      <td>NaN</td>\n      <td>100.0</td>\n      <td>84.0</td>\n      <td>NaN</td>\n      <td>5808021.88</td>\n      <td>13.0328</td>\n      <td>48.3658</td>\n      <td>NaN</td>\n      <td>NaN</td>\n      <td>0.333333</td>\n    </tr>\n    <tr>\n      <th>50628</th>\n      <td>2022</td>\n      <td>900957</td>\n      <td>21944</td>\n      <td>79.0</td>\n      <td>NaN</td>\n      <td>NaN</td>\n      <td>100.0</td>\n      <td>99.0</td>\n      <td>1.199133e+08</td>\n      <td>5690719.27</td>\n      <td>13.0328</td>\n      <td>48.6943</td>\n      <td>NaN</td>\n      <td>NaN</td>\n      <td>0.333333</td>\n    </tr>\n  </tbody>\n</table>\n<p>50629 rows × 15 columns</p>\n</div>"
     },
     "execution_count": 1,
     "metadata": {},
     "output_type": "execute_result"
    }
   ],
   "source": [
    "import os\n",
    "import pandas as pd\n",
    "import warnings\n",
    "warnings.filterwarnings('ignore')\n",
    "from utils import get_unfindicators, fillna__\n",
    "pd.options.io.excel.xlsx.writer = 'xlsxwriter'\n",
    "\n",
    "target = r\"C:\\datas\\企业绩效数据\\非财务绩效数据\\deals\"\n",
    "unfinancials, indicator_dict = get_unfindicators()\n",
    "china_dataset = pd.DataFrame()\n",
    "# china_dataset = pd.read_csv(r'C:\\datas\\企业信息数据\\中国上市制造企业汇总表(简版).txt', index_col=0, dtype={'股票代码': \"object\"})\n",
    "# sckds = set(china_dataset['股票代码'].to_list())\n",
    "# china_dataset.rename(columns={'股票代码': 'Symbol', '省份': '上市省份'}, inplace=True)\n",
    "# 数据合并\n",
    "files = [os.path.join(target, entry.name) for entry in os.scandir(target)]\n",
    "for i in range(len(files)):\n",
    "    dataset = pd.read_csv(files[i], sep='\\t', header=0, dtype={'Symbol': 'object'})\n",
    "    # dataset = dataset[dataset['Symbol'].isin(sckds)]\n",
    "    if 'EndDate' not in china_dataset.columns:\n",
    "        china_dataset = dataset\n",
    "    else:\n",
    "        china_dataset = pd.merge(china_dataset, dataset, on=['Symbol', 'EndDate'], how='outer')\n",
    "\n",
    "name_dic = {name: indicator_dict[name] for name in china_dataset.columns.values.tolist()}\n",
    "china_dataset.rename(columns=name_dic, inplace=True)\n",
    "china_dataset.rename(columns={'统计截止日期': '截止年份'}, inplace=True)\n",
    "# china_dataset.dropna(subset=['上市省份'], inplace=True)\n",
    "\n",
    "# 有些数据不应该是小数，因此不能通过线性插值法填充数据\n",
    "# china_dataset['董事人数'].fillna(0, inplace=True)\n",
    "# china_dataset['独立董事人数'].fillna(0, inplace=True)\n",
    "# china_dataset['董事人数'] = china_dataset['董事人数'].astype('int32')\n",
    "# china_dataset['独立董事人数'] = china_dataset['独立董事人数'].astype('int32')\n",
    "china_dataset['独董比例'] = china_dataset['独立董事人数']/china_dataset['董事人数']\n",
    "china_dataset['董事会规模'].fillna(0, inplace=True)\n",
    "china_dataset['董事会规模'] = china_dataset['董事会规模'].astype('int32')\n",
    "china_dataset['两职合一'].fillna(0, inplace=True)\n",
    "china_dataset['股权性质'].fillna(0, inplace=True)\n",
    "china_dataset['两职合一'] = china_dataset['两职合一'].astype('int32')\n",
    "china_dataset['两职合一'] = china_dataset['两职合一'].apply(lambda x:0 if x==1 else 1)\n",
    "china_dataset['股权性质'] = china_dataset['股权性质'].astype('int32')\n",
    "china_dataset.drop(['董事人数', '独立董事人数'], axis=1, inplace=True)\n",
    "# 注意：职工人数；授权专利数也应该是整数\n",
    "# china_dataset.to_csv(r'C:\\onedrivers\\OneDrive - jsnu.edu.cn\\projects\\digital\\06.因果机制研究\\data\\非财务绩效数据.csv',index=False,encoding='utf8')\n",
    "\n",
    "# 删除部分缺失值太多的变量\n",
    "china_dataset = china_dataset.drop(['授权专利数','授权专利数2','研发人员数量', '研发投入金额'], axis=1)\n",
    "# 删除一些不需要的数据/'纳税总额A',\n",
    "china_dataset = china_dataset.drop(['内部控制指数','长期绩效增长', '组织韧性', '财务波动','两职合一','股权性质'], axis=1)\n",
    "dataset = fillna__(china_dataset, '股票代码',rate=0.2)  # 先对数据进行一次填充\n",
    "\n",
    "\n",
    "dataset.to_csv(r'./datas/全国上市企业非财务绩效汇总表.csv',encoding='utf8',index=None)\n",
    "china_dataset"
   ]
  },
  {
   "cell_type": "code",
   "execution_count": 3,
   "outputs": [
    {
     "data": {
      "text/plain": "       截止年份    股票代码  两职合一  本期销售额占年度销售总额比例(%)  本期采购额占年度采购总额比例(%)  股权性质  \\\n0      2007  000001     0          33.246757           35.87862     0   \n1      2008  000001     0          33.246757           35.87862     0   \n2      2009  000001     0          33.246757           35.87862     0   \n3      2010  000001     1          33.246757           35.87862     0   \n4      2011  000001     1          33.246757           35.87862     0   \n...     ...     ...   ...                ...                ...   ...   \n48234  2018  900957     1         100.000000           87.00000     0   \n48235  2019  900957     1         100.000000           94.00000     0   \n48236  2020  900957     1         100.000000           86.00000     0   \n48237  2021  900957     1         100.000000           84.00000     0   \n48238  2022  900957     1         100.000000           99.00000     0   \n\n        两权分离度(%)  股权集中度4(%)  研发人员数量占比(%)        人力资源效率      独董比例   提供岗位增长率  \\\n0       4.880392    30.9984          NaN           NaN  0.285714       inf   \n1       4.880392    34.7276          NaN           NaN  0.285714  0.210895   \n2       4.880392    33.7005          NaN           NaN  0.333333  0.089298   \n3       4.880392    39.5633          NaN           NaN  0.312500  0.079148   \n4       4.880392    58.9121          NaN           NaN  0.444444  0.129067   \n...          ...        ...          ...           ...       ...       ...   \n48234  13.032800    48.0287          NaN  8.627647e+05  0.333333 -0.038462   \n48235  13.032800    48.1793          NaN  1.346440e+06  0.333333  0.040000   \n48236  13.032800    48.3093          NaN           NaN  0.454545  0.000000   \n48237  13.032800    48.3658          NaN           NaN  0.333333  0.000000   \n48238  13.032800    48.6943          NaN  1.517890e+06  0.333333  0.012821   \n\n        员工收入增长率      研发强度      创新产出     董事会规模  \n0      0.161442  2.118253  0.000000  2.708050  \n1      0.161442  2.118253  0.000000  2.708050  \n2      0.161442  2.118253  0.000000  2.772589  \n3      0.161442  2.118253  1.609438  2.833213  \n4      0.161442  2.118253  0.000000  2.944439  \n...         ...       ...       ...       ...  \n48234 -0.178979  2.118253  0.000000  2.302585  \n48235  0.267129  2.118253  0.000000  2.302585  \n48236  0.142074  2.118253  0.000000  2.484907  \n48237  0.052725  2.118253  0.000000  1.945910  \n48238 -0.020197  2.118253  0.000000  1.945910  \n\n[50629 rows x 16 columns]",
      "text/html": "<div>\n<style scoped>\n    .dataframe tbody tr th:only-of-type {\n        vertical-align: middle;\n    }\n\n    .dataframe tbody tr th {\n        vertical-align: top;\n    }\n\n    .dataframe thead th {\n        text-align: right;\n    }\n</style>\n<table border=\"1\" class=\"dataframe\">\n  <thead>\n    <tr style=\"text-align: right;\">\n      <th></th>\n      <th>截止年份</th>\n      <th>股票代码</th>\n      <th>两职合一</th>\n      <th>本期销售额占年度销售总额比例(%)</th>\n      <th>本期采购额占年度采购总额比例(%)</th>\n      <th>股权性质</th>\n      <th>两权分离度(%)</th>\n      <th>股权集中度4(%)</th>\n      <th>研发人员数量占比(%)</th>\n      <th>人力资源效率</th>\n      <th>独董比例</th>\n      <th>提供岗位增长率</th>\n      <th>员工收入增长率</th>\n      <th>研发强度</th>\n      <th>创新产出</th>\n      <th>董事会规模</th>\n    </tr>\n  </thead>\n  <tbody>\n    <tr>\n      <th>0</th>\n      <td>2007</td>\n      <td>000001</td>\n      <td>0</td>\n      <td>33.246757</td>\n      <td>35.87862</td>\n      <td>0</td>\n      <td>4.880392</td>\n      <td>30.9984</td>\n      <td>NaN</td>\n      <td>NaN</td>\n      <td>0.285714</td>\n      <td>inf</td>\n      <td>0.161442</td>\n      <td>2.118253</td>\n      <td>0.000000</td>\n      <td>2.708050</td>\n    </tr>\n    <tr>\n      <th>1</th>\n      <td>2008</td>\n      <td>000001</td>\n      <td>0</td>\n      <td>33.246757</td>\n      <td>35.87862</td>\n      <td>0</td>\n      <td>4.880392</td>\n      <td>34.7276</td>\n      <td>NaN</td>\n      <td>NaN</td>\n      <td>0.285714</td>\n      <td>0.210895</td>\n      <td>0.161442</td>\n      <td>2.118253</td>\n      <td>0.000000</td>\n      <td>2.708050</td>\n    </tr>\n    <tr>\n      <th>2</th>\n      <td>2009</td>\n      <td>000001</td>\n      <td>0</td>\n      <td>33.246757</td>\n      <td>35.87862</td>\n      <td>0</td>\n      <td>4.880392</td>\n      <td>33.7005</td>\n      <td>NaN</td>\n      <td>NaN</td>\n      <td>0.333333</td>\n      <td>0.089298</td>\n      <td>0.161442</td>\n      <td>2.118253</td>\n      <td>0.000000</td>\n      <td>2.772589</td>\n    </tr>\n    <tr>\n      <th>3</th>\n      <td>2010</td>\n      <td>000001</td>\n      <td>1</td>\n      <td>33.246757</td>\n      <td>35.87862</td>\n      <td>0</td>\n      <td>4.880392</td>\n      <td>39.5633</td>\n      <td>NaN</td>\n      <td>NaN</td>\n      <td>0.312500</td>\n      <td>0.079148</td>\n      <td>0.161442</td>\n      <td>2.118253</td>\n      <td>1.609438</td>\n      <td>2.833213</td>\n    </tr>\n    <tr>\n      <th>4</th>\n      <td>2011</td>\n      <td>000001</td>\n      <td>1</td>\n      <td>33.246757</td>\n      <td>35.87862</td>\n      <td>0</td>\n      <td>4.880392</td>\n      <td>58.9121</td>\n      <td>NaN</td>\n      <td>NaN</td>\n      <td>0.444444</td>\n      <td>0.129067</td>\n      <td>0.161442</td>\n      <td>2.118253</td>\n      <td>0.000000</td>\n      <td>2.944439</td>\n    </tr>\n    <tr>\n      <th>...</th>\n      <td>...</td>\n      <td>...</td>\n      <td>...</td>\n      <td>...</td>\n      <td>...</td>\n      <td>...</td>\n      <td>...</td>\n      <td>...</td>\n      <td>...</td>\n      <td>...</td>\n      <td>...</td>\n      <td>...</td>\n      <td>...</td>\n      <td>...</td>\n      <td>...</td>\n      <td>...</td>\n    </tr>\n    <tr>\n      <th>48234</th>\n      <td>2018</td>\n      <td>900957</td>\n      <td>1</td>\n      <td>100.000000</td>\n      <td>87.00000</td>\n      <td>0</td>\n      <td>13.032800</td>\n      <td>48.0287</td>\n      <td>NaN</td>\n      <td>8.627647e+05</td>\n      <td>0.333333</td>\n      <td>-0.038462</td>\n      <td>-0.178979</td>\n      <td>2.118253</td>\n      <td>0.000000</td>\n      <td>2.302585</td>\n    </tr>\n    <tr>\n      <th>48235</th>\n      <td>2019</td>\n      <td>900957</td>\n      <td>1</td>\n      <td>100.000000</td>\n      <td>94.00000</td>\n      <td>0</td>\n      <td>13.032800</td>\n      <td>48.1793</td>\n      <td>NaN</td>\n      <td>1.346440e+06</td>\n      <td>0.333333</td>\n      <td>0.040000</td>\n      <td>0.267129</td>\n      <td>2.118253</td>\n      <td>0.000000</td>\n      <td>2.302585</td>\n    </tr>\n    <tr>\n      <th>48236</th>\n      <td>2020</td>\n      <td>900957</td>\n      <td>1</td>\n      <td>100.000000</td>\n      <td>86.00000</td>\n      <td>0</td>\n      <td>13.032800</td>\n      <td>48.3093</td>\n      <td>NaN</td>\n      <td>NaN</td>\n      <td>0.454545</td>\n      <td>0.000000</td>\n      <td>0.142074</td>\n      <td>2.118253</td>\n      <td>0.000000</td>\n      <td>2.484907</td>\n    </tr>\n    <tr>\n      <th>48237</th>\n      <td>2021</td>\n      <td>900957</td>\n      <td>1</td>\n      <td>100.000000</td>\n      <td>84.00000</td>\n      <td>0</td>\n      <td>13.032800</td>\n      <td>48.3658</td>\n      <td>NaN</td>\n      <td>NaN</td>\n      <td>0.333333</td>\n      <td>0.000000</td>\n      <td>0.052725</td>\n      <td>2.118253</td>\n      <td>0.000000</td>\n      <td>1.945910</td>\n    </tr>\n    <tr>\n      <th>48238</th>\n      <td>2022</td>\n      <td>900957</td>\n      <td>1</td>\n      <td>100.000000</td>\n      <td>99.00000</td>\n      <td>0</td>\n      <td>13.032800</td>\n      <td>48.6943</td>\n      <td>NaN</td>\n      <td>1.517890e+06</td>\n      <td>0.333333</td>\n      <td>0.012821</td>\n      <td>-0.020197</td>\n      <td>2.118253</td>\n      <td>0.000000</td>\n      <td>1.945910</td>\n    </tr>\n  </tbody>\n</table>\n<p>50629 rows × 16 columns</p>\n</div>"
     },
     "execution_count": 3,
     "metadata": {},
     "output_type": "execute_result"
    }
   ],
   "source": [
    "import numpy as np\n",
    "\n",
    "dataset['人力资源效率'] = dataset['主营业务收入'] / dataset['员工人数']\n",
    "# dataset['独董比例'] = dataset['独立董事人数'] / dataset['董事人数']\n",
    "# dataset['供应链集成(%)'] = (dataset['本期销售额占年度销售总额比例(%)'] + dataset['本期采购额占年度采购总额比例(%)']) / 2\n",
    "dataset['提供岗位增长率'] = dataset.groupby('股票代码')['员工人数'].pct_change(1, fill_method='ffill')\n",
    "# dataset['企业税费增长率'] = dataset.groupby('股票代码')['纳税总额A'].pct_change(1, fill_method='ffill')\n",
    "dataset['员工收入增长率'] = dataset.groupby('股票代码')['职工薪酬'].pct_change(1, fill_method='ffill')\n",
    "\n",
    "dataset['提供岗位增长率'].fillna(dataset['提供岗位增长率'].mean(), inplace=True)\n",
    "dataset['员工收入增长率'].fillna(dataset['员工收入增长率'].mean(), inplace=True)\n",
    "dataset['提供岗位增长率'].replace(to_replace=np.inf, value=dataset['提供岗位增长率'].mean(), inplace=True)\n",
    "dataset['员工收入增长率'].replace(to_replace=np.inf, value=dataset['提供岗位增长率'].mean(), inplace=True)\n",
    "# dataset['研发强度'] = dataset['研发营收比(%)'].apply(lambda x:np.log(1+x))\n",
    "# dataset['创新产出'] = dataset['授权专利数2'].apply(lambda x:np.log(1+x))\n",
    "dataset['董事会规模'] = dataset['董事人数'].apply(lambda x: np.log(1+x))\n",
    "dataset.drop(['主营业务收入', '员工人数', '董事人数','研发营收比(%)', '独立董事人数', '职工薪酬','授权专利数2'], axis=1, inplace=True)\n",
    "# '本期销售额占年度销售总额比例(%)', '本期采购额占年度采购总额比例(%)',\n",
    "dataset"
   ],
   "metadata": {
    "collapsed": false,
    "ExecuteTime": {
     "end_time": "2023-12-29T08:53:18.770118700Z",
     "start_time": "2023-12-29T08:53:18.460697800Z"
    }
   },
   "id": "86564d201f6c4a28"
  },
  {
   "cell_type": "code",
   "execution_count": 4,
   "outputs": [
    {
     "data": {
      "text/plain": "       截止年份    股票代码  两职合一  本期销售额占年度销售总额比例(%)  本期采购额占年度采购总额比例(%)  股权性质  \\\n0      2007  000001     0          33.246757           35.87862     0   \n1      2008  000001     0          33.246757           35.87862     0   \n2      2009  000001     0          33.246757           35.87862     0   \n3      2010  000001     1          33.246757           35.87862     0   \n4      2011  000001     1          33.246757           35.87862     0   \n...     ...     ...   ...                ...                ...   ...   \n50624  2018  900957     1         100.000000           87.00000     0   \n50625  2019  900957     1         100.000000           94.00000     0   \n50626  2020  900957     1         100.000000           86.00000     0   \n50627  2021  900957     1         100.000000           84.00000     0   \n50628  2022  900957     1         100.000000           99.00000     0   \n\n        两权分离度(%)  股权集中度4(%)  研发人员数量占比(%)        人力资源效率      独董比例   提供岗位增长率  \\\n0       4.880392    30.9984          NaN           NaN  0.285714       inf   \n1       4.880392    34.7276          NaN           NaN  0.285714  0.210895   \n2       4.880392    33.7005          NaN           NaN  0.333333  0.089298   \n3       4.880392    39.5633          NaN           NaN  0.312500  0.079148   \n4       4.880392    58.9121          NaN           NaN  0.444444  0.129067   \n...          ...        ...          ...           ...       ...       ...   \n50624  13.032800    48.0287          NaN  8.627647e+05  0.333333 -0.038462   \n50625  13.032800    48.1793          NaN  1.346440e+06  0.333333  0.040000   \n50626  13.032800    48.3093          NaN           NaN  0.454545  0.000000   \n50627  13.032800    48.3658          NaN           NaN  0.333333  0.000000   \n50628  13.032800    48.6943          NaN  1.517890e+06  0.333333  0.012821   \n\n        员工收入增长率      研发强度      创新产出     董事会规模  \n0      0.161442  2.118253  0.000000  2.708050  \n1      0.161442  2.118253  0.000000  2.708050  \n2      0.161442  2.118253  0.000000  2.772589  \n3      0.161442  2.118253  1.609438  2.833213  \n4      0.161442  2.118253  0.000000  2.944439  \n...         ...       ...       ...       ...  \n50624 -0.178979  2.118253  0.000000  2.302585  \n50625  0.267129  2.118253  0.000000  2.302585  \n50626  0.142074  2.118253  0.000000  2.484907  \n50627  0.052725  2.118253  0.000000  1.945910  \n50628 -0.020197  2.118253  0.000000  1.945910  \n\n[50629 rows x 16 columns]",
      "text/html": "<div>\n<style scoped>\n    .dataframe tbody tr th:only-of-type {\n        vertical-align: middle;\n    }\n\n    .dataframe tbody tr th {\n        vertical-align: top;\n    }\n\n    .dataframe thead th {\n        text-align: right;\n    }\n</style>\n<table border=\"1\" class=\"dataframe\">\n  <thead>\n    <tr style=\"text-align: right;\">\n      <th></th>\n      <th>截止年份</th>\n      <th>股票代码</th>\n      <th>两职合一</th>\n      <th>本期销售额占年度销售总额比例(%)</th>\n      <th>本期采购额占年度采购总额比例(%)</th>\n      <th>股权性质</th>\n      <th>两权分离度(%)</th>\n      <th>股权集中度4(%)</th>\n      <th>研发人员数量占比(%)</th>\n      <th>人力资源效率</th>\n      <th>独董比例</th>\n      <th>提供岗位增长率</th>\n      <th>员工收入增长率</th>\n      <th>研发强度</th>\n      <th>创新产出</th>\n      <th>董事会规模</th>\n    </tr>\n  </thead>\n  <tbody>\n    <tr>\n      <th>0</th>\n      <td>2007</td>\n      <td>000001</td>\n      <td>0</td>\n      <td>33.246757</td>\n      <td>35.87862</td>\n      <td>0</td>\n      <td>4.880392</td>\n      <td>30.9984</td>\n      <td>NaN</td>\n      <td>NaN</td>\n      <td>0.285714</td>\n      <td>inf</td>\n      <td>0.161442</td>\n      <td>2.118253</td>\n      <td>0.000000</td>\n      <td>2.708050</td>\n    </tr>\n    <tr>\n      <th>1</th>\n      <td>2008</td>\n      <td>000001</td>\n      <td>0</td>\n      <td>33.246757</td>\n      <td>35.87862</td>\n      <td>0</td>\n      <td>4.880392</td>\n      <td>34.7276</td>\n      <td>NaN</td>\n      <td>NaN</td>\n      <td>0.285714</td>\n      <td>0.210895</td>\n      <td>0.161442</td>\n      <td>2.118253</td>\n      <td>0.000000</td>\n      <td>2.708050</td>\n    </tr>\n    <tr>\n      <th>2</th>\n      <td>2009</td>\n      <td>000001</td>\n      <td>0</td>\n      <td>33.246757</td>\n      <td>35.87862</td>\n      <td>0</td>\n      <td>4.880392</td>\n      <td>33.7005</td>\n      <td>NaN</td>\n      <td>NaN</td>\n      <td>0.333333</td>\n      <td>0.089298</td>\n      <td>0.161442</td>\n      <td>2.118253</td>\n      <td>0.000000</td>\n      <td>2.772589</td>\n    </tr>\n    <tr>\n      <th>3</th>\n      <td>2010</td>\n      <td>000001</td>\n      <td>1</td>\n      <td>33.246757</td>\n      <td>35.87862</td>\n      <td>0</td>\n      <td>4.880392</td>\n      <td>39.5633</td>\n      <td>NaN</td>\n      <td>NaN</td>\n      <td>0.312500</td>\n      <td>0.079148</td>\n      <td>0.161442</td>\n      <td>2.118253</td>\n      <td>1.609438</td>\n      <td>2.833213</td>\n    </tr>\n    <tr>\n      <th>4</th>\n      <td>2011</td>\n      <td>000001</td>\n      <td>1</td>\n      <td>33.246757</td>\n      <td>35.87862</td>\n      <td>0</td>\n      <td>4.880392</td>\n      <td>58.9121</td>\n      <td>NaN</td>\n      <td>NaN</td>\n      <td>0.444444</td>\n      <td>0.129067</td>\n      <td>0.161442</td>\n      <td>2.118253</td>\n      <td>0.000000</td>\n      <td>2.944439</td>\n    </tr>\n    <tr>\n      <th>...</th>\n      <td>...</td>\n      <td>...</td>\n      <td>...</td>\n      <td>...</td>\n      <td>...</td>\n      <td>...</td>\n      <td>...</td>\n      <td>...</td>\n      <td>...</td>\n      <td>...</td>\n      <td>...</td>\n      <td>...</td>\n      <td>...</td>\n      <td>...</td>\n      <td>...</td>\n      <td>...</td>\n    </tr>\n    <tr>\n      <th>50624</th>\n      <td>2018</td>\n      <td>900957</td>\n      <td>1</td>\n      <td>100.000000</td>\n      <td>87.00000</td>\n      <td>0</td>\n      <td>13.032800</td>\n      <td>48.0287</td>\n      <td>NaN</td>\n      <td>8.627647e+05</td>\n      <td>0.333333</td>\n      <td>-0.038462</td>\n      <td>-0.178979</td>\n      <td>2.118253</td>\n      <td>0.000000</td>\n      <td>2.302585</td>\n    </tr>\n    <tr>\n      <th>50625</th>\n      <td>2019</td>\n      <td>900957</td>\n      <td>1</td>\n      <td>100.000000</td>\n      <td>94.00000</td>\n      <td>0</td>\n      <td>13.032800</td>\n      <td>48.1793</td>\n      <td>NaN</td>\n      <td>1.346440e+06</td>\n      <td>0.333333</td>\n      <td>0.040000</td>\n      <td>0.267129</td>\n      <td>2.118253</td>\n      <td>0.000000</td>\n      <td>2.302585</td>\n    </tr>\n    <tr>\n      <th>50626</th>\n      <td>2020</td>\n      <td>900957</td>\n      <td>1</td>\n      <td>100.000000</td>\n      <td>86.00000</td>\n      <td>0</td>\n      <td>13.032800</td>\n      <td>48.3093</td>\n      <td>NaN</td>\n      <td>NaN</td>\n      <td>0.454545</td>\n      <td>0.000000</td>\n      <td>0.142074</td>\n      <td>2.118253</td>\n      <td>0.000000</td>\n      <td>2.484907</td>\n    </tr>\n    <tr>\n      <th>50627</th>\n      <td>2021</td>\n      <td>900957</td>\n      <td>1</td>\n      <td>100.000000</td>\n      <td>84.00000</td>\n      <td>0</td>\n      <td>13.032800</td>\n      <td>48.3658</td>\n      <td>NaN</td>\n      <td>NaN</td>\n      <td>0.333333</td>\n      <td>0.000000</td>\n      <td>0.052725</td>\n      <td>2.118253</td>\n      <td>0.000000</td>\n      <td>1.945910</td>\n    </tr>\n    <tr>\n      <th>50628</th>\n      <td>2022</td>\n      <td>900957</td>\n      <td>1</td>\n      <td>100.000000</td>\n      <td>99.00000</td>\n      <td>0</td>\n      <td>13.032800</td>\n      <td>48.6943</td>\n      <td>NaN</td>\n      <td>1.517890e+06</td>\n      <td>0.333333</td>\n      <td>0.012821</td>\n      <td>-0.020197</td>\n      <td>2.118253</td>\n      <td>0.000000</td>\n      <td>1.945910</td>\n    </tr>\n  </tbody>\n</table>\n<p>50629 rows × 16 columns</p>\n</div>"
     },
     "execution_count": 4,
     "metadata": {},
     "output_type": "execute_result"
    }
   ],
   "source": [
    "dataset.sort_values(['股票代码', '截止年份'], inplace=True)\n",
    "dataset.reset_index(drop=True, inplace=True)\n",
    "# dataset.drop(['上市日期','上市省份'],inplace=True,axis=1)\n",
    "dataset"
   ],
   "metadata": {
    "collapsed": false,
    "ExecuteTime": {
     "end_time": "2023-12-29T08:53:18.875668500Z",
     "start_time": "2023-12-29T08:53:18.770118700Z"
    }
   },
   "id": "852d9292844dd041"
  },
  {
   "cell_type": "code",
   "execution_count": 5,
   "outputs": [],
   "source": [
    "dataset.to_csv(r'./datas/全国上市企业非财务绩效汇总表.csv',encoding='utf8',index=None)"
   ],
   "metadata": {
    "collapsed": false,
    "ExecuteTime": {
     "end_time": "2023-12-11T14:02:20.990741100Z",
     "start_time": "2023-12-11T14:02:20.676357500Z"
    }
   },
   "id": "54a8c4d18d2839cc"
  },
  {
   "cell_type": "code",
   "execution_count": null,
   "outputs": [],
   "source": [],
   "metadata": {
    "collapsed": false
   },
   "id": "dd7d49f808f5524d"
  }
 ],
 "metadata": {
  "kernelspec": {
   "display_name": "Python 3",
   "language": "python",
   "name": "python3"
  },
  "language_info": {
   "codemirror_mode": {
    "name": "ipython",
    "version": 2
   },
   "file_extension": ".py",
   "mimetype": "text/x-python",
   "name": "python",
   "nbconvert_exporter": "python",
   "pygments_lexer": "ipython2",
   "version": "2.7.6"
  }
 },
 "nbformat": 4,
 "nbformat_minor": 5
}
