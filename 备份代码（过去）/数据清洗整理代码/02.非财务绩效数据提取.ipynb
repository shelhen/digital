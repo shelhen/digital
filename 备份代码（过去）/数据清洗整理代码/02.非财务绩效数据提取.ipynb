{
 "cells": [
  {
   "cell_type": "code",
   "execution_count": 1,
   "id": "initial_id",
   "metadata": {
    "collapsed": true,
    "ExecuteTime": {
     "end_time": "2024-04-07T10:21:13.616008Z",
     "start_time": "2024-04-07T10:21:13.257929Z"
    }
   },
   "outputs": [],
   "source": [
    "import os\n",
    "import numpy as np\n",
    "import pandas as pd\n",
    "from utils import get_unfindicators\n",
    "pd.options.io.excel.xlsx.writer = 'xlsxwriter'\n",
    "\n",
    "target = r\"C:\\datas\\企业绩效数据\\非财务绩效数据\\deals\"\n",
    "# 对数据进行简单的预处理，将一些非财务报表中的excel文件转化为txt,方便后面操作\n",
    "path = r\"C:\\datas\\企业绩效数据\\非财务绩效数据\"\n",
    "indicators = get_unfindicators()[0]"
   ]
  },
  {
   "cell_type": "code",
   "execution_count": 2,
   "outputs": [],
   "source": [
    "# 先处理高管人数、持股及薪酬情况===>董事人数;独立董事人数\n",
    "file_ = r'高管人数、持股及薪酬情况表160101119(仅供盐城工学院使用)\\\\CG_ManagerShareSalary.txt'\n",
    "dataset = pd.read_csv(os.path.join(path, file_), sep='\\t', header=0, dtype={'Symbol': 'object'}, parse_dates=['Enddate'])\n",
    "dataset.rename(columns={'Enddate': 'EndDate'}, inplace=True)\n",
    "names = {item for item in dataset.columns.values.tolist() if item in indicators}\n",
    "dataset = dataset[(dataset.StatisticalCaliber == 2)][list(names)]\n",
    "dataset = dataset[(dataset['EndDate'].dt.month==12)&(dataset['EndDate'].dt.year>2006)][list(names)]\n",
    "dataset['EndDate'] = dataset['EndDate'].dt.year\n",
    "dataset.sort_values(by=['Symbol', 'EndDate'],inplace=True)\n",
    "dataset.to_csv(os.path.join(target, file_.split('\\\\')[-1]), sep='\\t', index=False)"
   ],
   "metadata": {
    "collapsed": false,
    "ExecuteTime": {
     "end_time": "2024-04-01T17:32:41.136489Z",
     "start_time": "2024-04-01T17:32:40.456094Z"
    }
   },
   "id": "43b3e0730fd5726d"
  },
  {
   "cell_type": "code",
   "execution_count": 3,
   "outputs": [],
   "source": [
    "# 十大股东股权集中文件====>股权集中指标4(%)\n",
    "file_ = r'十大股东股权集中文件163516241(仅供盐城工学院使用)\\\\HLD_CR.txt'\n",
    "dataset = pd.read_csv(os.path.join(path, file_), sep='\\t', header=0, dtype={'Stkcd': 'object'}, parse_dates=['Reptdt'])\n",
    "dataset.rename(columns={'Reptdt': 'EndDate', 'Stkcd': 'Symbol'}, inplace=True)\n",
    "names = {item for item in dataset.columns.values.tolist() if item in indicators}\n",
    "dataset = dataset[(dataset['EndDate'].dt.month==12)&(dataset['EndDate'].dt.year>2006)][list(names)]\n",
    "dataset['EndDate'] = dataset['EndDate'].dt.year\n",
    "dataset.sort_values(by=['Symbol', 'EndDate'],inplace=True)\n",
    "\n",
    "dataset.to_csv(os.path.join(target, file_.split('\\\\')[-1]), sep='\\t', index=False)"
   ],
   "metadata": {
    "collapsed": false,
    "ExecuteTime": {
     "end_time": "2024-04-01T17:32:42.465085Z",
     "start_time": "2024-04-01T17:32:41.700969Z"
    }
   },
   "id": "51421fda8aaecfd9"
  },
  {
   "cell_type": "code",
   "execution_count": 4,
   "outputs": [],
   "source": [
    "# 研发人员数量;研发人员数量占比;研发投入金额；研发投入占营业收入比例(%)\n",
    "file_ = r'研发投入情况表161958173(仅供盐城工学院使用)\\\\PT_LCRDSPENDING.txt'\n",
    "dataset = pd.read_csv(os.path.join(path, file_), sep='\\t', header=0, dtype={'Symbol': 'object'}, parse_dates=['EndDate'])\n",
    "names = {item for item in dataset.columns.values.tolist() if item in indicators}\n",
    "dataset = dataset[(dataset['Source'] == 0)&(dataset['StateTypeCode'] == 1)&(dataset['EndDate'].dt.year>2006)&(dataset['EndDate'].dt.month==12)][list(names)]\n",
    "dataset['EndDate'] = dataset['EndDate'].dt.year\n",
    "dataset.to_csv(os.path.join(target, file_.split('\\\\')[-1]), sep='\\t', index=False)"
   ],
   "metadata": {
    "collapsed": false,
    "ExecuteTime": {
     "end_time": "2024-04-01T17:32:43.203273Z",
     "start_time": "2024-04-01T17:32:42.983308Z"
    }
   },
   "id": "ebce72297ee126f9"
  },
  {
   "cell_type": "code",
   "execution_count": 5,
   "outputs": [],
   "source": [
    "# 前五大客户、供应商情况表、本期销售额占年度销售总额比例(%)；本期采购额占年度采购总额比例(%)\n",
    "file_ = r'前五大客户、供应商情况表160624235(仅供盐城工学院使用)\\\\FN_FN010.txt'\n",
    "dataset = pd.read_csv(os.path.join(path, file_), sep='\\t', header=0, dtype={'stkcd': 'object'}, parse_dates=['accper'])\n",
    "names = {item for item in dataset.columns.values.tolist() if item in indicators}\n",
    "dataset = dataset[(dataset.DataSources==0)&(dataset.typrep == 1) & (dataset.FN_Fn01001 == 6)&(dataset.accper.dt.month == 12)&(dataset.accper.dt.year >2006)][list(names)]\n",
    "salse = dataset[dataset['FN_Fn01004'] == 1][['stkcd', 'accper','FN_Fn01006']]\n",
    "salse.columns = ['Symbol', 'EndDate', '本期销售额占年度销售总额比例(%)']\n",
    "perchase = dataset[dataset['FN_Fn01004'] == 2][['stkcd', 'accper', 'FN_Fn01006']]\n",
    "perchase.columns = ['Symbol', 'EndDate','本期采购额占年度采购总额比例(%)']\n",
    "dataset = pd.merge(salse, perchase, on=['Symbol', 'EndDate', ], how='outer')\n",
    "dataset['EndDate'] = dataset['EndDate'].dt.year\n",
    "dataset.sort_values(by=['Symbol', 'EndDate'],inplace=True)\n",
    "\n",
    "dataset.to_csv(os.path.join(target, file_.split('\\\\')[-1]), sep='\\t', index=False)"
   ],
   "metadata": {
    "collapsed": false,
    "ExecuteTime": {
     "end_time": "2024-04-01T17:32:44.985Z",
     "start_time": "2024-04-01T17:32:43.730730Z"
    }
   },
   "id": "f7fa9d200c2d70d0"
  },
  {
   "cell_type": "code",
   "execution_count": 6,
   "outputs": [],
   "source": [
    "# 现金流量表2007-2022===>应付职工薪酬\n",
    "file_ = r'现金流量表(直接法)163422942(仅供盐城工学院使用)\\\\FS_Comscfd.txt'\n",
    "dataset = pd.read_csv(os.path.join(path, file_), sep='\\t', header=0, dtype={'Stkcd': 'object'}, parse_dates=['Accper'])\n",
    "dataset.rename(columns={'Accper': 'EndDate', 'Stkcd': 'Symbol'}, inplace=True)\n",
    "names = {item for item in dataset.columns.values.tolist() if item in indicators}\n",
    "dataset = dataset[(dataset.Typrep == 'A')&(dataset.EndDate.dt.year >2016)&(dataset.EndDate.dt.month ==12)][list(names)]\n",
    "dataset['EndDate'] = dataset['EndDate'].dt.year\n",
    "dataset.sort_values(by=['Symbol', 'EndDate'],inplace=True)\n",
    "\n",
    "dataset.to_csv(os.path.join(target, file_.split('\\\\')[-1]), sep='\\t', index=False)"
   ],
   "metadata": {
    "collapsed": false,
    "ExecuteTime": {
     "end_time": "2024-04-01T17:32:49.839229Z",
     "start_time": "2024-04-01T17:32:45.479601Z"
    }
   },
   "id": "af82bf8782bd6e5e"
  },
  {
   "cell_type": "code",
   "execution_count": 7,
   "outputs": [],
   "source": [
    "# 社会责任报告基本信息:纳税总额，捐献总额\n",
    "file_ = r'上市公司社会责任报告基本信息表163211165(仅供盐城工学院使用)\\\\CSRR_BasicInfo.txt'\n",
    "dataset = pd.read_csv(os.path.join(path, file_), sep='\\t', header=0, dtype={'Symbol': 'object'}, parse_dates=['EndDate'])\n",
    "names = {item for item in dataset.columns.values.tolist() if item in indicators}\n",
    "dataset = dataset[(dataset['EndDate'].dt.month==12)&(dataset['EndDate'].dt.year>2006)][list(names)]\n",
    "dataset['EndDate'] = dataset['EndDate'].dt.year\n",
    "dataset.sort_values(by=['Symbol', 'EndDate'],inplace=True)\n",
    "dataset.to_csv(os.path.join(target, file_.split('\\\\')[-1]), sep='\\t', index=False)"
   ],
   "metadata": {
    "collapsed": false,
    "ExecuteTime": {
     "end_time": "2024-04-01T17:32:50.617156Z",
     "start_time": "2024-04-01T17:32:50.421372Z"
    }
   },
   "id": "b12c838f099be21"
  },
  {
   "cell_type": "code",
   "execution_count": 8,
   "outputs": [],
   "source": [
    "# 治理综合信息文件160356990===>员工人数;董事长与总经理兼任情况;股东总数\n",
    "file_ = r'治理综合信息文件160356990(仅供盐城工学院使用)\\\\CG_Ybasic.txt'\n",
    "dataset = pd.read_csv(os.path.join(path, file_), sep='\\t', header=0, dtype={'Stkcd': 'object'}, parse_dates=['Reptdt'])\n",
    "dataset.rename(columns={'Reptdt': 'EndDate', 'Stkcd': 'Symbol'}, inplace=True)\n",
    "names = {item for item in dataset.columns.values.tolist() if item in indicators}\n",
    "dataset = dataset[(dataset['EndDate'].dt.month ==12)&(dataset['EndDate'].dt.year>2006)][list(names)]\n",
    "dataset['EndDate'] = dataset['EndDate'].dt.year\n",
    "dataset.sort_values(by=['Symbol', 'EndDate'],inplace=True)\n",
    "\n",
    "dataset.to_csv(os.path.join(target, file_.split('\\\\')[-1]), sep='\\t', index=False)"
   ],
   "metadata": {
    "collapsed": false,
    "ExecuteTime": {
     "end_time": "2024-04-01T17:32:52.027700Z",
     "start_time": "2024-04-01T17:32:51.728456Z"
    }
   },
   "id": "efe66b8f8a35cce5"
  },
  {
   "cell_type": "code",
   "execution_count": 4,
   "outputs": [
    {
     "name": "stderr",
     "output_type": "stream",
     "text": [
      "C:\\Users\\shelhen\\AppData\\Local\\Temp\\ipykernel_8412\\4106467154.py:18: FutureWarning: The behavior of DataFrame concatenation with empty or all-NA entries is deprecated. In a future version, this will no longer exclude empty or all-NA columns when determining the result dtypes. To retain the old behavior, exclude the relevant entries before the concat operation.\n",
      "  dataset = pd.concat([dataset,dataset_])\n"
     ]
    }
   ],
   "source": [
    "# 主营业务收入\n",
    "income_path = r'C:\\datas\\企业绩效数据\\非财务绩效数据\\主营业务收入'\n",
    "file_ = 'FN_Fn048.txt'\n",
    "files = []\n",
    "for dir_ in os.listdir(income_path):\n",
    "    path_ = os.path.join(income_path, dir_)\n",
    "    for entry in os.scandir(path_):\n",
    "        if not entry.name.endswith('[txt].txt'):\n",
    "            files.append(os.path.join(path_, entry.name))\n",
    "dataset = pd.DataFrame(columns=['Symbol','EndDate','Fn04804'])\n",
    "\n",
    "for fpath in files:\n",
    "    dataset_ = pd.read_csv(fpath, sep='\\t', header=0, dtype={'Stkcd': 'object'}, parse_dates=['Accper'])\n",
    "    dataset_.rename(columns={'Accper': 'EndDate', 'Stkcd': 'Symbol'}, inplace=True)\n",
    "    names = {item for item in dataset.columns.values.tolist() if item in indicators}\n",
    "    dataset_ = dataset_[(dataset_['Typrep']==1)&(dataset_['Sgnyea']==1)&(dataset_['fn04814']==1)&(dataset_['EndDate'].dt.year>2006)&(dataset_['Fn04802']=='合计')&(dataset_['Fn04801']==1)][list(names)]\n",
    "    dataset_['EndDate'] = dataset_['EndDate'].dt.year\n",
    "    dataset = pd.concat([dataset,dataset_])\n",
    "dataset.drop_duplicates(subset=['Symbol','EndDate'],inplace=True)\n",
    "dataset.sort_values(by=['Symbol', 'EndDate'],inplace=True)\n",
    "dataset.reset_index(inplace=True)\n",
    "dataset.drop('index',axis=1,inplace=True)\n",
    "dataset.to_csv(os.path.join(target, file_), sep='\\t', index=False)"
   ],
   "metadata": {
    "collapsed": false,
    "ExecuteTime": {
     "end_time": "2024-04-07T10:24:16.694401Z",
     "start_time": "2024-04-07T10:24:09.646484Z"
    }
   },
   "id": "f97e2749ac01f2ad"
  },
  {
   "cell_type": "code",
   "execution_count": 10,
   "outputs": [
    {
     "name": "stderr",
     "output_type": "stream",
     "text": [
      "C:\\Users\\shelhen\\AppData\\Local\\Temp\\ipykernel_25488\\1053635027.py:9: FutureWarning: A value is trying to be set on a copy of a DataFrame or Series through chained assignment using an inplace method.\n",
      "The behavior will change in pandas 3.0. This inplace method will never work because the intermediate object on which we are setting values always behaves as a copy.\n",
      "\n",
      "For example, when doing 'df[col].method(value, inplace=True)', try using 'df.method({col: value}, inplace=True)' or df[col] = df[col].method(value) instead, to perform the operation inplace on the original object.\n",
      "\n",
      "\n",
      "  dataset['内部控制指数评分'].replace(to_replace=0, value=np.NaN, inplace=True)\n"
     ]
    }
   ],
   "source": [
    "file_ = r'组织韧性1990-2022\\\\内部控制指数及评级.csv'\n",
    "dataset = pd.read_csv(os.path.join(path, file_), encoding='gbk',parse_dates=['报告期'])\n",
    "\n",
    "dataset['Symbol'] = dataset['证券代码'].apply(lambda x: x[:-3])\n",
    "dataset['EndDate'] = pd.to_datetime(dataset['报告期'])\n",
    "dataset['EndDate'] = dataset['EndDate'].dt.year\n",
    "dataset = dataset[dataset['EndDate']>2006][['Symbol', 'EndDate', '内部控制指数评分']]\n",
    "\n",
    "dataset['内部控制指数评分'].replace(to_replace=0, value=np.NaN, inplace=True)\n",
    "dataset.rename(columns={'内部控制指数评分': '内部控制指数'}, inplace=True)\n",
    "dataset.sort_values(by=['Symbol', 'EndDate'],inplace=True)\n",
    "\n",
    "dataset.to_csv(os.path.join(target, file_.split('\\\\')[-1].split('.')[0] + '.txt'), sep='\\t', index=False)"
   ],
   "metadata": {
    "collapsed": false,
    "ExecuteTime": {
     "end_time": "2024-04-01T17:33:00.824132Z",
     "start_time": "2024-04-01T17:33:00.700891Z"
    }
   },
   "id": "f015918811a4c89a"
  },
  {
   "cell_type": "code",
   "execution_count": 11,
   "outputs": [],
   "source": [
    "file_ = r'组织韧性1990-2022\\\\组织韧性.dta'\n",
    "\n",
    "dataset = pd.io.stata.read_stata(os.path.join(path, file_))\n",
    "dataset['Symbol'] = dataset['id'].apply(lambda x: '{:0>6d}'.format(x))\n",
    "dataset['EndDate'] = pd.to_datetime(dataset['year'].apply(lambda x: f'{x}-12-31'))\n",
    "dataset = dataset[dataset['EndDate'].dt.year > 2006][['Symbol', 'EndDate', 'sd', 'growth', 'Score']]\n",
    "dataset.columns = ['Symbol', 'EndDate', '财务波动', '长期绩效增长', '组织韧性']\n",
    "dataset['EndDate'] = dataset['EndDate'].dt.year\n",
    "dataset.sort_values(['Symbol', 'EndDate'], inplace=True, ascending=True)\n",
    "dataset.to_csv(os.path.join(target, file_.split('\\\\')[-1].split('.')[0] + '.txt'), sep='\\t', index=False)"
   ],
   "metadata": {
    "collapsed": false,
    "ExecuteTime": {
     "end_time": "2024-04-01T17:33:00.964388Z",
     "start_time": "2024-04-01T17:33:00.825137Z"
    }
   },
   "id": "a1b64797e8b97ecf"
  },
  {
   "cell_type": "code",
   "execution_count": 12,
   "outputs": [],
   "source": [
    "# 专利\n",
    "file_ = r'国内外专利申请获得情况表161114761(仅供盐城工学院使用)\\\\PT_LCDOMFORAPPLY.txt'\n",
    "dataset = pd.read_csv(os.path.join(path, file_), sep='\\t', header=0, dtype={'Symbol': 'object'}, parse_dates=['EndDate'])\n",
    "dataset['EndDate'] =dataset['EndDate'].dt.year\n",
    "names = {item for item in dataset.columns.values.tolist() if item in indicators}\n",
    "dataset = dataset[(dataset['EndDate']>2017)&(dataset['StateTypeCode']==1)&(dataset['Area']==1)&(dataset['ApplyTypeCode']=='S5203')][['Symbol', 'EndDate','Patents']]\n",
    "dataset.dropna(inplace=True)\n",
    "file_ = r'专利授权情况表(1992-2017)142534725(仅供盐城工学院使用)\\\\PT_GRANT.txt'\n",
    "dataset_ = pd.read_csv(os.path.join(path, file_), sep='\\t', header=0, dtype={'Symbol': 'object'}, parse_dates=['EndDate'])\n",
    "dataset_['EndDate'] =dataset_['EndDate'].dt.year\n",
    "dataset_= dataset_[(dataset_['EndDate']>2006)&(dataset_['ClassifySign']==4)][['Symbol','EndDate','Grants']]\n",
    "dataset_.columns=['Symbol','EndDate','Patents']\n",
    "dataset = pd.concat([dataset, dataset_])\n",
    "dataset.sort_values(['Symbol', 'EndDate'], inplace=True, ascending=True)\n",
    "dataset.to_csv(os.path.join(target, file_.split('\\\\')[-1]), sep='\\t', index=False)"
   ],
   "metadata": {
    "collapsed": false,
    "ExecuteTime": {
     "end_time": "2024-04-01T17:33:01.594145Z",
     "start_time": "2024-04-01T17:33:00.965391Z"
    }
   },
   "id": "d936d49a7e1b2875"
  },
  {
   "cell_type": "code",
   "execution_count": 13,
   "outputs": [],
   "source": [
    "# 专利2\n",
    "_path2 = r'专利授权情况表(1992-2017)142534725(仅供盐城工学院使用)\\\\上市公司专利申请和授权数据.xlsx'\n",
    "pd.options.io.excel.xlsx.writer = 'xlsxwriter'\n",
    "\n",
    "dataset = pd.read_excel(os.path.join(path, _path2),index_col=None,header=0,dtype={'股票代码':'object'})\n",
    "dataset.rename(columns={'股票代码':'Symbol','year':'EndDate'},inplace=True)\n",
    "dataset = dataset[(dataset['公司类型']=='上市公司本身')&(dataset['EndDate']>2006)]\n",
    "patents = dataset.columns.tolist()[3:]\n",
    "dataset['Patents2'] = dataset[patents].apply(lambda x:x.sum(), axis=1)\n",
    "dataset = dataset[['Symbol','EndDate','Patents2']]\n",
    "# print(dataset.duplicated(subset=['Symbol', 'EndDate']).sum())\n",
    "dataset.to_csv(os.path.join(target, _path2.split('\\\\')[-1].split('.')[0]+'.txt'), sep='\\t', index=False)"
   ],
   "metadata": {
    "collapsed": false,
    "ExecuteTime": {
     "end_time": "2024-04-01T17:33:16.917792Z",
     "start_time": "2024-04-01T17:33:01.594145Z"
    }
   },
   "id": "4f9584873823efdf"
  },
  {
   "cell_type": "code",
   "execution_count": 14,
   "outputs": [
    {
     "name": "stderr",
     "output_type": "stream",
     "text": [
      "C:\\envs\\digital\\Lib\\site-packages\\openpyxl\\styles\\stylesheet.py:226: UserWarning: Workbook contains no default style, apply openpyxl's default\n",
      "  warn(\"Workbook contains no default style, apply openpyxl's default\")\n",
      "C:\\Users\\shelhen\\AppData\\Local\\Temp\\ipykernel_25488\\2842916684.py:26: FutureWarning: SeriesGroupBy.fillna is deprecated and will be removed in a future version. Use obj.ffill() or obj.bfill() for forward or backward filling instead. If you want to fill with a single value, use Series.fillna instead\n",
      "  dataset['S0702b'] = dataset.groupby('Symbol')['S0702b'].fillna(method='ffill')\n",
      "C:\\Users\\shelhen\\AppData\\Local\\Temp\\ipykernel_25488\\2842916684.py:26: FutureWarning: Series.fillna with 'method' is deprecated and will raise in a future version. Use obj.ffill() or obj.bfill() instead.\n",
      "  dataset['S0702b'] = dataset.groupby('Symbol')['S0702b'].fillna(method='ffill')\n",
      "C:\\Users\\shelhen\\AppData\\Local\\Temp\\ipykernel_25488\\2842916684.py:27: FutureWarning: SeriesGroupBy.fillna is deprecated and will be removed in a future version. Use obj.ffill() or obj.bfill() for forward or backward filling instead. If you want to fill with a single value, use Series.fillna instead\n",
      "  dataset['S0702b'] = dataset.groupby('Symbol')['S0702b'].fillna(dataset['股权性质'])\n"
     ]
    }
   ],
   "source": [
    "# 上市公司控制人文件:\n",
    "file_ = r'上市公司控制人文件005917664(仅供盐城工学院使用)\\\\HLD_Contrshr.csv'\n",
    "dataset = pd.read_csv(os.path.join(path, file_), sep=',', header=0, dtype={'Stkcd': 'object'}, parse_dates=['Reptdt'])\n",
    "dataset.rename(columns={'Reptdt': 'EndDate', 'Stkcd': 'Symbol'}, inplace=True)\n",
    "names = {item for item in dataset.columns.values.tolist() if item in indicators}\n",
    "# \n",
    "dataset = dataset[(dataset['S0701a']==1)&(dataset['EndDate'].dt.year>2006)&(dataset['EndDate'].dt.year<2023)][list(names)]\n",
    "dataset.drop_duplicates(subset=['Symbol', 'EndDate'],keep='first',inplace=True)\n",
    "dataset['EndDate'] = dataset['EndDate'].dt.year\n",
    "# dataset.sort_values(by=['Symbol', 'EndDate'],inplace=True)\n",
    "def judge_(x):\n",
    "    set_1 = {'1100', '2000', '2100', '2120'}\n",
    "    if type(x) == str:\n",
    "        set_2 = set(x.split(','))\n",
    "        return 1 if (set_1 & set_2) else 0\n",
    "    else:\n",
    "        return 0\n",
    "dataset['股权性质'] = dataset['S0702b'].apply(lambda x: judge_(x))\n",
    "dataset.drop('S0702b',axis=1,inplace=True)\n",
    "dataset_ = pd.read_excel(r'C:\\datas\\年报文本\\csmar数字化转型数据\\数字化转型指数\\CSMAR企业数字化转型指数统计表（年）-合作数据\\EDT_DigTransIndexStaY.xlsx',index_col=None,skiprows=[0,2],header=0,dtype={'证券代码':'object','统计年度':'int'})\n",
    "dataset_ = dataset_[['证券代码','统计年度','股权性质编码']]\n",
    "dataset_.columns=['Symbol', 'EndDate','S0702b']\n",
    "dataset_['S0702b'] = dataset_['S0702b'].apply(lambda x:1  if ('1' in str(x)) else 0)\n",
    "dataset = pd.merge(dataset_,dataset,on=['Symbol', 'EndDate'],how='outer')\n",
    "dataset.drop_duplicates(subset=['Symbol', 'EndDate'],keep='first',inplace=True)\n",
    "dataset['S0702b'] = dataset.groupby('Symbol')['S0702b'].fillna(method='ffill')\n",
    "dataset['S0702b'] = dataset.groupby('Symbol')['S0702b'].fillna(dataset['股权性质'])\n",
    "dataset = dataset[['Symbol', 'EndDate','S0702b','Seperation']]\n",
    "dataset.sort_values(by=['Symbol', 'EndDate'],inplace=True)\n",
    "dataset.reset_index(inplace=True)\n",
    "dataset.drop('index',axis=1,inplace=True)\n",
    "dataset.to_csv(os.path.join(target, file_.split('\\\\')[-1].split('.')[0]+'.txt'), sep='\\t', index=False)"
   ],
   "metadata": {
    "collapsed": false,
    "ExecuteTime": {
     "end_time": "2024-04-01T17:33:25.774114Z",
     "start_time": "2024-04-01T17:33:16.918842Z"
    }
   },
   "id": "96bdc8676b6890f6"
  },
  {
   "cell_type": "code",
   "execution_count": null,
   "outputs": [],
   "source": [
    "# print(dataset.duplicated(subset=['Symbol', 'EndDate']).sum())\n",
    "# dataset[dataset.duplicated(subset=['Symbol', 'EndDate'])]"
   ],
   "metadata": {
    "collapsed": false
   },
   "id": "1902f3665549c80c"
  }
 ],
 "metadata": {
  "kernelspec": {
   "display_name": "Python 3",
   "language": "python",
   "name": "python3"
  },
  "language_info": {
   "codemirror_mode": {
    "name": "ipython",
    "version": 2
   },
   "file_extension": ".py",
   "mimetype": "text/x-python",
   "name": "python",
   "nbconvert_exporter": "python",
   "pygments_lexer": "ipython2",
   "version": "2.7.6"
  }
 },
 "nbformat": 4,
 "nbformat_minor": 5
}
