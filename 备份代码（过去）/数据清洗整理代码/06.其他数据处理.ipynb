{
 "cells": [
  {
   "cell_type": "code",
   "execution_count": null,
   "outputs": [],
   "source": [
    "import pandas as pd\n",
    "\n",
    "files = r'D:\\datas\\上市公司主要财务指标.xlsx'\n",
    "dataset = pd.read_excel(files,dtype={'证券代码': \"object\", '统计截止日期': 'datetime64[s]'}, index_col=None, header=0, skiprows=[0, 2])\n",
    "dataset['统计截止日期']= dataset['统计截止日期'].dt.year\n",
    "dataset = dataset[['证券代码','统计截止日期','无形资产']]\n",
    "dataset.rename(columns={'证券代码':'股票代码','统计截止日期':'截止日期','无形资产':'无形资产总量'},inplace=True)\n",
    "dataset.to_csv(r'D:\\Projects\\DigitalTransformation\\01.年报爬取与关键词提取\\datas\\无形资产总量.csv',index=None,encoding='utf-8')"
   ],
   "metadata": {
    "collapsed": false
   },
   "id": "906999e10492dede"
  },
  {
   "cell_type": "markdown",
   "source": [
    "在数据分析任务中，我们常常需要读取Excel文件中的数据。但是，如果Excel文件特别大，内存无法加载整个文件，这时候pandas读取Excel文件会出现内存溢出的错误。本文介绍几种优化方法，可以有效解决这个问题。\n",
    "\n",
    "\n",
    "1. 分块读取文件\n",
    "我们可以将文件分成多个块，逐块读取，避免加载整个文件。例如:\n",
    "\n",
    "```python\n",
    "for df in pd.read_excel(file,sheet_name=sheet,chunksize=1000000):\n",
    "```\n",
    "对分块进行处理\n",
    "2. 指定行数范围读取\n",
    "可以只读取文件的某些行，避免读取不需要的行。例如:\n",
    "\n",
    "```python\n",
    "df = pd.read_excel(file,sheet_name=sheet,skiprows=100000,nrows=500000)\n",
    "# 跳过前10万行，读取50万行\n",
    "```\n",
    "3. 加载数据时不读索引和标题行\n",
    "通过header=None和index_col=None参数:\n",
    "\n",
    "```python\n",
    "df = pd.read_excel(file,sheet_name=sheet,header=None, index_col=None)\n",
    "```\n",
    "4. 选择需要的列读取\n",
    "通过usecols参数只选择需要的列，避免读取无用的数据列。\n",
    "\n",
    "```python\n",
    "df = pd.read_excel(file,sheet_name=sheet,usecols=[\"col1\",\"col3\",\"col6\"])\n",
    "```\n",
    "5. 转换数据类型以最小化内存使用\n",
    "使用dtype参数，选择合适的类型加载列的数据，避免默认使用object类型加载，这可以显著减少内存使用。\n",
    "\n",
    "```python\n",
    "df = pd.read_excel(file,sheet_name=sheet,dtype={\"col1\": np.int32,\"col2\": np.float64})\n",
    "```\n",
    "以上几种方法可以结合使用，有效减少内存使用，解析大Excel文件。通过适当优化，pandas完全有能力高效读取大文件的内容，解决各种数据分析任务。"
   ],
   "metadata": {
    "collapsed": false
   },
   "id": "697832d498d73b19"
  },
  {
   "cell_type": "code",
   "execution_count": null,
   "outputs": [],
   "source": [],
   "metadata": {
    "collapsed": false,
    "is_executing": true
   },
   "id": "6c6cfd99e2e2d06e"
  }
 ],
 "metadata": {
  "kernelspec": {
   "display_name": "Python 3",
   "language": "python",
   "name": "python3"
  },
  "language_info": {
   "codemirror_mode": {
    "name": "ipython",
    "version": 2
   },
   "file_extension": ".py",
   "mimetype": "text/x-python",
   "name": "python",
   "nbconvert_exporter": "python",
   "pygments_lexer": "ipython2",
   "version": "2.7.6"
  }
 },
 "nbformat": 4,
 "nbformat_minor": 5
}
