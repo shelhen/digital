{
 "cells": [
  {
   "cell_type": "code",
   "execution_count": 5,
   "id": "initial_id",
   "metadata": {
    "collapsed": true,
    "ExecuteTime": {
     "end_time": "2024-04-06T18:07:25.866665Z",
     "start_time": "2024-04-06T18:06:37.597445Z"
    }
   },
   "outputs": [
    {
     "data": {
      "text/plain": "        Stkcd  F012501B   F011601A  Indnme Indcd ShortName Typrep  F010201A  \\\n0      000001  0.827344  27.105771  货币金融服务   J66      深发展A      A       NaN   \n1      000001  0.942320  28.927885  货币金融服务   J66      深发展A      A       NaN   \n2      000001  0.886752  28.716281  货币金融服务   J66      深发展A      A       NaN   \n3      000001  0.929486  21.905454  货币金融服务   J66      深发展A      A       NaN   \n4      000001  0.938057  16.690995  货币金融服务   J66      深发展A      A       NaN   \n...       ...       ...        ...     ...   ...       ...    ...       ...   \n60191  900957  0.359100   2.230210    房地产业   K70      凌云B股      A  2.100740   \n60192  900957  0.365438   2.134160    房地产业   K70      凌云B股      A  1.964754   \n60193  900957  0.377791   2.022270    房地产业   K70      凌云B股      A  2.991174   \n60194  900957  0.334505   1.944507    房地产业   K70      凌云B股      A  2.615010   \n60195  900957  0.335179   1.881104    房地产业   K70      凌云B股      A  3.042784   \n\n        F011701A  Source  ...  F040902B   F040802B  F041802B  F040502B  \\\n0      26.105771     0.0  ...       NaN        NaN  1.049990       NaN   \n1      27.927885     0.0  ...       NaN        NaN  0.922453       NaN   \n2      27.716281     0.0  ...       NaN   0.000000  0.775357       NaN   \n3      20.905454     0.0  ...       NaN        NaN  0.654472       NaN   \n4      15.690995     0.0  ...       NaN        NaN  0.535786       NaN   \n...          ...     ...  ...       ...        ...       ...       ...   \n60191   1.230210     0.0  ...  1.054394  12.164382  0.242442       NaN   \n60192   1.134160     0.0  ...  0.953994  16.174323  0.226244       NaN   \n60193   1.022270     0.0  ...  0.714718  19.850004  0.203784       NaN   \n60194   0.944507     0.0  ...  0.662935  21.101687  0.220605       NaN   \n60195   0.881104     0.0  ...  0.577214  17.586573  0.219360       NaN   \n\n       F041202B  F040202B   F041002B  F041702B  F070201B  F070101B  \n0           NaN       NaN   0.390655  0.033561       NaN       NaN  \n1           NaN  0.924629   0.400805  0.032802       NaN       NaN  \n2           NaN  0.568132   0.311318  0.026912       NaN       NaN  \n3           NaN  0.520823   0.285904  0.026710       NaN       NaN  \n4           NaN  0.268642   0.427584  0.029301       NaN       NaN  \n...         ...       ...        ...       ...       ...       ...  \n60191  0.529933  0.918787   2.360203  0.104729  1.644900  2.242781  \n60192  0.483113  0.656185   2.992630  0.103740  1.670870  2.229302  \n60193  0.415326  0.515480   3.883610  0.098117  1.742779  2.299762  \n60194  0.424187  0.477495  13.885294  0.111285  1.658589  1.947996  \n60195  0.373675  0.429945   5.798981  0.114750  1.522475  1.574039  \n\n[60196 rows x 62 columns]",
      "text/html": "<div>\n<style scoped>\n    .dataframe tbody tr th:only-of-type {\n        vertical-align: middle;\n    }\n\n    .dataframe tbody tr th {\n        vertical-align: top;\n    }\n\n    .dataframe thead th {\n        text-align: right;\n    }\n</style>\n<table border=\"1\" class=\"dataframe\">\n  <thead>\n    <tr style=\"text-align: right;\">\n      <th></th>\n      <th>Stkcd</th>\n      <th>F012501B</th>\n      <th>F011601A</th>\n      <th>Indnme</th>\n      <th>Indcd</th>\n      <th>ShortName</th>\n      <th>Typrep</th>\n      <th>F010201A</th>\n      <th>F011701A</th>\n      <th>Source</th>\n      <th>...</th>\n      <th>F040902B</th>\n      <th>F040802B</th>\n      <th>F041802B</th>\n      <th>F040502B</th>\n      <th>F041202B</th>\n      <th>F040202B</th>\n      <th>F041002B</th>\n      <th>F041702B</th>\n      <th>F070201B</th>\n      <th>F070101B</th>\n    </tr>\n  </thead>\n  <tbody>\n    <tr>\n      <th>0</th>\n      <td>000001</td>\n      <td>0.827344</td>\n      <td>27.105771</td>\n      <td>货币金融服务</td>\n      <td>J66</td>\n      <td>深发展A</td>\n      <td>A</td>\n      <td>NaN</td>\n      <td>26.105771</td>\n      <td>0.0</td>\n      <td>...</td>\n      <td>NaN</td>\n      <td>NaN</td>\n      <td>1.049990</td>\n      <td>NaN</td>\n      <td>NaN</td>\n      <td>NaN</td>\n      <td>0.390655</td>\n      <td>0.033561</td>\n      <td>NaN</td>\n      <td>NaN</td>\n    </tr>\n    <tr>\n      <th>1</th>\n      <td>000001</td>\n      <td>0.942320</td>\n      <td>28.927885</td>\n      <td>货币金融服务</td>\n      <td>J66</td>\n      <td>深发展A</td>\n      <td>A</td>\n      <td>NaN</td>\n      <td>27.927885</td>\n      <td>0.0</td>\n      <td>...</td>\n      <td>NaN</td>\n      <td>NaN</td>\n      <td>0.922453</td>\n      <td>NaN</td>\n      <td>NaN</td>\n      <td>0.924629</td>\n      <td>0.400805</td>\n      <td>0.032802</td>\n      <td>NaN</td>\n      <td>NaN</td>\n    </tr>\n    <tr>\n      <th>2</th>\n      <td>000001</td>\n      <td>0.886752</td>\n      <td>28.716281</td>\n      <td>货币金融服务</td>\n      <td>J66</td>\n      <td>深发展A</td>\n      <td>A</td>\n      <td>NaN</td>\n      <td>27.716281</td>\n      <td>0.0</td>\n      <td>...</td>\n      <td>NaN</td>\n      <td>0.000000</td>\n      <td>0.775357</td>\n      <td>NaN</td>\n      <td>NaN</td>\n      <td>0.568132</td>\n      <td>0.311318</td>\n      <td>0.026912</td>\n      <td>NaN</td>\n      <td>NaN</td>\n    </tr>\n    <tr>\n      <th>3</th>\n      <td>000001</td>\n      <td>0.929486</td>\n      <td>21.905454</td>\n      <td>货币金融服务</td>\n      <td>J66</td>\n      <td>深发展A</td>\n      <td>A</td>\n      <td>NaN</td>\n      <td>20.905454</td>\n      <td>0.0</td>\n      <td>...</td>\n      <td>NaN</td>\n      <td>NaN</td>\n      <td>0.654472</td>\n      <td>NaN</td>\n      <td>NaN</td>\n      <td>0.520823</td>\n      <td>0.285904</td>\n      <td>0.026710</td>\n      <td>NaN</td>\n      <td>NaN</td>\n    </tr>\n    <tr>\n      <th>4</th>\n      <td>000001</td>\n      <td>0.938057</td>\n      <td>16.690995</td>\n      <td>货币金融服务</td>\n      <td>J66</td>\n      <td>深发展A</td>\n      <td>A</td>\n      <td>NaN</td>\n      <td>15.690995</td>\n      <td>0.0</td>\n      <td>...</td>\n      <td>NaN</td>\n      <td>NaN</td>\n      <td>0.535786</td>\n      <td>NaN</td>\n      <td>NaN</td>\n      <td>0.268642</td>\n      <td>0.427584</td>\n      <td>0.029301</td>\n      <td>NaN</td>\n      <td>NaN</td>\n    </tr>\n    <tr>\n      <th>...</th>\n      <td>...</td>\n      <td>...</td>\n      <td>...</td>\n      <td>...</td>\n      <td>...</td>\n      <td>...</td>\n      <td>...</td>\n      <td>...</td>\n      <td>...</td>\n      <td>...</td>\n      <td>...</td>\n      <td>...</td>\n      <td>...</td>\n      <td>...</td>\n      <td>...</td>\n      <td>...</td>\n      <td>...</td>\n      <td>...</td>\n      <td>...</td>\n      <td>...</td>\n      <td>...</td>\n    </tr>\n    <tr>\n      <th>60191</th>\n      <td>900957</td>\n      <td>0.359100</td>\n      <td>2.230210</td>\n      <td>房地产业</td>\n      <td>K70</td>\n      <td>凌云B股</td>\n      <td>A</td>\n      <td>2.100740</td>\n      <td>1.230210</td>\n      <td>0.0</td>\n      <td>...</td>\n      <td>1.054394</td>\n      <td>12.164382</td>\n      <td>0.242442</td>\n      <td>NaN</td>\n      <td>0.529933</td>\n      <td>0.918787</td>\n      <td>2.360203</td>\n      <td>0.104729</td>\n      <td>1.644900</td>\n      <td>2.242781</td>\n    </tr>\n    <tr>\n      <th>60192</th>\n      <td>900957</td>\n      <td>0.365438</td>\n      <td>2.134160</td>\n      <td>房地产业</td>\n      <td>K70</td>\n      <td>凌云B股</td>\n      <td>A</td>\n      <td>1.964754</td>\n      <td>1.134160</td>\n      <td>0.0</td>\n      <td>...</td>\n      <td>0.953994</td>\n      <td>16.174323</td>\n      <td>0.226244</td>\n      <td>NaN</td>\n      <td>0.483113</td>\n      <td>0.656185</td>\n      <td>2.992630</td>\n      <td>0.103740</td>\n      <td>1.670870</td>\n      <td>2.229302</td>\n    </tr>\n    <tr>\n      <th>60193</th>\n      <td>900957</td>\n      <td>0.377791</td>\n      <td>2.022270</td>\n      <td>房地产业</td>\n      <td>K70</td>\n      <td>凌云B股</td>\n      <td>A</td>\n      <td>2.991174</td>\n      <td>1.022270</td>\n      <td>0.0</td>\n      <td>...</td>\n      <td>0.714718</td>\n      <td>19.850004</td>\n      <td>0.203784</td>\n      <td>NaN</td>\n      <td>0.415326</td>\n      <td>0.515480</td>\n      <td>3.883610</td>\n      <td>0.098117</td>\n      <td>1.742779</td>\n      <td>2.299762</td>\n    </tr>\n    <tr>\n      <th>60194</th>\n      <td>900957</td>\n      <td>0.334505</td>\n      <td>1.944507</td>\n      <td>房地产业</td>\n      <td>K70</td>\n      <td>凌云B股</td>\n      <td>A</td>\n      <td>2.615010</td>\n      <td>0.944507</td>\n      <td>0.0</td>\n      <td>...</td>\n      <td>0.662935</td>\n      <td>21.101687</td>\n      <td>0.220605</td>\n      <td>NaN</td>\n      <td>0.424187</td>\n      <td>0.477495</td>\n      <td>13.885294</td>\n      <td>0.111285</td>\n      <td>1.658589</td>\n      <td>1.947996</td>\n    </tr>\n    <tr>\n      <th>60195</th>\n      <td>900957</td>\n      <td>0.335179</td>\n      <td>1.881104</td>\n      <td>房地产业</td>\n      <td>K70</td>\n      <td>凌云B股</td>\n      <td>A</td>\n      <td>3.042784</td>\n      <td>0.881104</td>\n      <td>0.0</td>\n      <td>...</td>\n      <td>0.577214</td>\n      <td>17.586573</td>\n      <td>0.219360</td>\n      <td>NaN</td>\n      <td>0.373675</td>\n      <td>0.429945</td>\n      <td>5.798981</td>\n      <td>0.114750</td>\n      <td>1.522475</td>\n      <td>1.574039</td>\n    </tr>\n  </tbody>\n</table>\n<p>60196 rows × 62 columns</p>\n</div>"
     },
     "execution_count": 5,
     "metadata": {},
     "output_type": "execute_result"
    }
   ],
   "source": [
    "import pandas as pd\n",
    "import warnings\n",
    "warnings.filterwarnings('ignore')\n",
    "from utils import make_ftranslate, get_files, save_ftranslate\n",
    "pd.options.io.excel.xlsx.writer = 'xlsxwriter'\n",
    "\n",
    "def get_keys(d, value):\n",
    "    return [k for k, v in d.items() if v == value]\n",
    "\n",
    "save_ftranslate()\n",
    "# china_dataset = pd.read_csv(r'C:\\datas\\企业信息数据\\中国上市制造企业汇总表(简版).txt', index_col=0, dtype={'股票代码': \"object\"})\n",
    "# Js_codes = set(china_dataset['股票代码'].to_list())\n",
    "china_dataset = pd.DataFrame(columns=['Stkcd'])\n",
    "financials, indicator_dict = make_ftranslate()\n",
    "# china_dataset.rename(columns={'股票代码': get_keys(indicator_dict, '股票代码')[0], '省份':'上市省份'}, inplace=True)\n",
    "files = get_files(r'C:\\datas\\企业绩效数据\\财务绩效数据')[0]\n",
    "\n",
    "for file in files:\n",
    "    dataset = pd.read_csv(file, sep='\\t', header=0, dtype={'Stkcd': 'object'}, parse_dates=['Accper'])\n",
    "    names = {item for item in dataset.columns.values.tolist() if item in financials}\n",
    "    if 'Typrep' in dataset.columns:\n",
    "        dataset = dataset[(dataset.Typrep == \"A\") & (dataset.Accper.dt.month == 12)& (dataset.Accper.dt.year > 2006)][list(names)]\n",
    "    else:\n",
    "        dataset = dataset[(dataset.Accper.dt.month == 12) & (dataset.Accper.dt.year > 2006)][list(names)]\n",
    "    \n",
    "    if 'Accper' not in china_dataset.columns:\n",
    "        china_dataset = pd.merge(china_dataset, dataset, on=['Stkcd'], how='outer')\n",
    "    else:\n",
    "        china_dataset = pd.merge(china_dataset, dataset, on=['Stkcd', 'Accper'], how='outer')\n",
    "    financials -= names\n",
    "    financials.update(['Stkcd', 'Accper'])\n",
    "china_dataset"
   ]
  },
  {
   "cell_type": "code",
   "execution_count": 8,
   "outputs": [
    {
     "data": {
      "text/plain": "         股票代码  负债与权益市价比率       权益乘数 行业代码      速动比率       产权比率      流动比率  \\\n0      000001   0.827344  27.105771  J66       NaN  26.105771       NaN   \n1      000001   0.942320  28.927885  J66       NaN  27.927885       NaN   \n2      000001   0.886752  28.716281  J66       NaN  27.716281       NaN   \n3      000001   0.929486  21.905454  J66       NaN  20.905454       NaN   \n4      000001   0.938057  16.690995  J66       NaN  15.690995       NaN   \n...       ...        ...        ...  ...       ...        ...       ...   \n60191  900957   0.359100   2.230210  K70  2.100740   1.230210  2.100740   \n60192  900957   0.365438   2.134160  K70  1.964754   1.134160  1.964754   \n60193  900957   0.377791   2.022270  K70  2.991174   1.022270  2.991174   \n60194  900957   0.334505   1.944507  K70  2.615010   0.944507  2.615010   \n60195  900957   0.335179   1.881104  K70  3.042784   0.881104  3.042784   \n\n          资产负债率  截止年份  经营活动产生的现金流量净额／负债合计  ...  营运资金(资本)周转率B   应付账款周转率B  \\\n0      0.963107  2007            0.057448  ...           NaN        NaN   \n1      0.965431  2008            0.061042  ...           NaN        NaN   \n2      0.965177  2009            0.062793  ...           NaN   0.000000   \n3      0.954349  2010            0.034481  ...           NaN        NaN   \n4      0.940087  2011           -0.015387  ...           NaN        NaN   \n...         ...   ...                 ...  ...           ...        ...   \n60191  0.551612  2018            0.069444  ...      1.054394  12.164382   \n60192  0.531432  2019            0.081498  ...      0.953994  16.174323   \n60193  0.505506  2020            0.106316  ...      0.714718  19.850004   \n60194  0.485731  2021            0.042833  ...      0.662935  21.101687   \n60195  0.468397  2022            0.155307  ...      0.577214  17.586573   \n\n       股东权益周转率B  存货周转率B  流动资产周转率B  应收账款周转率B  现金及现金等价物周转率B   总资产周转率B      经营杠杆  \\\n0      1.049990     NaN       NaN       NaN      0.390655  0.033561       NaN   \n1      0.922453     NaN       NaN  0.924629      0.400805  0.032802       NaN   \n2      0.775357     NaN       NaN  0.568132      0.311318  0.026912       NaN   \n3      0.654472     NaN       NaN  0.520823      0.285904  0.026710       NaN   \n4      0.535786     NaN       NaN  0.268642      0.427584  0.029301       NaN   \n...         ...     ...       ...       ...           ...       ...       ...   \n60191  0.242442     NaN  0.529933  0.918787      2.360203  0.104729  1.644900   \n60192  0.226244     NaN  0.483113  0.656185      2.992630  0.103740  1.670870   \n60193  0.203784     NaN  0.415326  0.515480      3.883610  0.098117  1.742779   \n60194  0.220605     NaN  0.424187  0.477495     13.885294  0.111285  1.658589   \n60195  0.219360     NaN  0.373675  0.429945      5.798981  0.114750  1.522475   \n\n           财务杠杆  \n0           NaN  \n1           NaN  \n2           NaN  \n3           NaN  \n4           NaN  \n...         ...  \n60191  2.242781  \n60192  2.229302  \n60193  2.299762  \n60194  1.947996  \n60195  1.574039  \n\n[60188 rows x 58 columns]",
      "text/html": "<div>\n<style scoped>\n    .dataframe tbody tr th:only-of-type {\n        vertical-align: middle;\n    }\n\n    .dataframe tbody tr th {\n        vertical-align: top;\n    }\n\n    .dataframe thead th {\n        text-align: right;\n    }\n</style>\n<table border=\"1\" class=\"dataframe\">\n  <thead>\n    <tr style=\"text-align: right;\">\n      <th></th>\n      <th>股票代码</th>\n      <th>负债与权益市价比率</th>\n      <th>权益乘数</th>\n      <th>行业代码</th>\n      <th>速动比率</th>\n      <th>产权比率</th>\n      <th>流动比率</th>\n      <th>资产负债率</th>\n      <th>截止年份</th>\n      <th>经营活动产生的现金流量净额／负债合计</th>\n      <th>...</th>\n      <th>营运资金(资本)周转率B</th>\n      <th>应付账款周转率B</th>\n      <th>股东权益周转率B</th>\n      <th>存货周转率B</th>\n      <th>流动资产周转率B</th>\n      <th>应收账款周转率B</th>\n      <th>现金及现金等价物周转率B</th>\n      <th>总资产周转率B</th>\n      <th>经营杠杆</th>\n      <th>财务杠杆</th>\n    </tr>\n  </thead>\n  <tbody>\n    <tr>\n      <th>0</th>\n      <td>000001</td>\n      <td>0.827344</td>\n      <td>27.105771</td>\n      <td>J66</td>\n      <td>NaN</td>\n      <td>26.105771</td>\n      <td>NaN</td>\n      <td>0.963107</td>\n      <td>2007</td>\n      <td>0.057448</td>\n      <td>...</td>\n      <td>NaN</td>\n      <td>NaN</td>\n      <td>1.049990</td>\n      <td>NaN</td>\n      <td>NaN</td>\n      <td>NaN</td>\n      <td>0.390655</td>\n      <td>0.033561</td>\n      <td>NaN</td>\n      <td>NaN</td>\n    </tr>\n    <tr>\n      <th>1</th>\n      <td>000001</td>\n      <td>0.942320</td>\n      <td>28.927885</td>\n      <td>J66</td>\n      <td>NaN</td>\n      <td>27.927885</td>\n      <td>NaN</td>\n      <td>0.965431</td>\n      <td>2008</td>\n      <td>0.061042</td>\n      <td>...</td>\n      <td>NaN</td>\n      <td>NaN</td>\n      <td>0.922453</td>\n      <td>NaN</td>\n      <td>NaN</td>\n      <td>0.924629</td>\n      <td>0.400805</td>\n      <td>0.032802</td>\n      <td>NaN</td>\n      <td>NaN</td>\n    </tr>\n    <tr>\n      <th>2</th>\n      <td>000001</td>\n      <td>0.886752</td>\n      <td>28.716281</td>\n      <td>J66</td>\n      <td>NaN</td>\n      <td>27.716281</td>\n      <td>NaN</td>\n      <td>0.965177</td>\n      <td>2009</td>\n      <td>0.062793</td>\n      <td>...</td>\n      <td>NaN</td>\n      <td>0.000000</td>\n      <td>0.775357</td>\n      <td>NaN</td>\n      <td>NaN</td>\n      <td>0.568132</td>\n      <td>0.311318</td>\n      <td>0.026912</td>\n      <td>NaN</td>\n      <td>NaN</td>\n    </tr>\n    <tr>\n      <th>3</th>\n      <td>000001</td>\n      <td>0.929486</td>\n      <td>21.905454</td>\n      <td>J66</td>\n      <td>NaN</td>\n      <td>20.905454</td>\n      <td>NaN</td>\n      <td>0.954349</td>\n      <td>2010</td>\n      <td>0.034481</td>\n      <td>...</td>\n      <td>NaN</td>\n      <td>NaN</td>\n      <td>0.654472</td>\n      <td>NaN</td>\n      <td>NaN</td>\n      <td>0.520823</td>\n      <td>0.285904</td>\n      <td>0.026710</td>\n      <td>NaN</td>\n      <td>NaN</td>\n    </tr>\n    <tr>\n      <th>4</th>\n      <td>000001</td>\n      <td>0.938057</td>\n      <td>16.690995</td>\n      <td>J66</td>\n      <td>NaN</td>\n      <td>15.690995</td>\n      <td>NaN</td>\n      <td>0.940087</td>\n      <td>2011</td>\n      <td>-0.015387</td>\n      <td>...</td>\n      <td>NaN</td>\n      <td>NaN</td>\n      <td>0.535786</td>\n      <td>NaN</td>\n      <td>NaN</td>\n      <td>0.268642</td>\n      <td>0.427584</td>\n      <td>0.029301</td>\n      <td>NaN</td>\n      <td>NaN</td>\n    </tr>\n    <tr>\n      <th>...</th>\n      <td>...</td>\n      <td>...</td>\n      <td>...</td>\n      <td>...</td>\n      <td>...</td>\n      <td>...</td>\n      <td>...</td>\n      <td>...</td>\n      <td>...</td>\n      <td>...</td>\n      <td>...</td>\n      <td>...</td>\n      <td>...</td>\n      <td>...</td>\n      <td>...</td>\n      <td>...</td>\n      <td>...</td>\n      <td>...</td>\n      <td>...</td>\n      <td>...</td>\n      <td>...</td>\n    </tr>\n    <tr>\n      <th>60191</th>\n      <td>900957</td>\n      <td>0.359100</td>\n      <td>2.230210</td>\n      <td>K70</td>\n      <td>2.100740</td>\n      <td>1.230210</td>\n      <td>2.100740</td>\n      <td>0.551612</td>\n      <td>2018</td>\n      <td>0.069444</td>\n      <td>...</td>\n      <td>1.054394</td>\n      <td>12.164382</td>\n      <td>0.242442</td>\n      <td>NaN</td>\n      <td>0.529933</td>\n      <td>0.918787</td>\n      <td>2.360203</td>\n      <td>0.104729</td>\n      <td>1.644900</td>\n      <td>2.242781</td>\n    </tr>\n    <tr>\n      <th>60192</th>\n      <td>900957</td>\n      <td>0.365438</td>\n      <td>2.134160</td>\n      <td>K70</td>\n      <td>1.964754</td>\n      <td>1.134160</td>\n      <td>1.964754</td>\n      <td>0.531432</td>\n      <td>2019</td>\n      <td>0.081498</td>\n      <td>...</td>\n      <td>0.953994</td>\n      <td>16.174323</td>\n      <td>0.226244</td>\n      <td>NaN</td>\n      <td>0.483113</td>\n      <td>0.656185</td>\n      <td>2.992630</td>\n      <td>0.103740</td>\n      <td>1.670870</td>\n      <td>2.229302</td>\n    </tr>\n    <tr>\n      <th>60193</th>\n      <td>900957</td>\n      <td>0.377791</td>\n      <td>2.022270</td>\n      <td>K70</td>\n      <td>2.991174</td>\n      <td>1.022270</td>\n      <td>2.991174</td>\n      <td>0.505506</td>\n      <td>2020</td>\n      <td>0.106316</td>\n      <td>...</td>\n      <td>0.714718</td>\n      <td>19.850004</td>\n      <td>0.203784</td>\n      <td>NaN</td>\n      <td>0.415326</td>\n      <td>0.515480</td>\n      <td>3.883610</td>\n      <td>0.098117</td>\n      <td>1.742779</td>\n      <td>2.299762</td>\n    </tr>\n    <tr>\n      <th>60194</th>\n      <td>900957</td>\n      <td>0.334505</td>\n      <td>1.944507</td>\n      <td>K70</td>\n      <td>2.615010</td>\n      <td>0.944507</td>\n      <td>2.615010</td>\n      <td>0.485731</td>\n      <td>2021</td>\n      <td>0.042833</td>\n      <td>...</td>\n      <td>0.662935</td>\n      <td>21.101687</td>\n      <td>0.220605</td>\n      <td>NaN</td>\n      <td>0.424187</td>\n      <td>0.477495</td>\n      <td>13.885294</td>\n      <td>0.111285</td>\n      <td>1.658589</td>\n      <td>1.947996</td>\n    </tr>\n    <tr>\n      <th>60195</th>\n      <td>900957</td>\n      <td>0.335179</td>\n      <td>1.881104</td>\n      <td>K70</td>\n      <td>3.042784</td>\n      <td>0.881104</td>\n      <td>3.042784</td>\n      <td>0.468397</td>\n      <td>2022</td>\n      <td>0.155307</td>\n      <td>...</td>\n      <td>0.577214</td>\n      <td>17.586573</td>\n      <td>0.219360</td>\n      <td>NaN</td>\n      <td>0.373675</td>\n      <td>0.429945</td>\n      <td>5.798981</td>\n      <td>0.114750</td>\n      <td>1.522475</td>\n      <td>1.574039</td>\n    </tr>\n  </tbody>\n</table>\n<p>60188 rows × 58 columns</p>\n</div>"
     },
     "execution_count": 8,
     "metadata": {},
     "output_type": "execute_result"
    }
   ],
   "source": [
    "# 财务报表合并\n",
    "dataset_ = china_dataset.copy()\n",
    "dataset_['Accper'] = dataset_['Accper'].dt.year\n",
    "name_dic = {name:indicator_dict[name] for name in dataset_.columns.values.tolist()}\n",
    "dataset_.rename(columns=name_dic, inplace=True)\n",
    "dataset_.rename(columns={'统计截止日期' : '截止年份'}, inplace=True)\n",
    "dataset_.dropna(subset=['股票简称'], inplace=True)\n",
    "dataset_.drop(['报表类型编码','公告来源','行业名称','股票简称'], axis=1, inplace=True) # '行业名称', \n",
    "dataset_.sort_values(['股票代码', '截止年份'], inplace=True)\n",
    "dataset_.to_csv(r'./datas/全国上市企业财务绩效汇总表.csv', index=None,encoding='utf8')\n",
    "dataset_"
   ],
   "metadata": {
    "collapsed": false,
    "ExecuteTime": {
     "end_time": "2024-04-06T18:08:27.932398Z",
     "start_time": "2024-04-06T18:08:24.828923Z"
    }
   },
   "id": "eb1bf9bd83447630"
  },
  {
   "cell_type": "code",
   "outputs": [],
   "source": [],
   "metadata": {
    "collapsed": false
   },
   "id": "e222371aa1fb7bce",
   "execution_count": null
  }
 ],
 "metadata": {
  "kernelspec": {
   "display_name": "Python 3",
   "language": "python",
   "name": "python3"
  },
  "language_info": {
   "codemirror_mode": {
    "name": "ipython",
    "version": 2
   },
   "file_extension": ".py",
   "mimetype": "text/x-python",
   "name": "python",
   "nbconvert_exporter": "python",
   "pygments_lexer": "ipython2",
   "version": "2.7.6"
  }
 },
 "nbformat": 4,
 "nbformat_minor": 5
}
