{
 "cells": [
  {
   "cell_type": "code",
   "execution_count": 1,
   "id": "initial_id",
   "metadata": {
    "collapsed": true,
    "ExecuteTime": {
     "end_time": "2024-04-07T11:02:50.872545Z",
     "start_time": "2024-04-07T11:02:06.492932Z"
    }
   },
   "outputs": [],
   "source": [
    "import pandas as pd\n",
    "from utils import fillna__\n",
    "import numpy as np\n",
    "import warnings\n",
    "warnings.filterwarnings('ignore')\n",
    "pd.options.io.excel.xlsx.writer = 'xlsxwriter'\n",
    "\n",
    "# 财务绩效处理\n",
    "fin = r\"C:\\onedrivers\\OneDrive - jsnu.edu.cn\\projects\\digital\\03.企业绩效数据\\datas\\全国上市企业财务绩效汇总表.csv\"\n",
    "fin = pd.read_csv(fin, index_col=None, header=0, dtype={'股票代码':'object'})  # , parse_dates=['上市日期']\n",
    "fin['营业费用增长率'] = (fin['销售费用增长率'] + fin['管理费用增长率'])/2\n",
    "# 净资产收益率(+)/投入资本回报率(+)/成本费用利润率(+)/资产报酬率(+)\n",
    "# 总资产周转率(+)/应付账款周转率(-)/应收账款周转率(+)/存货周转率(-)\n",
    "# 资产负债率(-)/速动比率(+)/权益乘数(+)/现金资产比率(+)/营运指数(+)\n",
    "# 净利润增长率(+)/固定资产增长率(+)/营业收入增长率(+)/营业费用增长率(-)\n",
    "# 财务杠杆(+)/经营杠杆(+)\n",
    "fin_colums=['股票代码', '截止年份', '净资产收益率（ROE）B', '投入资本回报率（ROIC）', '成本费用利润率', '资产报酬率B',' 总资产周转率B', '应付账款周转率B', '应收账款周转率B', '存货周转率B', '资产负债率', '速动比率', '权益乘数', '现金资产比率', '营运指数', '净利润增长率B', '固定资产增长率B', '营业总收入增长率', '营业费用增长率', '财务杠杆', '经营杠杆']\n",
    "unfin = r\"C:\\onedrivers\\OneDrive - jsnu.edu.cn\\projects\\digital\\03.企业绩效数据\\datas\\全国上市企业非财务绩效汇总表.csv\"\n",
    "unfin = pd.read_csv(unfin, index_col=None, header=0, dtype={'股票代码':'object'})  # , parse_dates=['上市日期']\n",
    "# 发明专利申请数(+)：loss\n",
    "# 研发人员占比(+)/研发营收比(+)/\n",
    "# 提供岗位增长率(+)/员工收入增长率(+)/\n",
    "# 股权集中度(+)/两权分离度(+)/董事会规模(+)/独董比例(+)\n",
    "# 供应商集中程度(+)/客户集中程度(+)\n",
    "# 缺失值太多：'纳税总额A','捐赠总额',————>支付税费增长率(+)/\n",
    "unfin_colums=['股票代码','截止年份','研发人员数量占比(%)','研发营收比(%)','员工人数','职工薪酬','主营业务收入','股权集中度4(%)','两权分离度(%)','董事会规模','独董比例','本期采购额占年度采购总额比例(%)','本期销售额占年度销售总额比例(%)']\n",
    "fin = pd.merge(unfin[unfin_colums],fin[fin_colums],on=['股票代码','截止年份'],how='outer')\n",
    "fin = fillna__(fin,'股票代码',rate=0.25)\n",
    "\n",
    "# 处理部分非财务指标\n",
    "fin['人力资源效率'] = fin['主营业务收入'] / fin['员工人数']\n",
    "fin['董事会规模'] = fin['董事会规模'].apply(lambda x: np.log(x+1))\n",
    "fin['提供岗位增长率'] = fin.groupby('股票代码')['员工人数'].pct_change(1, fill_method='ffill')\n",
    "fin['员工收入增长率'] =fin.groupby('股票代码')['职工薪酬'].pct_change(1, fill_method='ffill')\n",
    "fin = fin[['股票代码','截止年份','净资产收益率（ROE）B','投入资本回报率（ROIC）','成本费用利润率','资产报酬率B','总资产周转率B','应付账款周转率B','应收账款周转率B','存货周转率B','资产负债率','速动比率','权益乘数','现金资产比率','营运指数','净利润增长率B','固定资产增长率B','营业总收入增长率','营业费用增长率','财务杠杆','经营杠杆','研发人员数量占比(%)','研发营收比(%)','人力资源效率','提供岗位增长率','员工收入增长率','股权集中度4(%)','两权分离度(%)','董事会规模','独董比例','本期采购额占年度采购总额比例(%)','本期销售额占年度销售总额比例(%)']]"
   ]
  },
  {
   "cell_type": "code",
   "outputs": [],
   "source": [
    "# 企业信息数据\n",
    "info =  pd.read_csv(r'C:/datas/企业绩效数据/其他数据/STK_LISTEDCOINFOANL.txt',sep='\\t', header=0, dtype={'Symbol': 'object'}, parse_dates=['EndDate','LISTINGDATE'])\n",
    "info = info[(info.EndDate.dt.month == 12)][['Symbol','EndDate','LISTINGDATE','LISTINGSTATE','IndustryCodeC']]\n",
    "info.rename(columns={'Symbol':'股票代码','EndDate':'截止年份','LISTINGSTATE':'上市状态','IndustryCodeC':'行业代码','LISTINGDATE':'上市日期'},inplace=True)\n",
    "info['截止年份'] = info['截止年份'].dt.year.astype(int)\n",
    "info['上市日期'] = info['上市日期'].dt.year.astype(int)\n",
    "info['上市状态'] = info['上市状态'].apply(lambda x: 1 if x=='正常上市' else 0)\n",
    "grant = pd.read_excel(r'C:/datas/企业绩效数据/非财务绩效数据/专利授权情况表(1992-2017)142534725(仅供盐城工学院使用)/上市公司专利申请和授权数据.xlsx', dtype={'股票代码':'object'})\n",
    "# grant['当年独立申请专利总和'] = grant['当年独立申请专利总和'].apply(lambda x : np.log(1+x))\n",
    "# grant['当年独立获得专利总和'] = grant['当年独立获得专利总和'].apply(lambda x : np.log(1+x))\n",
    "# grant['申请专利数'] = (grant['当年独立申请专利总和']+grant['当年独立获得专利总和'])/2\n",
    "grant['申请专利数'] = grant['当年独立申请专利总和'].apply(lambda x : np.log(1+x))\n",
    "grant = grant[(grant['公司类型']=='集团公司合计')][['股票代码','year','申请专利数']]\n",
    "grant = fillna__(grant,'股票代码', rate=0.25)\n",
    "grant.rename(columns={'year':'截止年份'}, inplace=True)\n",
    "# 数字技术应用(+)/商业模式变革(+)/智能制造(+)/现代信息系统(+)\n",
    "digital= pd.read_csv(r'C:\\onedrivers\\OneDrive - jsnu.edu.cn\\projects\\digital\\02.数字化转型水平测度与评价\\datas\\数字化转型程度2022(未筛选).csv',dtype={'股票代码': 'object'})\n",
    "for name in ['数字技术应用z','互联网商业模式z','智能制造z','现代信息系统z']:\n",
    "    digital[name] = digital[name].apply(lambda x : np.log(1+x))\n",
    "digital_colums=['股票代码','截止日期','wufei','yuanchun','csmar','lishouxi','数字技术应用z','互联网商业模式z','智能制造z','现代信息系统z']\n",
    "digital=digital[digital_colums].sort_values(['股票代码','截止日期'])\n",
    "digital.rename(columns={'截止日期':'截止年份','数字技术应用z':'数字技术应用','互联网商业模式z':'互联网商业模式','智能制造z':'智能制造','现代信息系统z':'现代信息系统'}, inplace=True)\n",
    "info = pd.merge(info,grant,on=['股票代码','截止年份'],how='outer')\n",
    "info = pd.merge(info,digital,on=['股票代码','截止年份'],how='outer')\n",
    "info = info[(info['截止年份']>2006)&(info['截止年份']<2023)]"
   ],
   "metadata": {
    "collapsed": false,
    "ExecuteTime": {
     "end_time": "2024-04-07T11:03:33.296269Z",
     "start_time": "2024-04-07T11:02:50.873548Z"
    }
   },
   "id": "34bdae459d1d51e7",
   "execution_count": 2
  },
  {
   "cell_type": "code",
   "outputs": [
    {
     "data": {
      "text/plain": "         股票代码  截止年份  净资产收益率（ROE）B  投入资本回报率（ROIC）   成本费用利润率    资产报酬率B  \\\n39     000004  2013      0.039627       0.029738  0.183205  0.047724   \n40     000004  2014      0.103513       0.079137  0.270178  0.068684   \n41     000004  2015      0.042766       0.032411  0.097357  0.028676   \n42     000004  2016      0.232602       0.226309  0.175808  0.156791   \n43     000004  2017      0.032528       0.023170  0.067536  0.034208   \n...       ...   ...           ...            ...       ...       ...   \n59231  688686  2021      0.126012       0.112538  0.573878  0.124256   \n59232  688686  2022      0.122735       0.109802  0.446093  0.119535   \n59267  688698  2020      0.170257       0.111715  0.200996  0.132108   \n59268  688698  2021      0.155222       0.128555  0.195168  0.111549   \n59269  688698  2022      0.149584       0.115390  0.185831  0.100960   \n\n        总资产周转率B   应付账款周转率B    应收账款周转率B    存货周转率B  ...  本期销售额占年度销售总额比例(%)  \\\n39     0.334591   2.310006   12.243145  0.527699  ...              37.96   \n40     0.277753   1.582232   24.791980  0.357804  ...              44.02   \n41     0.326897   1.180446   53.911663  0.351408  ...              20.15   \n42     0.924405   4.476773  167.604472  1.466653  ...               8.98   \n43     0.562797  10.561173   24.833489  4.855790  ...              18.30   \n...         ...        ...         ...       ...  ...                ...   \n59231  0.341163   4.451873    2.370634  2.592239  ...              35.34   \n59232  0.403168   4.963620    2.320462  2.574553  ...              46.09   \n59267  0.749514   3.805550    4.563628  3.485082  ...              14.92   \n59268  0.698676   4.389992    4.622608  3.066133  ...              18.53   \n59269  0.661327   4.218523    3.921500  2.634885  ...              18.37   \n\n          申请专利数    数字技术应用   互联网商业模式      智能制造    现代信息系统     wufei  yuanchun  \\\n39     0.000000  0.000000  0.000000  0.000000  0.000000  0.000000  0.379427   \n40     1.386294  0.000000  0.000000  0.000000  0.000000  0.000000  0.355872   \n41     2.564949  0.000000  0.000000  0.000000  0.000000  0.000000  0.239521   \n42     0.693147  0.000000  0.000000  0.000000  0.000000  0.000000  0.354767   \n43     0.000000  0.000000  1.098612  0.000000  0.000000  1.609438  0.774878   \n...         ...       ...       ...       ...       ...       ...       ...   \n59231  4.941642  1.386294  0.000000  3.091042  0.000000  3.496508  4.712105   \n59232  4.663439  0.693147  1.098612  3.135494  1.098612  3.610918  5.452663   \n59267  3.044522  1.386294  0.000000  1.945910  1.791759  0.000000  2.324987   \n59268  3.688879  1.945910  0.000000  3.583519  1.098612  1.386294  3.043203   \n59269  2.772589  2.639057  0.000000  3.433987  1.098612  1.791759  3.199023   \n\n          csmar  lishouxi  \n39     0.280618  0.000000  \n40     0.255612  0.000000  \n41     0.268059  0.000000  \n42     0.244403  0.000000  \n43     0.295534  0.298641  \n...         ...       ...  \n59231  0.410381  0.816232  \n59232  0.412088  0.980619  \n59267  0.365297  0.000078  \n59268  0.389688  0.221424  \n59269  0.362252  0.359231  \n\n[17644 rows x 40 columns]",
      "text/html": "<div>\n<style scoped>\n    .dataframe tbody tr th:only-of-type {\n        vertical-align: middle;\n    }\n\n    .dataframe tbody tr th {\n        vertical-align: top;\n    }\n\n    .dataframe thead th {\n        text-align: right;\n    }\n</style>\n<table border=\"1\" class=\"dataframe\">\n  <thead>\n    <tr style=\"text-align: right;\">\n      <th></th>\n      <th>股票代码</th>\n      <th>截止年份</th>\n      <th>净资产收益率（ROE）B</th>\n      <th>投入资本回报率（ROIC）</th>\n      <th>成本费用利润率</th>\n      <th>资产报酬率B</th>\n      <th>总资产周转率B</th>\n      <th>应付账款周转率B</th>\n      <th>应收账款周转率B</th>\n      <th>存货周转率B</th>\n      <th>...</th>\n      <th>本期销售额占年度销售总额比例(%)</th>\n      <th>申请专利数</th>\n      <th>数字技术应用</th>\n      <th>互联网商业模式</th>\n      <th>智能制造</th>\n      <th>现代信息系统</th>\n      <th>wufei</th>\n      <th>yuanchun</th>\n      <th>csmar</th>\n      <th>lishouxi</th>\n    </tr>\n  </thead>\n  <tbody>\n    <tr>\n      <th>39</th>\n      <td>000004</td>\n      <td>2013</td>\n      <td>0.039627</td>\n      <td>0.029738</td>\n      <td>0.183205</td>\n      <td>0.047724</td>\n      <td>0.334591</td>\n      <td>2.310006</td>\n      <td>12.243145</td>\n      <td>0.527699</td>\n      <td>...</td>\n      <td>37.96</td>\n      <td>0.000000</td>\n      <td>0.000000</td>\n      <td>0.000000</td>\n      <td>0.000000</td>\n      <td>0.000000</td>\n      <td>0.000000</td>\n      <td>0.379427</td>\n      <td>0.280618</td>\n      <td>0.000000</td>\n    </tr>\n    <tr>\n      <th>40</th>\n      <td>000004</td>\n      <td>2014</td>\n      <td>0.103513</td>\n      <td>0.079137</td>\n      <td>0.270178</td>\n      <td>0.068684</td>\n      <td>0.277753</td>\n      <td>1.582232</td>\n      <td>24.791980</td>\n      <td>0.357804</td>\n      <td>...</td>\n      <td>44.02</td>\n      <td>1.386294</td>\n      <td>0.000000</td>\n      <td>0.000000</td>\n      <td>0.000000</td>\n      <td>0.000000</td>\n      <td>0.000000</td>\n      <td>0.355872</td>\n      <td>0.255612</td>\n      <td>0.000000</td>\n    </tr>\n    <tr>\n      <th>41</th>\n      <td>000004</td>\n      <td>2015</td>\n      <td>0.042766</td>\n      <td>0.032411</td>\n      <td>0.097357</td>\n      <td>0.028676</td>\n      <td>0.326897</td>\n      <td>1.180446</td>\n      <td>53.911663</td>\n      <td>0.351408</td>\n      <td>...</td>\n      <td>20.15</td>\n      <td>2.564949</td>\n      <td>0.000000</td>\n      <td>0.000000</td>\n      <td>0.000000</td>\n      <td>0.000000</td>\n      <td>0.000000</td>\n      <td>0.239521</td>\n      <td>0.268059</td>\n      <td>0.000000</td>\n    </tr>\n    <tr>\n      <th>42</th>\n      <td>000004</td>\n      <td>2016</td>\n      <td>0.232602</td>\n      <td>0.226309</td>\n      <td>0.175808</td>\n      <td>0.156791</td>\n      <td>0.924405</td>\n      <td>4.476773</td>\n      <td>167.604472</td>\n      <td>1.466653</td>\n      <td>...</td>\n      <td>8.98</td>\n      <td>0.693147</td>\n      <td>0.000000</td>\n      <td>0.000000</td>\n      <td>0.000000</td>\n      <td>0.000000</td>\n      <td>0.000000</td>\n      <td>0.354767</td>\n      <td>0.244403</td>\n      <td>0.000000</td>\n    </tr>\n    <tr>\n      <th>43</th>\n      <td>000004</td>\n      <td>2017</td>\n      <td>0.032528</td>\n      <td>0.023170</td>\n      <td>0.067536</td>\n      <td>0.034208</td>\n      <td>0.562797</td>\n      <td>10.561173</td>\n      <td>24.833489</td>\n      <td>4.855790</td>\n      <td>...</td>\n      <td>18.30</td>\n      <td>0.000000</td>\n      <td>0.000000</td>\n      <td>1.098612</td>\n      <td>0.000000</td>\n      <td>0.000000</td>\n      <td>1.609438</td>\n      <td>0.774878</td>\n      <td>0.295534</td>\n      <td>0.298641</td>\n    </tr>\n    <tr>\n      <th>...</th>\n      <td>...</td>\n      <td>...</td>\n      <td>...</td>\n      <td>...</td>\n      <td>...</td>\n      <td>...</td>\n      <td>...</td>\n      <td>...</td>\n      <td>...</td>\n      <td>...</td>\n      <td>...</td>\n      <td>...</td>\n      <td>...</td>\n      <td>...</td>\n      <td>...</td>\n      <td>...</td>\n      <td>...</td>\n      <td>...</td>\n      <td>...</td>\n      <td>...</td>\n      <td>...</td>\n    </tr>\n    <tr>\n      <th>59231</th>\n      <td>688686</td>\n      <td>2021</td>\n      <td>0.126012</td>\n      <td>0.112538</td>\n      <td>0.573878</td>\n      <td>0.124256</td>\n      <td>0.341163</td>\n      <td>4.451873</td>\n      <td>2.370634</td>\n      <td>2.592239</td>\n      <td>...</td>\n      <td>35.34</td>\n      <td>4.941642</td>\n      <td>1.386294</td>\n      <td>0.000000</td>\n      <td>3.091042</td>\n      <td>0.000000</td>\n      <td>3.496508</td>\n      <td>4.712105</td>\n      <td>0.410381</td>\n      <td>0.816232</td>\n    </tr>\n    <tr>\n      <th>59232</th>\n      <td>688686</td>\n      <td>2022</td>\n      <td>0.122735</td>\n      <td>0.109802</td>\n      <td>0.446093</td>\n      <td>0.119535</td>\n      <td>0.403168</td>\n      <td>4.963620</td>\n      <td>2.320462</td>\n      <td>2.574553</td>\n      <td>...</td>\n      <td>46.09</td>\n      <td>4.663439</td>\n      <td>0.693147</td>\n      <td>1.098612</td>\n      <td>3.135494</td>\n      <td>1.098612</td>\n      <td>3.610918</td>\n      <td>5.452663</td>\n      <td>0.412088</td>\n      <td>0.980619</td>\n    </tr>\n    <tr>\n      <th>59267</th>\n      <td>688698</td>\n      <td>2020</td>\n      <td>0.170257</td>\n      <td>0.111715</td>\n      <td>0.200996</td>\n      <td>0.132108</td>\n      <td>0.749514</td>\n      <td>3.805550</td>\n      <td>4.563628</td>\n      <td>3.485082</td>\n      <td>...</td>\n      <td>14.92</td>\n      <td>3.044522</td>\n      <td>1.386294</td>\n      <td>0.000000</td>\n      <td>1.945910</td>\n      <td>1.791759</td>\n      <td>0.000000</td>\n      <td>2.324987</td>\n      <td>0.365297</td>\n      <td>0.000078</td>\n    </tr>\n    <tr>\n      <th>59268</th>\n      <td>688698</td>\n      <td>2021</td>\n      <td>0.155222</td>\n      <td>0.128555</td>\n      <td>0.195168</td>\n      <td>0.111549</td>\n      <td>0.698676</td>\n      <td>4.389992</td>\n      <td>4.622608</td>\n      <td>3.066133</td>\n      <td>...</td>\n      <td>18.53</td>\n      <td>3.688879</td>\n      <td>1.945910</td>\n      <td>0.000000</td>\n      <td>3.583519</td>\n      <td>1.098612</td>\n      <td>1.386294</td>\n      <td>3.043203</td>\n      <td>0.389688</td>\n      <td>0.221424</td>\n    </tr>\n    <tr>\n      <th>59269</th>\n      <td>688698</td>\n      <td>2022</td>\n      <td>0.149584</td>\n      <td>0.115390</td>\n      <td>0.185831</td>\n      <td>0.100960</td>\n      <td>0.661327</td>\n      <td>4.218523</td>\n      <td>3.921500</td>\n      <td>2.634885</td>\n      <td>...</td>\n      <td>18.37</td>\n      <td>2.772589</td>\n      <td>2.639057</td>\n      <td>0.000000</td>\n      <td>3.433987</td>\n      <td>1.098612</td>\n      <td>1.791759</td>\n      <td>3.199023</td>\n      <td>0.362252</td>\n      <td>0.359231</td>\n    </tr>\n  </tbody>\n</table>\n<p>17644 rows × 40 columns</p>\n</div>"
     },
     "execution_count": 5,
     "metadata": {},
     "output_type": "execute_result"
    }
   ],
   "source": [
    "dataset = pd.merge(fin,info,on=['股票代码','截止年份'],how='outer')\n",
    "get_na_codes = lambda dataset, name : set(dataset[dataset[name].isna()]['股票代码'].to_list())\n",
    "sts_ids = set(dataset[dataset['上市状态']==0]['股票代码'].tolist())\n",
    "dataset.dropna(subset=['行业代码'],inplace=True)\n",
    "#  顺便剔除了这些数据 ：'上市状态', '行业代码','上市日期', '纳税总额A', '捐赠总额',,'人力资源效率',\n",
    "needs = [\n",
    "    '股票代码', '截止年份', '净资产收益率（ROE）B', '投入资本回报率（ROIC）', '成本费用利润率', '资产报酬率B', '总资产周转率B', '应付账款周转率B', '应收账款周转率B', '存货周转率B', '资产负债率', '速动比率', '权益乘数', '现金资产比率', '营运指数', '净利润增长率B', '固定资产增长率B', '营业总收入增长率', '营业费用增长率', '财务杠杆', '经营杠杆', \n",
    "    '研发人员数量占比(%)', '研发营收比(%)', '提供岗位增长率', '员工收入增长率',\n",
    "    '股权集中度4(%)', '两权分离度(%)', '董事会规模', '独董比例', \n",
    "    '本期采购额占年度采购总额比例(%)', '本期销售额占年度销售总额比例(%)','申请专利数',\n",
    "     '数字技术应用', '互联网商业模式', '智能制造', '现代信息系统', 'wufei', 'yuanchun', 'csmar','lishouxi'\n",
    "]\n",
    "dataset = dataset[(dataset['行业代码'].str.startswith('C'))]\n",
    "dataset = dataset[~(dataset['行业代码'].str.endswith('39'))]\n",
    "dataset = dataset[~dataset['股票代码'].isin(sts_ids)]\n",
    "dataset = dataset[(dataset['截止年份']>2012)&(dataset['上市日期']<2021)]\n",
    "dataset = dataset[~dataset['股票代码'].isin(get_na_codes(dataset,'lishouxi'))]\n",
    "dataset = fillna__(dataset[needs],'股票代码',rate=0.2).sort_values(by=['股票代码','截止年份'])\n",
    "dataset"
   ],
   "metadata": {
    "collapsed": false,
    "ExecuteTime": {
     "end_time": "2024-04-07T11:04:27.459588Z",
     "start_time": "2024-04-07T11:04:19.185337Z"
    }
   },
   "id": "ecb3ecaa39859058",
   "execution_count": 5
  },
  {
   "cell_type": "code",
   "outputs": [
    {
     "name": "stdout",
     "output_type": "stream",
     "text": [
      "保留大约3528的企业\n"
     ]
    },
    {
     "data": {
      "text/plain": "         股票代码  截止年份  净资产收益率（ROE）B  投入资本回报率（ROIC）   成本费用利润率    资产报酬率B  \\\n45     000004  2019     -0.004540      -0.003744  0.045469  0.004754   \n108    000008  2018      0.046860       0.045169  0.196867  0.046609   \n109    000008  2019      0.061065       0.054076  0.197703  0.056981   \n417    000030  2020      0.115520       0.082410  0.085494  0.067531   \n418    000030  2021      0.092734       0.068497  0.066624  0.057768   \n...       ...   ...           ...            ...       ...       ...   \n58977  688599  2021      0.109258       0.043780  0.053583  0.046967   \n59180  688676  2022      0.106166       0.055751  0.059789  0.040424   \n59192  688678  2022      0.115674       0.080486  0.202634  0.068679   \n59231  688686  2021      0.126012       0.112538  0.573878  0.124256   \n59232  688686  2022      0.122735       0.109802  0.446093  0.119535   \n\n        总资产周转率B  应付账款周转率B  应收账款周转率B     存货周转率B  ...  两权分离度(%)      董事会规模  \\\n45     0.117298  1.339469  0.742593   4.651037  ...   22.7330   9.219696   \n108    0.242605  2.016633  0.919671   1.881115  ...    0.0000  11.329387   \n109    0.286096  1.975366  0.960878   2.137038  ...    0.0000  11.443490   \n417    0.811730  3.864573  6.676066   9.774570  ...    2.7348  10.248636   \n418    0.874976  4.356312  7.482725  10.435997  ...    2.7546  10.302700   \n...         ...       ...       ...        ...  ...       ...        ...   \n58977  0.815164  6.002502  7.173230   3.843288  ...    1.0059  10.394274   \n59180  0.738688  3.072949  3.208040   2.396251  ...    0.4343   8.785081   \n59192  0.448270  2.404666  2.705787   2.984502  ...    0.0000   8.856376   \n59231  0.341163  4.451873  2.370634   2.592239  ...    0.8451   8.432506   \n59232  0.403168  4.963620  2.320462   2.574553  ...    0.8451   8.454466   \n\n           独董比例  本期采购额占年度采购总额比例(%)  本期销售额占年度销售总额比例(%)     申请专利数    数字技术应用  \\\n45     0.428571              91.83              15.54  4.234107  2.302585   \n108    0.416667              13.83              43.89  3.332205  3.218876   \n109    0.333333              17.78              26.80  4.219508  3.258097   \n417    0.272727              16.42              73.51  4.060443  2.079442   \n418    0.300000              12.46              66.48  3.332205  3.044522   \n...         ...                ...                ...       ...       ...   \n58977  0.333333              32.21               9.05  5.513429  3.044522   \n59180  0.333333              32.38              23.54  3.135494  4.644391   \n59192  0.600000              16.22              46.14  3.688879  2.197225   \n59231  0.600000              30.24              35.34  4.941642  1.386294   \n59232  0.555556              35.62              46.09  4.663439  0.693147   \n\n        互联网商业模式      智能制造    现代信息系统  \n45     2.484907  1.098612  1.098612  \n108    1.386294  3.663562  2.484907  \n109    0.000000  3.555348  1.945910  \n417    0.000000  2.397895  0.000000  \n418    0.693147  2.995732  0.000000  \n...         ...       ...       ...  \n58977  0.000000  3.091042  0.693147  \n59180  2.708050  4.025352  2.397895  \n59192  0.000000  3.295837  1.386294  \n59231  0.000000  3.091042  0.000000  \n59232  1.098612  3.135494  1.098612  \n\n[1154 rows x 36 columns]",
      "text/html": "<div>\n<style scoped>\n    .dataframe tbody tr th:only-of-type {\n        vertical-align: middle;\n    }\n\n    .dataframe tbody tr th {\n        vertical-align: top;\n    }\n\n    .dataframe thead th {\n        text-align: right;\n    }\n</style>\n<table border=\"1\" class=\"dataframe\">\n  <thead>\n    <tr style=\"text-align: right;\">\n      <th></th>\n      <th>股票代码</th>\n      <th>截止年份</th>\n      <th>净资产收益率（ROE）B</th>\n      <th>投入资本回报率（ROIC）</th>\n      <th>成本费用利润率</th>\n      <th>资产报酬率B</th>\n      <th>总资产周转率B</th>\n      <th>应付账款周转率B</th>\n      <th>应收账款周转率B</th>\n      <th>存货周转率B</th>\n      <th>...</th>\n      <th>两权分离度(%)</th>\n      <th>董事会规模</th>\n      <th>独董比例</th>\n      <th>本期采购额占年度采购总额比例(%)</th>\n      <th>本期销售额占年度销售总额比例(%)</th>\n      <th>申请专利数</th>\n      <th>数字技术应用</th>\n      <th>互联网商业模式</th>\n      <th>智能制造</th>\n      <th>现代信息系统</th>\n    </tr>\n  </thead>\n  <tbody>\n    <tr>\n      <th>45</th>\n      <td>000004</td>\n      <td>2019</td>\n      <td>-0.004540</td>\n      <td>-0.003744</td>\n      <td>0.045469</td>\n      <td>0.004754</td>\n      <td>0.117298</td>\n      <td>1.339469</td>\n      <td>0.742593</td>\n      <td>4.651037</td>\n      <td>...</td>\n      <td>22.7330</td>\n      <td>9.219696</td>\n      <td>0.428571</td>\n      <td>91.83</td>\n      <td>15.54</td>\n      <td>4.234107</td>\n      <td>2.302585</td>\n      <td>2.484907</td>\n      <td>1.098612</td>\n      <td>1.098612</td>\n    </tr>\n    <tr>\n      <th>108</th>\n      <td>000008</td>\n      <td>2018</td>\n      <td>0.046860</td>\n      <td>0.045169</td>\n      <td>0.196867</td>\n      <td>0.046609</td>\n      <td>0.242605</td>\n      <td>2.016633</td>\n      <td>0.919671</td>\n      <td>1.881115</td>\n      <td>...</td>\n      <td>0.0000</td>\n      <td>11.329387</td>\n      <td>0.416667</td>\n      <td>13.83</td>\n      <td>43.89</td>\n      <td>3.332205</td>\n      <td>3.218876</td>\n      <td>1.386294</td>\n      <td>3.663562</td>\n      <td>2.484907</td>\n    </tr>\n    <tr>\n      <th>109</th>\n      <td>000008</td>\n      <td>2019</td>\n      <td>0.061065</td>\n      <td>0.054076</td>\n      <td>0.197703</td>\n      <td>0.056981</td>\n      <td>0.286096</td>\n      <td>1.975366</td>\n      <td>0.960878</td>\n      <td>2.137038</td>\n      <td>...</td>\n      <td>0.0000</td>\n      <td>11.443490</td>\n      <td>0.333333</td>\n      <td>17.78</td>\n      <td>26.80</td>\n      <td>4.219508</td>\n      <td>3.258097</td>\n      <td>0.000000</td>\n      <td>3.555348</td>\n      <td>1.945910</td>\n    </tr>\n    <tr>\n      <th>417</th>\n      <td>000030</td>\n      <td>2020</td>\n      <td>0.115520</td>\n      <td>0.082410</td>\n      <td>0.085494</td>\n      <td>0.067531</td>\n      <td>0.811730</td>\n      <td>3.864573</td>\n      <td>6.676066</td>\n      <td>9.774570</td>\n      <td>...</td>\n      <td>2.7348</td>\n      <td>10.248636</td>\n      <td>0.272727</td>\n      <td>16.42</td>\n      <td>73.51</td>\n      <td>4.060443</td>\n      <td>2.079442</td>\n      <td>0.000000</td>\n      <td>2.397895</td>\n      <td>0.000000</td>\n    </tr>\n    <tr>\n      <th>418</th>\n      <td>000030</td>\n      <td>2021</td>\n      <td>0.092734</td>\n      <td>0.068497</td>\n      <td>0.066624</td>\n      <td>0.057768</td>\n      <td>0.874976</td>\n      <td>4.356312</td>\n      <td>7.482725</td>\n      <td>10.435997</td>\n      <td>...</td>\n      <td>2.7546</td>\n      <td>10.302700</td>\n      <td>0.300000</td>\n      <td>12.46</td>\n      <td>66.48</td>\n      <td>3.332205</td>\n      <td>3.044522</td>\n      <td>0.693147</td>\n      <td>2.995732</td>\n      <td>0.000000</td>\n    </tr>\n    <tr>\n      <th>...</th>\n      <td>...</td>\n      <td>...</td>\n      <td>...</td>\n      <td>...</td>\n      <td>...</td>\n      <td>...</td>\n      <td>...</td>\n      <td>...</td>\n      <td>...</td>\n      <td>...</td>\n      <td>...</td>\n      <td>...</td>\n      <td>...</td>\n      <td>...</td>\n      <td>...</td>\n      <td>...</td>\n      <td>...</td>\n      <td>...</td>\n      <td>...</td>\n      <td>...</td>\n      <td>...</td>\n    </tr>\n    <tr>\n      <th>58977</th>\n      <td>688599</td>\n      <td>2021</td>\n      <td>0.109258</td>\n      <td>0.043780</td>\n      <td>0.053583</td>\n      <td>0.046967</td>\n      <td>0.815164</td>\n      <td>6.002502</td>\n      <td>7.173230</td>\n      <td>3.843288</td>\n      <td>...</td>\n      <td>1.0059</td>\n      <td>10.394274</td>\n      <td>0.333333</td>\n      <td>32.21</td>\n      <td>9.05</td>\n      <td>5.513429</td>\n      <td>3.044522</td>\n      <td>0.000000</td>\n      <td>3.091042</td>\n      <td>0.693147</td>\n    </tr>\n    <tr>\n      <th>59180</th>\n      <td>688676</td>\n      <td>2022</td>\n      <td>0.106166</td>\n      <td>0.055751</td>\n      <td>0.059789</td>\n      <td>0.040424</td>\n      <td>0.738688</td>\n      <td>3.072949</td>\n      <td>3.208040</td>\n      <td>2.396251</td>\n      <td>...</td>\n      <td>0.4343</td>\n      <td>8.785081</td>\n      <td>0.333333</td>\n      <td>32.38</td>\n      <td>23.54</td>\n      <td>3.135494</td>\n      <td>4.644391</td>\n      <td>2.708050</td>\n      <td>4.025352</td>\n      <td>2.397895</td>\n    </tr>\n    <tr>\n      <th>59192</th>\n      <td>688678</td>\n      <td>2022</td>\n      <td>0.115674</td>\n      <td>0.080486</td>\n      <td>0.202634</td>\n      <td>0.068679</td>\n      <td>0.448270</td>\n      <td>2.404666</td>\n      <td>2.705787</td>\n      <td>2.984502</td>\n      <td>...</td>\n      <td>0.0000</td>\n      <td>8.856376</td>\n      <td>0.600000</td>\n      <td>16.22</td>\n      <td>46.14</td>\n      <td>3.688879</td>\n      <td>2.197225</td>\n      <td>0.000000</td>\n      <td>3.295837</td>\n      <td>1.386294</td>\n    </tr>\n    <tr>\n      <th>59231</th>\n      <td>688686</td>\n      <td>2021</td>\n      <td>0.126012</td>\n      <td>0.112538</td>\n      <td>0.573878</td>\n      <td>0.124256</td>\n      <td>0.341163</td>\n      <td>4.451873</td>\n      <td>2.370634</td>\n      <td>2.592239</td>\n      <td>...</td>\n      <td>0.8451</td>\n      <td>8.432506</td>\n      <td>0.600000</td>\n      <td>30.24</td>\n      <td>35.34</td>\n      <td>4.941642</td>\n      <td>1.386294</td>\n      <td>0.000000</td>\n      <td>3.091042</td>\n      <td>0.000000</td>\n    </tr>\n    <tr>\n      <th>59232</th>\n      <td>688686</td>\n      <td>2022</td>\n      <td>0.122735</td>\n      <td>0.109802</td>\n      <td>0.446093</td>\n      <td>0.119535</td>\n      <td>0.403168</td>\n      <td>4.963620</td>\n      <td>2.320462</td>\n      <td>2.574553</td>\n      <td>...</td>\n      <td>0.8451</td>\n      <td>8.454466</td>\n      <td>0.555556</td>\n      <td>35.62</td>\n      <td>46.09</td>\n      <td>4.663439</td>\n      <td>0.693147</td>\n      <td>1.098612</td>\n      <td>3.135494</td>\n      <td>1.098612</td>\n    </tr>\n  </tbody>\n</table>\n<p>1154 rows × 36 columns</p>\n</div>"
     },
     "execution_count": 6,
     "metadata": {},
     "output_type": "execute_result"
    }
   ],
   "source": [
    "import mapclassify as mc\n",
    "\n",
    "# 确定研究对象:对数据进行分层找出大约20%的数字化转型有效企业\n",
    "# 观察各种数字化转型指数的聚类情况，思考如何定义数字化企业比较好？--- 可供考虑的：wufei/yuanchun/csmar/lishouxi\n",
    "print(f'保留大约{int(dataset.shape[0]*0.20)}的企业')\n",
    "# digital = dataset[['股票代码', '截止年份', 'wufei', 'yuanchun', 'csmar','lishouxi']]\n",
    "# print(mc.NaturalBreaks(digital['lishouxi'], 2))\n",
    "# wufei>2/yuanchun>2.53/lishouxi>0.46\n",
    "data = dataset.copy()\n",
    "data = data[(data['yuanchun']>2)&(data['lishouxi']>0.46)].drop([ 'wufei', 'yuanchun', 'csmar','lishouxi'],axis=1).dropna()\n",
    "data.to_csv('./datas/dataset.csv',index=False,encoding='utf-8')\n",
    "data"
   ],
   "metadata": {
    "collapsed": false,
    "ExecuteTime": {
     "end_time": "2024-04-07T11:04:30.027101Z",
     "start_time": "2024-04-07T11:04:29.474967Z"
    }
   },
   "id": "883270f61b13bc9f",
   "execution_count": 6
  },
  {
   "cell_type": "code",
   "outputs": [],
   "source": [],
   "metadata": {
    "collapsed": false
   },
   "id": "9a6f079c45607f26",
   "execution_count": null
  }
 ],
 "metadata": {
  "kernelspec": {
   "display_name": "Python 3",
   "language": "python",
   "name": "python3"
  },
  "language_info": {
   "codemirror_mode": {
    "name": "ipython",
    "version": 2
   },
   "file_extension": ".py",
   "mimetype": "text/x-python",
   "name": "python",
   "nbconvert_exporter": "python",
   "pygments_lexer": "ipython2",
   "version": "2.7.6"
  }
 },
 "nbformat": 4,
 "nbformat_minor": 5
}
