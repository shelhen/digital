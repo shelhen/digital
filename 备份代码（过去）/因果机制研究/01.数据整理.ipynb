{
 "cells": [
  {
   "cell_type": "markdown",
   "source": [
    "**数字化转型的测度**：\n",
    "无形资产投资法/吴非法/袁淳法/赵辰宇法/胡元林法/csmar/其他\n",
    "**企业绩效的测度**\n",
    "主业绩效：MRS = (营业利润－投资收益－公允价值变动收益＋对联营企业和合营企业的投资收益)/ 总资产\n",
    "托宾Q值\n",
    "净资产收益率（ROE）\n",
    "总资产收益率（ROA）\n",
    "基于熵权法拟合如下指标：净资产收益率、资本积累率、资产负债率、总资产周转率\n",
    "\n",
    "**营运绩效**\n",
    "固定资产周转率/应收账款周转率/应付账款周转率/总资产周转率/存货周转率\n",
    "\n",
    "控制变量：\n",
    "董事会规模/独董比例/企业资产/两职合一/股权集中度/上市年限/营业收入/产权性质\n",
    "资产负债率/资本密集度/\n",
    "\n",
    "可能的中介变量\n",
    "技术创新：创新投入，创新产出 : 研发投入；研发投入占比；科研人员数量；科研人员数量占比；\n",
    "管理创新：成本利润\n",
    "供应链集成\n",
    "内部控制\n",
    "\n",
    "研究思路：数字化通过技术创新 提升企业营运绩效/数字化转型通过营运绩效影响企业盈利绩效\n",
    "\n",
    "数字化转型可以分为三个阶段\n",
    "\n",
    "如何将数字化转型测度问题分阶段实现？数字化三个阶段——数据上传，数据分析"
   ],
   "metadata": {
    "collapsed": false
   },
   "id": "bb1a0b5b6cf04ff2"
  },
  {
   "cell_type": "code",
   "outputs": [],
   "source": [
    "# 财务绩效数据整理\n",
    "import pandas as pd\n",
    "from utils import financial_dict\n",
    "import warnings\n",
    "warnings.filterwarnings('ignore')\n",
    "\n",
    "trans_dict={'A001000000':'资产总计', 'B001302000':'投资收益', 'B001302101':'对联营企业和合营企业的投资收益', 'B001301000':'公允价值变动收益', 'B001300000':'营业利润','LISTINGDATE':'上市日期','PROVINCE':'上市省份','LISTINGSTATE':'上市状态','IndustryCodeC':'行业代码'}\n",
    "paths=['C:/datas/企业绩效数据/其他数据/FS_Combas.txt','C:/datas/企业绩效数据/其他数据/FS_Comins.txt','C:/datas/企业绩效数据/其他数据/STK_LISTEDCOINFOANL.txt']\n",
    "\n",
    "MRS = pd.read_csv(paths[0],sep='\\t', header=0, dtype={'Stkcd': 'object'}, parse_dates=['Accper'])\n",
    "MRS = MRS[(MRS.Typrep == \"A\") & (MRS.Accper.dt.month == 12)& (MRS.Accper.dt.year > 2010)][['Stkcd','Accper','A001000000']]\n",
    "MRS_ = pd.read_csv(paths[1],sep='\\t', header=0, dtype={'Stkcd': 'object'}, parse_dates=['Accper'])\n",
    "MRS_ = MRS_[(MRS_.Typrep == \"A\") & (MRS_.Accper.dt.month == 12)& (MRS_.Accper.dt.year > 2010)][['Stkcd','Accper','B001302000','B001302101','B001301000','B001300000']]\n",
    "MRS = pd.merge(MRS, MRS_, how='outer',on=['Stkcd','Accper'])\n",
    "\n",
    "MRS_ = pd.read_csv(paths[2],sep='\\t', header=0, dtype={'Symbol': 'object'}, parse_dates=['EndDate','LISTINGDATE'])\n",
    "MRS_ = MRS_[(MRS_.EndDate.dt.month == 12)& (MRS_.EndDate.dt.year>2010)][['Symbol','EndDate','LISTINGDATE','PROVINCE','LISTINGSTATE','IndustryCodeC']]\n",
    "MRS_.rename(columns={'Symbol':'Stkcd','EndDate':'Accper'},inplace=True)\n",
    "MRS = pd.merge(MRS, MRS_, how='outer',on=['Stkcd','Accper'])\n",
    "MRS.rename(columns=trans_dict,inplace=True)\n",
    "# MRS = (营业利润－投资收益－公允价值变动收益＋对联营企业和合营企业的投资收益)/ 总资产\n",
    "MRS['主业绩效'] = MRS['营业利润']- MRS['投资收益'] - MRS['对联营企业和合营企业的投资收益'] -MRS['公允价值变动收益']\n",
    "MRS['主业绩效']  =MRS['主业绩效']/MRS['资产总计']\n",
    "MRS = MRS[['Stkcd','Accper','上市日期','上市状态','上市省份','行业代码','主业绩效','资产总计']]\n",
    "paths=[\n",
    "    r'C:/datas/企业绩效数据/财务绩效数据/盈利能力195507730(仅供盐城工学院使用)/FI_T5.txt',\n",
    "    r'C:/datas/企业绩效数据/财务绩效数据/发展能力195614784(仅供盐城工学院使用)/FI_T8.txt',\n",
    "    r'C:/datas/企业绩效数据/财务绩效数据/偿债能力195205880(仅供盐城工学院使用)/FI_T1.txt',\n",
    "    r'C:/datas/企业绩效数据/财务绩效数据/相对价值指标195621915(仅供盐城工学院使用)/FI_T10.txt',\n",
    "    r'C:/datas/企业绩效数据/财务绩效数据/经营能力195458346(仅供盐城工学院使用)/FI_T4.txt'\n",
    "]\n",
    "profitability_names = [financial_dict[name] for name in ['股票代码','截止日期','总资产净利润率(ROA)B','净资产收益率（ROE）B','投入资本回报率（ROIC）','研发费用率','成本费用利润率','销售期间费用率']]\n",
    "profitability = pd.read_csv(paths[0],sep='\\t', header=0, dtype={'Stkcd': 'object'}, parse_dates=['Accper'])\n",
    "profitability = profitability[(profitability.Typrep == \"A\") & (profitability.Accper.dt.month == 12)& (profitability.Accper.dt.year > 2010)][profitability_names]\n",
    "development_names = [financial_dict[name] for name in ['股票代码','截止日期','资本积累率B']]\n",
    "development = pd.read_csv(paths[1],sep='\\t', header=0, dtype={'Stkcd': 'object'}, parse_dates=['Accper'])\n",
    "development = development[(development.Typrep == \"A\") & (development.Accper.dt.month == 12)& (development.Accper.dt.year > 2010)][development_names]\n",
    "debt_names=[financial_dict[name] for name in ['股票代码','截止日期','资产负债率']]\n",
    "debt = pd.read_csv(paths[2],sep='\\t', header=0, dtype={'Stkcd': 'object'}, parse_dates=['Accper'])\n",
    "debt = debt[(debt.Typrep == \"A\") & (debt.Accper.dt.month == 12)& (debt.Accper.dt.year > 2010)][debt_names]\n",
    "relative_names=[financial_dict[name] for name in ['股票代码','截止日期','托宾Q值B']]\n",
    "relative = pd.read_csv(paths[3],sep='\\t', header=0, dtype={'Stkcd': 'object'}, parse_dates=['Accper'])\n",
    "relative = relative[(relative.Accper.dt.month == 12)& (relative.Accper.dt.year > 2010)][relative_names]\n",
    "business_names=[financial_dict[name] for name in ['股票代码','截止日期','应收账款周转率B','应付账款周转率B','存货周转率B','固定资产周转率B','总资产周转率B','资本密集度']]\n",
    "business = pd.read_csv(paths[4],sep='\\t', header=0, dtype={'Stkcd': 'object'}, parse_dates=['Accper'])\n",
    "business = business[(business.Typrep == \"A\") & (business.Accper.dt.month == 12)& (business.Accper.dt.year > 2010)][business_names]\n",
    "\n",
    "business = pd.merge(profitability,business,on=['Stkcd','Accper'],how='outer')\n",
    "business = pd.merge(development,business,on=['Stkcd','Accper'],how='outer')\n",
    "business = pd.merge(debt,business,on=['Stkcd','Accper'],how='outer')\n",
    "business = pd.merge(relative,business,on=['Stkcd','Accper'],how='outer')\n",
    "business = pd.merge(MRS,business,on=['Stkcd','Accper'],how='outer')\n",
    "# financial_dict\n",
    "trans_dict = {value: key for key, value in financial_dict.items()}\n",
    "business.rename(columns=trans_dict,inplace=True)\n",
    "business['截止日期'] = business['截止日期'].dt.year\n",
    "business['截止日期'] =business['截止日期'].astype('int')\n",
    "business['上市状态'] = business['上市状态'].apply(lambda x:1 if x=='正常上市' else 0)"
   ],
   "metadata": {
    "collapsed": false,
    "ExecuteTime": {
     "end_time": "2024-04-06T18:23:53.350135Z",
     "start_time": "2024-04-06T18:23:36.368370Z"
    }
   },
   "id": "a8b46f4dbf3036dd",
   "execution_count": 1
  },
  {
   "cell_type": "markdown",
   "source": [
    "非财务绩效\n",
    "控制变量：\n",
    "董事会规模/独董比例/两职合一/股权集中度/两权分离度/股权性质\n",
    "\n",
    "营业收入 = 主营业务收入\n",
    "企业资产 = ln(资产总计)|ln(主营业务收入)\n",
    "\n",
    "上市年限\n",
    "技术创新：创新投入 研发投入占比；科研人员数量占比；\n",
    "\n",
    "管理创新：成本利润\n",
    "供应链集成\n",
    "内部控制"
   ],
   "metadata": {
    "collapsed": false
   },
   "id": "277645e682d549bd"
  },
  {
   "cell_type": "code",
   "outputs": [
    {
     "data": {
      "text/plain": "       截止日期    股票代码     董事会规模  两职合一        主营业务收入  两权分离度(%)  股权集中度4(%)  \\\n0      2011  000001  272946.0   1.0           NaN       NaN    58.9121   \n1      2012  000001  263477.0   1.0           NaN       NaN    58.7076   \n2      2013  000001  298070.0   1.0           NaN       NaN    74.7385   \n3      2014  000001  275838.0   1.0           NaN       NaN    64.5121   \n4      2015  000001  332918.0   1.0           NaN       NaN    66.0596   \n...     ...     ...       ...   ...           ...       ...        ...   \n53049  2018  900957   24833.0   1.0  6.470736e+07   13.0328    48.0287   \n53050  2019  900957   23928.0   1.0  1.050223e+08   13.0328    48.1793   \n53051  2020  900957   23191.0   1.0           NaN   13.0328    48.3093   \n53052  2021  900957   22442.0   1.0           NaN   13.0328    48.3658   \n53053  2022  900957   21944.0   1.0  1.199133e+08   13.0328    48.6943   \n\n       研发人员数量占比(%)  研发营收比(%)  内部控制指数  ...      资本密集度     wufei  zhaochenyv  \\\n0              NaN       NaN  716.87  ...  43.255160  0.000000    0.000019   \n1              NaN       NaN  724.92  ...  41.287048  0.693147    0.000220   \n2              NaN       NaN  773.70  ...  36.880356  2.890372    0.000338   \n3              NaN       NaN  590.73  ...  30.953452  3.496508    0.000701   \n4              NaN       NaN  620.15  ...  27.044377  3.526361    0.000852   \n...            ...       ...     ...  ...        ...       ...         ...   \n53049          NaN       NaN     NaN  ...   9.489895       NaN         NaN   \n53050          NaN       NaN     NaN  ...   9.690460       NaN         NaN   \n53051          NaN       NaN     NaN  ...  10.145928       NaN         NaN   \n53052          NaN       NaN     NaN  ...   9.052161       NaN         NaN   \n53053          NaN       NaN     NaN  ...   8.893483       NaN         NaN   \n\n       yuanchun   无形资产数字化     csmar  lishouxi  股权性质    上市日期  上市省份  \n0      1.320859  0.000299  0.360857  0.000039   0.0  1991.0   广东省  \n1      0.597921  0.000344  0.373089  0.128662   0.0  1991.0   广东省  \n2      0.789940  0.000224  0.467492  0.627915   0.0  1991.0   广东省  \n3      1.189093  0.000247  0.449356  0.852747   0.0  1991.0   广东省  \n4      1.600131  0.000198  0.470867  1.370381   0.0  1991.0   广东省  \n...         ...       ...       ...       ...   ...     ...   ...  \n53049       NaN       NaN       NaN       NaN   NaN  2000.0   上海市  \n53050       NaN       NaN       NaN       NaN   NaN  2000.0   上海市  \n53051       NaN       NaN       NaN       NaN   NaN  2000.0   上海市  \n53052       NaN       NaN       NaN       NaN   NaN  2000.0   上海市  \n53053       NaN       NaN       NaN       NaN   NaN  2000.0   上海市  \n\n[53054 rows x 41 columns]",
      "text/html": "<div>\n<style scoped>\n    .dataframe tbody tr th:only-of-type {\n        vertical-align: middle;\n    }\n\n    .dataframe tbody tr th {\n        vertical-align: top;\n    }\n\n    .dataframe thead th {\n        text-align: right;\n    }\n</style>\n<table border=\"1\" class=\"dataframe\">\n  <thead>\n    <tr style=\"text-align: right;\">\n      <th></th>\n      <th>截止日期</th>\n      <th>股票代码</th>\n      <th>董事会规模</th>\n      <th>两职合一</th>\n      <th>主营业务收入</th>\n      <th>两权分离度(%)</th>\n      <th>股权集中度4(%)</th>\n      <th>研发人员数量占比(%)</th>\n      <th>研发营收比(%)</th>\n      <th>内部控制指数</th>\n      <th>...</th>\n      <th>资本密集度</th>\n      <th>wufei</th>\n      <th>zhaochenyv</th>\n      <th>yuanchun</th>\n      <th>无形资产数字化</th>\n      <th>csmar</th>\n      <th>lishouxi</th>\n      <th>股权性质</th>\n      <th>上市日期</th>\n      <th>上市省份</th>\n    </tr>\n  </thead>\n  <tbody>\n    <tr>\n      <th>0</th>\n      <td>2011</td>\n      <td>000001</td>\n      <td>272946.0</td>\n      <td>1.0</td>\n      <td>NaN</td>\n      <td>NaN</td>\n      <td>58.9121</td>\n      <td>NaN</td>\n      <td>NaN</td>\n      <td>716.87</td>\n      <td>...</td>\n      <td>43.255160</td>\n      <td>0.000000</td>\n      <td>0.000019</td>\n      <td>1.320859</td>\n      <td>0.000299</td>\n      <td>0.360857</td>\n      <td>0.000039</td>\n      <td>0.0</td>\n      <td>1991.0</td>\n      <td>广东省</td>\n    </tr>\n    <tr>\n      <th>1</th>\n      <td>2012</td>\n      <td>000001</td>\n      <td>263477.0</td>\n      <td>1.0</td>\n      <td>NaN</td>\n      <td>NaN</td>\n      <td>58.7076</td>\n      <td>NaN</td>\n      <td>NaN</td>\n      <td>724.92</td>\n      <td>...</td>\n      <td>41.287048</td>\n      <td>0.693147</td>\n      <td>0.000220</td>\n      <td>0.597921</td>\n      <td>0.000344</td>\n      <td>0.373089</td>\n      <td>0.128662</td>\n      <td>0.0</td>\n      <td>1991.0</td>\n      <td>广东省</td>\n    </tr>\n    <tr>\n      <th>2</th>\n      <td>2013</td>\n      <td>000001</td>\n      <td>298070.0</td>\n      <td>1.0</td>\n      <td>NaN</td>\n      <td>NaN</td>\n      <td>74.7385</td>\n      <td>NaN</td>\n      <td>NaN</td>\n      <td>773.70</td>\n      <td>...</td>\n      <td>36.880356</td>\n      <td>2.890372</td>\n      <td>0.000338</td>\n      <td>0.789940</td>\n      <td>0.000224</td>\n      <td>0.467492</td>\n      <td>0.627915</td>\n      <td>0.0</td>\n      <td>1991.0</td>\n      <td>广东省</td>\n    </tr>\n    <tr>\n      <th>3</th>\n      <td>2014</td>\n      <td>000001</td>\n      <td>275838.0</td>\n      <td>1.0</td>\n      <td>NaN</td>\n      <td>NaN</td>\n      <td>64.5121</td>\n      <td>NaN</td>\n      <td>NaN</td>\n      <td>590.73</td>\n      <td>...</td>\n      <td>30.953452</td>\n      <td>3.496508</td>\n      <td>0.000701</td>\n      <td>1.189093</td>\n      <td>0.000247</td>\n      <td>0.449356</td>\n      <td>0.852747</td>\n      <td>0.0</td>\n      <td>1991.0</td>\n      <td>广东省</td>\n    </tr>\n    <tr>\n      <th>4</th>\n      <td>2015</td>\n      <td>000001</td>\n      <td>332918.0</td>\n      <td>1.0</td>\n      <td>NaN</td>\n      <td>NaN</td>\n      <td>66.0596</td>\n      <td>NaN</td>\n      <td>NaN</td>\n      <td>620.15</td>\n      <td>...</td>\n      <td>27.044377</td>\n      <td>3.526361</td>\n      <td>0.000852</td>\n      <td>1.600131</td>\n      <td>0.000198</td>\n      <td>0.470867</td>\n      <td>1.370381</td>\n      <td>0.0</td>\n      <td>1991.0</td>\n      <td>广东省</td>\n    </tr>\n    <tr>\n      <th>...</th>\n      <td>...</td>\n      <td>...</td>\n      <td>...</td>\n      <td>...</td>\n      <td>...</td>\n      <td>...</td>\n      <td>...</td>\n      <td>...</td>\n      <td>...</td>\n      <td>...</td>\n      <td>...</td>\n      <td>...</td>\n      <td>...</td>\n      <td>...</td>\n      <td>...</td>\n      <td>...</td>\n      <td>...</td>\n      <td>...</td>\n      <td>...</td>\n      <td>...</td>\n      <td>...</td>\n    </tr>\n    <tr>\n      <th>53049</th>\n      <td>2018</td>\n      <td>900957</td>\n      <td>24833.0</td>\n      <td>1.0</td>\n      <td>6.470736e+07</td>\n      <td>13.0328</td>\n      <td>48.0287</td>\n      <td>NaN</td>\n      <td>NaN</td>\n      <td>NaN</td>\n      <td>...</td>\n      <td>9.489895</td>\n      <td>NaN</td>\n      <td>NaN</td>\n      <td>NaN</td>\n      <td>NaN</td>\n      <td>NaN</td>\n      <td>NaN</td>\n      <td>NaN</td>\n      <td>2000.0</td>\n      <td>上海市</td>\n    </tr>\n    <tr>\n      <th>53050</th>\n      <td>2019</td>\n      <td>900957</td>\n      <td>23928.0</td>\n      <td>1.0</td>\n      <td>1.050223e+08</td>\n      <td>13.0328</td>\n      <td>48.1793</td>\n      <td>NaN</td>\n      <td>NaN</td>\n      <td>NaN</td>\n      <td>...</td>\n      <td>9.690460</td>\n      <td>NaN</td>\n      <td>NaN</td>\n      <td>NaN</td>\n      <td>NaN</td>\n      <td>NaN</td>\n      <td>NaN</td>\n      <td>NaN</td>\n      <td>2000.0</td>\n      <td>上海市</td>\n    </tr>\n    <tr>\n      <th>53051</th>\n      <td>2020</td>\n      <td>900957</td>\n      <td>23191.0</td>\n      <td>1.0</td>\n      <td>NaN</td>\n      <td>13.0328</td>\n      <td>48.3093</td>\n      <td>NaN</td>\n      <td>NaN</td>\n      <td>NaN</td>\n      <td>...</td>\n      <td>10.145928</td>\n      <td>NaN</td>\n      <td>NaN</td>\n      <td>NaN</td>\n      <td>NaN</td>\n      <td>NaN</td>\n      <td>NaN</td>\n      <td>NaN</td>\n      <td>2000.0</td>\n      <td>上海市</td>\n    </tr>\n    <tr>\n      <th>53052</th>\n      <td>2021</td>\n      <td>900957</td>\n      <td>22442.0</td>\n      <td>1.0</td>\n      <td>NaN</td>\n      <td>13.0328</td>\n      <td>48.3658</td>\n      <td>NaN</td>\n      <td>NaN</td>\n      <td>NaN</td>\n      <td>...</td>\n      <td>9.052161</td>\n      <td>NaN</td>\n      <td>NaN</td>\n      <td>NaN</td>\n      <td>NaN</td>\n      <td>NaN</td>\n      <td>NaN</td>\n      <td>NaN</td>\n      <td>2000.0</td>\n      <td>上海市</td>\n    </tr>\n    <tr>\n      <th>53053</th>\n      <td>2022</td>\n      <td>900957</td>\n      <td>21944.0</td>\n      <td>1.0</td>\n      <td>1.199133e+08</td>\n      <td>13.0328</td>\n      <td>48.6943</td>\n      <td>NaN</td>\n      <td>NaN</td>\n      <td>NaN</td>\n      <td>...</td>\n      <td>8.893483</td>\n      <td>NaN</td>\n      <td>NaN</td>\n      <td>NaN</td>\n      <td>NaN</td>\n      <td>NaN</td>\n      <td>NaN</td>\n      <td>NaN</td>\n      <td>2000.0</td>\n      <td>上海市</td>\n    </tr>\n  </tbody>\n</table>\n<p>53054 rows × 41 columns</p>\n</div>"
     },
     "execution_count": 2,
     "metadata": {},
     "output_type": "execute_result"
    }
   ],
   "source": [
    "dataset = pd.read_csv('./data/非财务绩效数据.csv',dtype={'股票代码':'object'})\n",
    "dataset['供应链集成'] = (dataset['本期销售额占年度销售总额比例(%)']+dataset['本期采购额占年度采购总额比例(%)'])/2\n",
    "dataset.drop(['财务波动','长期绩效增长','授权专利数2','授权专利数','纳税总额A','捐赠总额','职工薪酬','研发人员数量','员工人数','研发投入金额','本期采购额占年度采购总额比例(%)','本期销售额占年度销售总额比例(%)','股权性质'],axis=1,inplace=True)\n",
    "dataset = dataset[dataset['截止年份']>2010]\n",
    "dataset.rename(columns={'截止年份':'截止日期'}, inplace=True)\n",
    "dataset = pd.merge(dataset, business, on=['股票代码','截止日期'], how='outer')\n",
    "\n",
    "# 数字化情况\n",
    "digital_path = r'C:/onedrivers/OneDrive - jsnu.edu.cn/projects/digital/02.数字化转型水平测度与评价/datas/数字化转型程度2022(未筛选).csv'\n",
    "digital = pd.read_csv(digital_path,dtype={'股票代码':'object'})\n",
    "\n",
    "\n",
    "dataset= pd.merge(dataset, digital, on=['股票代码','截止日期'], how='outer')\n",
    "starttime = dataset[['股票代码','上市日期']].dropna().drop_duplicates('股票代码')\n",
    "starttime['上市日期'] = starttime['上市日期'].dt.year.astype(int)\n",
    "provence = dataset[['股票代码','上市省份']].dropna().drop_duplicates('股票代码')\n",
    "dataset.drop(['statue','所属省份','上市日期','上市省份'],axis=1,inplace=True)\n",
    "dataset = pd.merge(dataset,starttime,on='股票代码',how='outer')\n",
    "dataset = pd.merge(dataset,provence,on='股票代码',how='outer')\n",
    "dataset"
   ],
   "metadata": {
    "collapsed": false,
    "ExecuteTime": {
     "end_time": "2024-04-06T18:23:53.686848Z",
     "start_time": "2024-04-06T18:23:53.351140Z"
    }
   },
   "id": "a1109c39c2f70f07",
   "execution_count": 2
  },
  {
   "cell_type": "code",
   "outputs": [],
   "source": [
    "# 创新产出 :\n",
    "import numpy as np\n",
    "from utils import fillna__\n",
    "\n",
    "grant = pd.read_excel(r'C:/datas/企业绩效数据/非财务绩效数据/专利授权情况表(1992-2017)142534725(仅供盐城工学院使用)/上市公司专利申请和授权数据.xlsx', dtype={'股票代码':'object'})\n",
    "grant = grant[(grant['公司类型']=='集团公司合计')&(grant['year']>2010)]\n",
    "grant['独立申请实用新型&外观设计'] = grant['当年独立申请的实用新型数量']  + grant['当年独立申请的外观设计数量']\n",
    "grant['联合申请实用新型&外观设计'] = grant['当年联合申请的实用新型数量']  + grant['当年联合申请的外观设计数量']\n",
    "grant['独立获得实用新型&外观设计'] = grant['当年独立获得的实用新型数量']  + grant['当年独立获得的外观设计数量']\n",
    "grant['联合获得实用新型&外观设计'] = grant['当年联合获得的实用新型数量']  + grant['当年联合获得的外观设计数量']\n",
    "grant.drop(['stkcd','公司类型','当年独立申请的实用新型数量','当年独立申请的外观设计数量','当年联合申请的实用新型数量','当年联合申请的外观设计数量','当年独立获得的外观设计数量','当年独立获得的实用新型数量','当年联合获得的外观设计数量','当年联合获得的实用新型数量'], axis=1, inplace=True)\n",
    "grant.rename(columns={'year':'截止日期'}, inplace=True)\n",
    "dataset= pd.merge(dataset, grant, on=['股票代码','截止日期'], how='outer')\n",
    "dataset.sort_values(by =['股票代码','截止日期'],inplace=True)\n",
    "dataset.reset_index(inplace=True,drop=True)\n",
    "grants=['当年独立申请的发明数量', '当年联合申请的发明数量', '当年独立获得的发明数量', '当年联合获得的发明数量', '当年独立申请专利总和', '当年联合申请专利总和', '当年独立获得专利总和', '当年联合获得专利总和', '独立申请实用新型&外观设计', '联合申请实用新型&外观设计', '独立获得实用新型&外观设计', '联合获得实用新型&外观设计']\n",
    "for name in grants:\n",
    "    dataset[name] = dataset[name].apply(lambda x: np.log(1+x))\n",
    "dataset = dataset[(dataset['截止日期']<2023)&(2010<dataset['截止日期'])]\n",
    "dataset['两职合一'].fillna(1,inplace=True)\n",
    "dataset['股权性质'].fillna(0,inplace=True)\n",
    "dataset['上市状态'].fillna(0,inplace=True)\n",
    "dataset['上市日期'] = dataset['上市日期'].astype(str)\n",
    "# 获取所有曾经被St的企业\n",
    "sts = set(dataset[dataset['上市状态']==0]['股票代码'].tolist())\n",
    "with open('./data/stcodes.txt','w',encoding='utf-8') as fp:\n",
    "    fp.write('\\n'.join(sts))\n",
    "dataset = fillna__(dataset,'股票代码', rate = 0.2)\n",
    "dataset['上市日期'] = dataset['上市日期'].astype(float)\n",
    "dataset.dropna(subset=['上市日期','行业代码'], inplace=True)\n",
    "dataset['上市期限'] = dataset['截止日期']-dataset['上市日期']\n",
    "dataset['企业规模'] =dataset['资产总计'].apply(lambda x: np.log(1+x))\n",
    "dataset = dataset[dataset['上市状态']==1]\n",
    "dataset.drop(['上市日期','资产总计','上市状态'],axis=1,inplace=True)\n",
    "dataset.sort_values(['股票代码','截止日期'], inplace=True)\n",
    "dataset.to_csv('./data/因果机制研究全部数据.csv',encoding='utf8',index=False)"
   ],
   "metadata": {
    "collapsed": false,
    "ExecuteTime": {
     "end_time": "2024-04-03T13:13:26.500755Z",
     "start_time": "2024-04-03T13:12:00.408021Z"
    }
   },
   "id": "1875549cfd73d793",
   "execution_count": 3
  },
  {
   "cell_type": "markdown",
   "source": [
    "创新绩效(Innovation):\n",
    "有些学者直接使用 发明专利的申请数来衡量企业的创新绩效，专利数量是研究中常见的用于测量企业创新产出的指标。发明专利的创新价值最高，实用新型专利、外观设计专利某种程度上存在策略性创新的倾向，发明专利则更能体现企业创新的“质变”特征。\n",
    "专利授权容易受到来自官僚因素的影响，且专利授权往往要经历较长的审核周期，具有一定的不确定性和不稳定性(黎文靖和郑曼妮,2016)。\n",
    "专利申请数量更能反映企业的资源投入力度和使用效率。\n",
    "鉴于一些企业的专利申请数量可能为0,本文对相应的数据采取加1取对数方式构造被解释变量。\n",
    "\n",
    "[1]\t李雪松, 党琳, 赵宸宇. 数字化转型、融入全球创新网络与创新绩效[J]. 中国工业经济, 2022(10): 43-61.\n",
    "有些学者选择将创新绩效划分为\n",
    "利用式创新：研发费用化支出取自然对数/发明专利申请数\n",
    "探索式创新：研发资本化支出取自然对数/实用新型及外观专利申请数"
   ],
   "metadata": {
    "collapsed": false
   },
   "id": "defd29a020d2bf02"
  },
  {
   "cell_type": "code",
   "outputs": [],
   "source": [],
   "metadata": {
    "collapsed": false
   },
   "id": "377fb3727dac9fb4",
   "execution_count": null
  }
 ],
 "metadata": {
  "kernelspec": {
   "display_name": "Python 3",
   "language": "python",
   "name": "python3"
  },
  "language_info": {
   "codemirror_mode": {
    "name": "ipython",
    "version": 2
   },
   "file_extension": ".py",
   "mimetype": "text/x-python",
   "name": "python",
   "nbconvert_exporter": "python",
   "pygments_lexer": "ipython2",
   "version": "2.7.6"
  }
 },
 "nbformat": 4,
 "nbformat_minor": 5
}
