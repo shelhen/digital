{
 "cells": [
  {
   "cell_type": "code",
   "execution_count": null,
   "id": "initial_id",
   "metadata": {
    "collapsed": true
   },
   "outputs": [],
   "source": [
    "from scipy.io import loadmat\n",
    "import pandas as pd\n",
    "\n",
    "# mat文件读取思路\n",
    "mat = loadmat('./data/China city MRIO_2017.mat')\n",
    "print(mat.keys())\n",
    "mdata = mat['MRIO']\n",
    "mtype = mdata.dtype\n",
    "ndata = {n: mdata[n][0,0] for n in mtype.names}\n",
    "meta = mat['Meta']\n",
    "mtype2 = meta.dtype\n",
    "ndata2 = {n: meta[n][0,0] for n in mtype2.names}\n",
    "VA_Name = [item[0] for item in ndata2['VA_Name'][:,0]]\n",
    "F_Name = [item[0] for item in  ndata2['F_Name'][:,0]]\n",
    "City_Name = [item[0] for item in  ndata2['City_Name'][1:,2]]\n",
    "Sector_Name = [item[0] for item in  ndata2['Sector_Name'][1:,1]]\n",
    "columns=[f'{city}_{sector}' for city in City_Name for sector in Sector_Name]\n",
    "dataset = pd.DataFrame(ndata['Z'].T,columns=columns,index=columns)\n",
    "# dataset\n",
    "dataset.to_csv('./data/dataset.csv', encoding='utf8')"
   ]
  }
 ],
 "metadata": {
  "kernelspec": {
   "display_name": "Python 3",
   "language": "python",
   "name": "python3"
  },
  "language_info": {
   "codemirror_mode": {
    "name": "ipython",
    "version": 2
   },
   "file_extension": ".py",
   "mimetype": "text/x-python",
   "name": "python",
   "nbconvert_exporter": "python",
   "pygments_lexer": "ipython2",
   "version": "2.7.6"
  }
 },
 "nbformat": 4,
 "nbformat_minor": 5
}
