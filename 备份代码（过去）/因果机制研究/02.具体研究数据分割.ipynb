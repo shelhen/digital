{
 "cells": [
  {
   "cell_type": "code",
   "outputs": [],
   "source": [
    "import pandas as pd\n",
    "import numpy as np\n",
    "from utils import entropy, normalize\n",
    "import warnings\n",
    "warnings.filterwarnings('ignore')\n",
    "\n",
    "\n",
    "get_na_codes = lambda dataset, name : set(dataset[dataset[name].isna()]['股票代码'].to_list())\n",
    "dataset = pd.read_csv('./data/因果机制研究全部数据.csv',dtype={'股票代码':'object'})\n",
    "# 拿出制造业\n",
    "dataset = dataset[dataset['行业代码'].str.startswith('C')]\n",
    "dataset['行业代码'] = dataset['行业代码'].apply(lambda x: int(x[1:]))\n",
    "\n",
    "\n",
    "important_columns=['wufei', 'zhaochenyv', 'yuanchun', '无形资产数字化', 'csmar', 'lishouxi', '当年独立申请的发明数量', '当年联合申请的发明数量', '当年独立获得的发明数量', '当年联合获得的发明数量', '当年独立申请专利总和', '当年联合申请专利总和', '当年独立获得专利总和', '当年联合获得专利总和', '独立申请实用新型&外观设计', '联合申请实用新型&外观设计', '独立获得实用新型&外观设计', '联合获得实用新型&外观设计','应收账款周转率B', '应付账款周转率B', '存货周转率B', '固定资产周转率B', '总资产周转率B']\n",
    "dataset.dropna(subset=important_columns,inplace=True)\n",
    "needs=['应收账款周转率B', '应付账款周转率B', '存货周转率B', '固定资产周转率B', '总资产周转率B']\n",
    "\n",
    "# dataset[['股票代码','截止日期']+needs].sort_values(['股票代码','截止日期'])"
   ],
   "metadata": {
    "collapsed": false,
    "ExecuteTime": {
     "end_time": "2024-04-03T13:45:43.388030Z",
     "start_time": "2024-04-03T13:45:42.360029Z"
    }
   },
   "id": "dc0b375afd3e280d",
   "execution_count": 2
  },
  {
   "cell_type": "code",
   "outputs": [
    {
     "data": {
      "text/plain": "       截止日期    股票代码       营运能力  行业代码    董事会规模  两职合一  两权分离度(%)  股权集中度4(%)  \\\n24     2011  000004   2.439983    27  11596.0   1.0   10.4400    42.7821   \n25     2012  000004   2.441005    27  12730.0   1.0   10.4400    38.3636   \n26     2013  000004   1.705997    27  11817.0   1.0    8.3520    40.6303   \n27     2014  000004   1.912770    27  12670.0   1.0    8.3520    35.7537   \n28     2015  000004   2.795013    27  11103.0   0.0    9.0944    51.7810   \n...     ...     ...        ...   ...      ...   ...       ...        ...   \n40604  2022  873305   4.031366    33  19858.0   1.0    0.0000    79.4180   \n40605  2019  873339   6.577956    38  11728.0   1.0    6.9033    82.7123   \n40606  2020  873339   6.782623    38  11728.0   1.0    6.9033    82.7123   \n40607  2021  873339  10.470137    38  11728.0   1.0    6.9033    82.7123   \n40608  2022  873339   9.030286    38  11728.0   0.0    6.9033    82.7123   \n\n           独董比例     资产负债率     资本密集度  股权性质  上市期限       企业规模 上市省份  \n24     0.300000  0.294935  2.634865   0.0  20.0  19.095191  广东省  \n25     0.333333  0.232528  1.981379   0.0  21.0  19.077753  广东省  \n26     0.400000  0.403239  3.326970   0.0  22.0  19.305077  广东省  \n27     0.333333  0.534754  4.196595   0.0  23.0  19.639392  广东省  \n28     0.333333  0.590402  3.309746   0.0  24.0  19.803653  广东省  \n...         ...       ...       ...   ...   ...        ...  ...  \n40604  0.333333  0.162897  2.676968   0.0   0.0  19.695486  湖北省  \n40605  0.285714  0.460082  0.791019   0.0  -3.0  19.818025  江苏省  \n40606  0.285714  0.302510  0.772126   0.0  -2.0  19.764373  江苏省  \n40607  0.285714  0.478184  0.708358   0.0  -1.0  20.113307  江苏省  \n40608  0.285714  0.213910  1.112144   0.0   0.0  20.398557  江苏省  \n\n[25668 rows x 15 columns]",
      "text/html": "<div>\n<style scoped>\n    .dataframe tbody tr th:only-of-type {\n        vertical-align: middle;\n    }\n\n    .dataframe tbody tr th {\n        vertical-align: top;\n    }\n\n    .dataframe thead th {\n        text-align: right;\n    }\n</style>\n<table border=\"1\" class=\"dataframe\">\n  <thead>\n    <tr style=\"text-align: right;\">\n      <th></th>\n      <th>截止日期</th>\n      <th>股票代码</th>\n      <th>营运能力</th>\n      <th>行业代码</th>\n      <th>董事会规模</th>\n      <th>两职合一</th>\n      <th>两权分离度(%)</th>\n      <th>股权集中度4(%)</th>\n      <th>独董比例</th>\n      <th>资产负债率</th>\n      <th>资本密集度</th>\n      <th>股权性质</th>\n      <th>上市期限</th>\n      <th>企业规模</th>\n      <th>上市省份</th>\n    </tr>\n  </thead>\n  <tbody>\n    <tr>\n      <th>24</th>\n      <td>2011</td>\n      <td>000004</td>\n      <td>2.439983</td>\n      <td>27</td>\n      <td>11596.0</td>\n      <td>1.0</td>\n      <td>10.4400</td>\n      <td>42.7821</td>\n      <td>0.300000</td>\n      <td>0.294935</td>\n      <td>2.634865</td>\n      <td>0.0</td>\n      <td>20.0</td>\n      <td>19.095191</td>\n      <td>广东省</td>\n    </tr>\n    <tr>\n      <th>25</th>\n      <td>2012</td>\n      <td>000004</td>\n      <td>2.441005</td>\n      <td>27</td>\n      <td>12730.0</td>\n      <td>1.0</td>\n      <td>10.4400</td>\n      <td>38.3636</td>\n      <td>0.333333</td>\n      <td>0.232528</td>\n      <td>1.981379</td>\n      <td>0.0</td>\n      <td>21.0</td>\n      <td>19.077753</td>\n      <td>广东省</td>\n    </tr>\n    <tr>\n      <th>26</th>\n      <td>2013</td>\n      <td>000004</td>\n      <td>1.705997</td>\n      <td>27</td>\n      <td>11817.0</td>\n      <td>1.0</td>\n      <td>8.3520</td>\n      <td>40.6303</td>\n      <td>0.400000</td>\n      <td>0.403239</td>\n      <td>3.326970</td>\n      <td>0.0</td>\n      <td>22.0</td>\n      <td>19.305077</td>\n      <td>广东省</td>\n    </tr>\n    <tr>\n      <th>27</th>\n      <td>2014</td>\n      <td>000004</td>\n      <td>1.912770</td>\n      <td>27</td>\n      <td>12670.0</td>\n      <td>1.0</td>\n      <td>8.3520</td>\n      <td>35.7537</td>\n      <td>0.333333</td>\n      <td>0.534754</td>\n      <td>4.196595</td>\n      <td>0.0</td>\n      <td>23.0</td>\n      <td>19.639392</td>\n      <td>广东省</td>\n    </tr>\n    <tr>\n      <th>28</th>\n      <td>2015</td>\n      <td>000004</td>\n      <td>2.795013</td>\n      <td>27</td>\n      <td>11103.0</td>\n      <td>0.0</td>\n      <td>9.0944</td>\n      <td>51.7810</td>\n      <td>0.333333</td>\n      <td>0.590402</td>\n      <td>3.309746</td>\n      <td>0.0</td>\n      <td>24.0</td>\n      <td>19.803653</td>\n      <td>广东省</td>\n    </tr>\n    <tr>\n      <th>...</th>\n      <td>...</td>\n      <td>...</td>\n      <td>...</td>\n      <td>...</td>\n      <td>...</td>\n      <td>...</td>\n      <td>...</td>\n      <td>...</td>\n      <td>...</td>\n      <td>...</td>\n      <td>...</td>\n      <td>...</td>\n      <td>...</td>\n      <td>...</td>\n      <td>...</td>\n    </tr>\n    <tr>\n      <th>40604</th>\n      <td>2022</td>\n      <td>873305</td>\n      <td>4.031366</td>\n      <td>33</td>\n      <td>19858.0</td>\n      <td>1.0</td>\n      <td>0.0000</td>\n      <td>79.4180</td>\n      <td>0.333333</td>\n      <td>0.162897</td>\n      <td>2.676968</td>\n      <td>0.0</td>\n      <td>0.0</td>\n      <td>19.695486</td>\n      <td>湖北省</td>\n    </tr>\n    <tr>\n      <th>40605</th>\n      <td>2019</td>\n      <td>873339</td>\n      <td>6.577956</td>\n      <td>38</td>\n      <td>11728.0</td>\n      <td>1.0</td>\n      <td>6.9033</td>\n      <td>82.7123</td>\n      <td>0.285714</td>\n      <td>0.460082</td>\n      <td>0.791019</td>\n      <td>0.0</td>\n      <td>-3.0</td>\n      <td>19.818025</td>\n      <td>江苏省</td>\n    </tr>\n    <tr>\n      <th>40606</th>\n      <td>2020</td>\n      <td>873339</td>\n      <td>6.782623</td>\n      <td>38</td>\n      <td>11728.0</td>\n      <td>1.0</td>\n      <td>6.9033</td>\n      <td>82.7123</td>\n      <td>0.285714</td>\n      <td>0.302510</td>\n      <td>0.772126</td>\n      <td>0.0</td>\n      <td>-2.0</td>\n      <td>19.764373</td>\n      <td>江苏省</td>\n    </tr>\n    <tr>\n      <th>40607</th>\n      <td>2021</td>\n      <td>873339</td>\n      <td>10.470137</td>\n      <td>38</td>\n      <td>11728.0</td>\n      <td>1.0</td>\n      <td>6.9033</td>\n      <td>82.7123</td>\n      <td>0.285714</td>\n      <td>0.478184</td>\n      <td>0.708358</td>\n      <td>0.0</td>\n      <td>-1.0</td>\n      <td>20.113307</td>\n      <td>江苏省</td>\n    </tr>\n    <tr>\n      <th>40608</th>\n      <td>2022</td>\n      <td>873339</td>\n      <td>9.030286</td>\n      <td>38</td>\n      <td>11728.0</td>\n      <td>0.0</td>\n      <td>6.9033</td>\n      <td>82.7123</td>\n      <td>0.285714</td>\n      <td>0.213910</td>\n      <td>1.112144</td>\n      <td>0.0</td>\n      <td>0.0</td>\n      <td>20.398557</td>\n      <td>江苏省</td>\n    </tr>\n  </tbody>\n</table>\n<p>25668 rows × 15 columns</p>\n</div>"
     },
     "execution_count": 3,
     "metadata": {},
     "output_type": "execute_result"
    }
   ],
   "source": [
    "matrix = normalize(dataset[needs],['应收账款周转率B','存货周转率B'])\n",
    "# ,['应付账款周转率B', '固定资产周转率B', '总资产周转率B']\n",
    "dataset['营运能力'] = dataset[needs].dot(entropy(matrix))\n",
    "# 净资产收益率、资本积累率、资产负债率、总资产周转率\n",
    "needs =['总资产周转率B','净资产收益率（ROE）B','资本积累率B','资产负债率']\n",
    "matrix = normalize(dataset[needs],['资产负债率'])  # ,['总资产周转率B','净资产收益率（ROE）B','资本积累率B']\n",
    "dataset['盈利能力'] = dataset[needs].dot(entropy(matrix))\n",
    "dataset.drop(['应收账款周转率B', '应付账款周转率B', '存货周转率B', '固定资产周转率B', '总资产周转率B','总资产周转率B','资本积累率B','主营业务收入'],axis=1,inplace=True)\n",
    "\n",
    "# 盈利能力相关\n",
    "profitability_names = ['股票代码','截止日期','主业绩效','托宾Q值B','总资产净利润率(ROA)B','净资产收益率（ROE）B','投入资本回报率（ROIC）','盈利能力']\n",
    "profitability = dataset[profitability_names]\n",
    "\n",
    "digital_names=['股票代码','截止日期','wufei', 'zhaochenyv', 'yuanchun', '无形资产数字化', 'csmar', 'lishouxi']\n",
    "digital = dataset[digital_names]\n",
    "\n",
    "# 可能的中介变量创新能力\n",
    "middle_names=[\n",
    "    '截止日期', '股票代码', '成本费用利润率','销售期间费用率',\n",
    "    '内部控制指数','供应链集成','组织韧性',\n",
    "    '当年独立申请的发明数量', '当年联合申请的发明数量', '当年独立获得的发明数量', '当年联合获得的发明数量', '当年独立申请专利总和', '当年联合申请专利总和', '当年独立获得专利总和', '当年联合获得专利总和', '独立申请实用新型&外观设计', '联合申请实用新型&外观设计', '独立获得实用新型&外观设计', '联合获得实用新型&外观设计',\n",
    "    '研发费用率','研发人员数量占比(%)','研发营收比(%)'\n",
    "]\n",
    "middle = dataset[middle_names]\n",
    "# 控制变量与因变量\n",
    "business_names = ['截止日期', '股票代码', '营运能力','行业代码', '董事会规模', '两职合一', '两权分离度(%)', '股权集中度4(%)', '独董比例', '资产负债率', '资本密集度', '股权性质', '上市期限', '企业规模', '上市省份']\n",
    "business = dataset[business_names]\n",
    "\n",
    "# 托宾Q值B\n",
    "# 两权分离度(%)/研发人员数量占比(%)/研发营收比(%)/组织韧性/供应链集成/研发费用率\n",
    "# 主营业务收入/内部控制指数/主业绩效\n",
    "business"
   ],
   "metadata": {
    "collapsed": false,
    "ExecuteTime": {
     "end_time": "2024-04-03T13:45:55.161651Z",
     "start_time": "2024-04-03T13:45:44.138904Z"
    }
   },
   "id": "e5b91b1c5d480779",
   "execution_count": 3
  },
  {
   "cell_type": "code",
   "outputs": [],
   "source": [
    "# 首先我们假设，数字化 能够通过 企业创新 影响 企业运营绩效\n",
    "from scipy.stats.mstats import winsorize\n",
    "\n",
    "data = dataset[[\n",
    "    '截止日期', '股票代码','营运能力','行业代码', '董事会规模', '两职合一',  '股权集中度4(%)', '独董比例', '资产负债率', '资本密集度', '股权性质', '上市期限', '企业规模', '上市省份',\n",
    "    '成本费用利润率','销售期间费用率',\n",
    "    '当年独立申请的发明数量', '当年联合申请的发明数量', '当年独立获得的发明数量', '当年联合获得的发明数量', '当年独立申请专利总和', '当年联合申请专利总和', '当年独立获得专利总和', '当年联合获得专利总和', '独立申请实用新型&外观设计', '联合申请实用新型&外观设计', '独立获得实用新型&外观设计', '联合获得实用新型&外观设计',\n",
    "    'wufei', 'zhaochenyv', 'yuanchun', '无形资产数字化', 'csmar', 'lishouxi'\n",
    "]]\n",
    "# '两权分离度(%)','研发费用率','研发人员数量占比(%)','研发营收比(%)'\n",
    "# 存在缺失值的数据：两权分离度/研发费用率/研发人员数量占比/研发营收比\n",
    "\n",
    "keywords=['营运能力', '董事会规模', '股权集中度4(%)', '独董比例', '资产负债率', '资本密集度', '企业规模', '成本费用利润率', '销售期间费用率', '当年独立申请的发明数量', '当年联合申请的发明数量', '当年独立获得的发明数量', '当年联合获得的发明数量', '当年独立申请专利总和', '当年联合申请专利总和', '当年独立获得专利总和', '当年联合获得专利总和', '独立申请实用新型&外观设计', '联合申请实用新型&外观设计', '独立获得实用新型&外观设计', '联合获得实用新型&外观设计']\n",
    "# 是否缩尾处理\n",
    "for keyword in keywords:\n",
    "    # 此处判断是否空值，是的话为空，否的话进行屏蔽空值和无效值的1%和99%缩尾处理\n",
    "    data[keyword] = np.where(data[keyword].isnull(),np.nan, winsorize(np.ma.masked_invalid(data[keyword]),limits=(0.01,0.01)))\n",
    "data.to_csv('./data/dataset.csv',index=False,encoding='utf-8')"
   ],
   "metadata": {
    "collapsed": false,
    "ExecuteTime": {
     "end_time": "2024-04-03T13:47:19.417750Z",
     "start_time": "2024-04-03T13:47:18.328278Z"
    }
   },
   "id": "fe61eb78a8162a9d",
   "execution_count": 4
  },
  {
   "cell_type": "code",
   "outputs": [],
   "source": [],
   "metadata": {
    "collapsed": false
   },
   "id": "adacabe9b809bd7f"
  }
 ],
 "metadata": {
  "kernelspec": {
   "display_name": "Python 3",
   "language": "python",
   "name": "python3"
  },
  "language_info": {
   "codemirror_mode": {
    "name": "ipython",
    "version": 2
   },
   "file_extension": ".py",
   "mimetype": "text/x-python",
   "name": "python",
   "nbconvert_exporter": "python",
   "pygments_lexer": "ipython2",
   "version": "2.7.6"
  }
 },
 "nbformat": 4,
 "nbformat_minor": 5
}
