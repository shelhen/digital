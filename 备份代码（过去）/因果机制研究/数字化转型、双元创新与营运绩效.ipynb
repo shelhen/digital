{
 "cells": [
  {
   "cell_type": "markdown",
   "source": [
    "数字化转型 对 营运绩效 的影响\n",
    "数字化转型、双元创新与营运绩效\n"
   ],
   "metadata": {
    "collapsed": false
   },
   "id": "c858b368b7ef1a49"
  },
  {
   "cell_type": "code",
   "outputs": [],
   "source": [
    "# 中介变量：行业类别/企业规模/股权性质/企业年限/股权集中度\n",
    "\n",
    "# ['总资产周转率', '固定资产周转率', '非流动资产周转率', '流动资产周转率', '应付账款周转率', '应收账款周转率', '营运资金(资本)周转率', '股东权益周转率', '现金及现金等价物周转率', '存货周转率']\n",
    "\n",
    "# 企业营运能力\n",
    "# 固定资产周转率/应收账款周转率/非流动资产周转/应付账款周转率/总资产周转率/存货周转率\n",
    "\n",
    "# 研发投入，创新产出\n",
    "# 适配能力(Fit) = 创新投入(11)/创新产出(I0)\n",
    "\n",
    "\n",
    "# 吴非称之为 适配能力\n",
    "# 1.企业创新效率(EFF)\n",
    "# 效率评价的常用方法有两种:随机前沿分析法(SFA)和数据包络分析法(DEA)。通常而言,数据包络分析法(DEA)会因离散程度较大而导致效率值被低估。鉴于此,本文采用研发费用的自然对数作为衡量创新投人的指标,采用专利授权数的自然对数作为衡量创新产出的指标\n",
    "# 利用随机前沿分析法(SFA)估算创新效率。此外,为了增强结论的稳健性,将利用数据包络分析法(DEA)估算的创新效率作为稳健性检验。————数字化转型对制造业企业创新效率的门槛效应研究"
   ],
   "metadata": {
    "collapsed": false,
    "ExecuteTime": {
     "end_time": "2024-03-26T12:07:55.645047Z",
     "start_time": "2024-03-26T12:07:55.640075Z"
    }
   },
   "id": "7eb9ba57107cac91",
   "execution_count": 50
  },
  {
   "cell_type": "code",
   "outputs": [],
   "source": [
    "inditor_dict = {\n",
    "    '盈利能力': ['资产报酬率', '流动资产净利润率', '固定资产净利润率', '总资产净利润率', '净资产收益率', '投资收益率',\n",
    "                 '投入资本回报率', '营业净利率', '成本费用利润率', '营业利润率', '销售期间费用率', '托宾Q值',\n",
    "                 '总营业成本率'],\n",
    "    '营运能力': ['总资产周转率', '固定资产周转率', '非流动资产周转率', '流动资产周转率', '应付账款周转率',\n",
    "                 '应收账款周转率', '营运资金(资本)周转率', '股东权益周转率', '现金及现金等价物周转率', '存货周转率'],\n",
    "    '债偿能力': ['流动比率', '现金比率', '速动比率', '资产负债率', '产权比率', '权益乘数', '负债与权益市价比率',\n",
    "                 '现金资产比率', '经营活动产生的现金流量净额/负债合计'],\n",
    "    '发展能力': ['净利润增长率', '利润总额增长率', '净资产收益率增长率', '固定资产增长率', '总资产增长率', '资本积累率',\n",
    "                 '资本保值增值率', '销售费用增长率', '管理费用增长率', '营业总收入增长率', '营业总成本增长率',\n",
    "                 '基本每股收益增长率', '营业利润增长率', '经营活动产生的净流量增长率', '投资活动产生的现金流量增长率',\n",
    "                 '营业费用增长率'],\n",
    "    '现金能力':['净利润现金净含量', '营业利润现金净含量', '营业收入现金净含量', '全部现金回收率', '营运指数', '资本支出与折旧摊销比'],\n",
    "    '风险能力': ['财务杠杆', '经营杠杆'],\n",
    "    '社会贡献力': ['员工收入增长率', '提供岗位增长率'],\n",
    "    '创新能力': ['研发人员数量占比', '创新产出', '研发投入'],\n",
    "    '其他': ['股权集中度', '供应链集中', '董事会规模', '两权分离度'],\n",
    "}"
   ],
   "metadata": {
    "collapsed": false
   },
   "id": "ddeca20475f6e10",
   "execution_count": null
  },
  {
   "cell_type": "code",
   "outputs": [
    {
     "data": {
      "text/plain": "             股票代码     资产负债率      盈利绩效      托宾Q值      营运绩效      技术创新  股权性质  \\\n行业代码 截止日期                                                                   \n37   2015  000008  0.837709  0.774854  0.492356  0.028443  0.649479   0.0   \n     2016  000008  0.767586  0.490377  0.373824  0.021760  0.651378   1.0   \n     2017  000008  0.668323  0.378681  0.329522  0.027311  0.704525   1.0   \n     2018  000008  0.710860  0.318309  0.158982  0.024318  0.724637   1.0   \n     2019  000008  0.613962  0.323329  0.120871  0.024599  0.690475   1.0   \n...           ...       ...       ...       ...       ...       ...   ...   \n27   2022  688366  0.894736  0.235332  0.131359  0.017672  0.695776   0.0   \n     2019  688399  0.929230  0.558402  0.083217  0.032282  0.823555   0.0   \n     2020  688399  0.739636  0.533975  0.348335  0.106980  0.501386   0.0   \n     2021  688399  0.732285  0.409737  0.142780  0.068521  0.477285   0.0   \n     2022  688399  0.791119  0.406564  0.054243  0.087149  0.449742   0.0   \n\n           企业年限       企业规模     股权集中度   digital  digitalc  digitalt  \n行业代码 截止日期                                                           \n37   2015  23.0  22.001238  0.543948  0.077841  0.032254  0.012588  \n     2016  24.0  22.826504  0.259287  0.109414  0.024791  0.019890  \n     2017  25.0  23.091481  0.302993  0.174253  0.024418  0.035458  \n     2018  26.0  23.071433  0.447653  0.286120  0.102571  0.036286  \n     2019  27.0  23.211878  0.369529  0.326798  0.207630  0.032465  \n...         ...        ...       ...       ...       ...       ...  \n27   2022   3.0  22.653685  0.855962  0.015464  0.000000  0.005171  \n     2019   0.0  20.866814  0.548727  0.042642  0.000000  0.012786  \n     2020   1.0  21.546420  0.515946  0.033081  0.000000  0.010679  \n     2021   2.0  21.975841  0.391151  0.062926  0.000000  0.014443  \n     2022   3.0  22.310663  0.366476  0.075337  0.000000  0.015832  \n\n[10644 rows x 13 columns]",
      "text/html": "<div>\n<style scoped>\n    .dataframe tbody tr th:only-of-type {\n        vertical-align: middle;\n    }\n\n    .dataframe tbody tr th {\n        vertical-align: top;\n    }\n\n    .dataframe thead th {\n        text-align: right;\n    }\n</style>\n<table border=\"1\" class=\"dataframe\">\n  <thead>\n    <tr style=\"text-align: right;\">\n      <th></th>\n      <th></th>\n      <th>股票代码</th>\n      <th>资产负债率</th>\n      <th>盈利绩效</th>\n      <th>托宾Q值</th>\n      <th>营运绩效</th>\n      <th>技术创新</th>\n      <th>股权性质</th>\n      <th>企业年限</th>\n      <th>企业规模</th>\n      <th>股权集中度</th>\n      <th>digital</th>\n      <th>digitalc</th>\n      <th>digitalt</th>\n    </tr>\n    <tr>\n      <th>行业代码</th>\n      <th>截止日期</th>\n      <th></th>\n      <th></th>\n      <th></th>\n      <th></th>\n      <th></th>\n      <th></th>\n      <th></th>\n      <th></th>\n      <th></th>\n      <th></th>\n      <th></th>\n      <th></th>\n      <th></th>\n    </tr>\n  </thead>\n  <tbody>\n    <tr>\n      <th rowspan=\"5\" valign=\"top\">37</th>\n      <th>2015</th>\n      <td>000008</td>\n      <td>0.837709</td>\n      <td>0.774854</td>\n      <td>0.492356</td>\n      <td>0.028443</td>\n      <td>0.649479</td>\n      <td>0.0</td>\n      <td>23.0</td>\n      <td>22.001238</td>\n      <td>0.543948</td>\n      <td>0.077841</td>\n      <td>0.032254</td>\n      <td>0.012588</td>\n    </tr>\n    <tr>\n      <th>2016</th>\n      <td>000008</td>\n      <td>0.767586</td>\n      <td>0.490377</td>\n      <td>0.373824</td>\n      <td>0.021760</td>\n      <td>0.651378</td>\n      <td>1.0</td>\n      <td>24.0</td>\n      <td>22.826504</td>\n      <td>0.259287</td>\n      <td>0.109414</td>\n      <td>0.024791</td>\n      <td>0.019890</td>\n    </tr>\n    <tr>\n      <th>2017</th>\n      <td>000008</td>\n      <td>0.668323</td>\n      <td>0.378681</td>\n      <td>0.329522</td>\n      <td>0.027311</td>\n      <td>0.704525</td>\n      <td>1.0</td>\n      <td>25.0</td>\n      <td>23.091481</td>\n      <td>0.302993</td>\n      <td>0.174253</td>\n      <td>0.024418</td>\n      <td>0.035458</td>\n    </tr>\n    <tr>\n      <th>2018</th>\n      <td>000008</td>\n      <td>0.710860</td>\n      <td>0.318309</td>\n      <td>0.158982</td>\n      <td>0.024318</td>\n      <td>0.724637</td>\n      <td>1.0</td>\n      <td>26.0</td>\n      <td>23.071433</td>\n      <td>0.447653</td>\n      <td>0.286120</td>\n      <td>0.102571</td>\n      <td>0.036286</td>\n    </tr>\n    <tr>\n      <th>2019</th>\n      <td>000008</td>\n      <td>0.613962</td>\n      <td>0.323329</td>\n      <td>0.120871</td>\n      <td>0.024599</td>\n      <td>0.690475</td>\n      <td>1.0</td>\n      <td>27.0</td>\n      <td>23.211878</td>\n      <td>0.369529</td>\n      <td>0.326798</td>\n      <td>0.207630</td>\n      <td>0.032465</td>\n    </tr>\n    <tr>\n      <th>...</th>\n      <th>...</th>\n      <td>...</td>\n      <td>...</td>\n      <td>...</td>\n      <td>...</td>\n      <td>...</td>\n      <td>...</td>\n      <td>...</td>\n      <td>...</td>\n      <td>...</td>\n      <td>...</td>\n      <td>...</td>\n      <td>...</td>\n      <td>...</td>\n    </tr>\n    <tr>\n      <th rowspan=\"5\" valign=\"top\">27</th>\n      <th>2022</th>\n      <td>688366</td>\n      <td>0.894736</td>\n      <td>0.235332</td>\n      <td>0.131359</td>\n      <td>0.017672</td>\n      <td>0.695776</td>\n      <td>0.0</td>\n      <td>3.0</td>\n      <td>22.653685</td>\n      <td>0.855962</td>\n      <td>0.015464</td>\n      <td>0.000000</td>\n      <td>0.005171</td>\n    </tr>\n    <tr>\n      <th>2019</th>\n      <td>688399</td>\n      <td>0.929230</td>\n      <td>0.558402</td>\n      <td>0.083217</td>\n      <td>0.032282</td>\n      <td>0.823555</td>\n      <td>0.0</td>\n      <td>0.0</td>\n      <td>20.866814</td>\n      <td>0.548727</td>\n      <td>0.042642</td>\n      <td>0.000000</td>\n      <td>0.012786</td>\n    </tr>\n    <tr>\n      <th>2020</th>\n      <td>688399</td>\n      <td>0.739636</td>\n      <td>0.533975</td>\n      <td>0.348335</td>\n      <td>0.106980</td>\n      <td>0.501386</td>\n      <td>0.0</td>\n      <td>1.0</td>\n      <td>21.546420</td>\n      <td>0.515946</td>\n      <td>0.033081</td>\n      <td>0.000000</td>\n      <td>0.010679</td>\n    </tr>\n    <tr>\n      <th>2021</th>\n      <td>688399</td>\n      <td>0.732285</td>\n      <td>0.409737</td>\n      <td>0.142780</td>\n      <td>0.068521</td>\n      <td>0.477285</td>\n      <td>0.0</td>\n      <td>2.0</td>\n      <td>21.975841</td>\n      <td>0.391151</td>\n      <td>0.062926</td>\n      <td>0.000000</td>\n      <td>0.014443</td>\n    </tr>\n    <tr>\n      <th>2022</th>\n      <td>688399</td>\n      <td>0.791119</td>\n      <td>0.406564</td>\n      <td>0.054243</td>\n      <td>0.087149</td>\n      <td>0.449742</td>\n      <td>0.0</td>\n      <td>3.0</td>\n      <td>22.310663</td>\n      <td>0.366476</td>\n      <td>0.075337</td>\n      <td>0.000000</td>\n      <td>0.015832</td>\n    </tr>\n  </tbody>\n</table>\n<p>10644 rows × 13 columns</p>\n</div>"
     },
     "execution_count": 1,
     "metadata": {},
     "output_type": "execute_result"
    }
   ],
   "source": [
    "import pandas as pd\n",
    "import numpy as np\n",
    "import warnings\n",
    "warnings.filterwarnings('ignore')\n",
    "\n",
    "path = r'C:\\onedrivers\\OneDrive - jsnu.edu.cn\\projects\\digital\\04.企业绩效评价研究\\datas\\数字化差异性分析数据.csv'\n",
    "dataset = pd.read_csv(path, dtype={'股票代码':'object'})\n",
    "dataset_ = pd.read_csv(r'C:\\datas\\企业信息数据\\上市企业补充信息数据.csv', dtype={'股票代码':'object'})\n",
    "dataset_.drop(['上市省份','上市城市'],axis=1,inplace=True)\n",
    "dataset = pd.merge(dataset,dataset_, how='left',on=['股票代码', '截止日期'])\n",
    "dataset['上市状态'] = dataset['上市状态'].fillna('ST')\n",
    "dataset = dataset[~dataset['上市状态'].str.contains('ST')]\n",
    "def entropy(matrix):\n",
    "    \"\"\"熵权法求取权重\"\"\"\n",
    "    names = matrix.columns\n",
    "    project, indicator = matrix.shape\n",
    "    for name in names:\n",
    "        max_ = matrix[name].max()\n",
    "        min_ = matrix[name].min()\n",
    "        matrix[name] = (matrix[name] - min_) / (max_ - min_)\n",
    "    # 计算熵权权重\n",
    "    p = pd.DataFrame(np.zeros([project, indicator], dtype='float64'), columns=names)\n",
    "    for i in range(indicator):\n",
    "        p.iloc[:, i] = matrix.iloc[:, i] / matrix.iloc[:, i].sum()\n",
    "    E = -1 / np.log(project) * (p * np.log(p)).sum()\n",
    "    return (1 - E) / sum((1 - E))\n",
    "# names = ['股票代码', '截止日期', '研发投入', '创新产出', '企业规模', '股权集中度', '企业年限', '行业类别', '股权性质', '行业代码', '数字化转型程度(李寿喜)']\n",
    "digital = ['数字化转型程度(赵宸宇)', '数字化转型程度(文本)', '数字化转型程度(量化)']\n",
    "min_ = 1.098612\n",
    "dataset['创新产出'] = dataset['创新产出'].apply(lambda x: min_ if x==0 else x)\n",
    "dataset['技术创新A'] = (dataset['研发投入']+dataset['创新产出'])/2\n",
    "dataset['创新效率A'] = dataset['研发投入']/dataset['创新产出']\n",
    "\n",
    "operational = ['固定资产周转率', '应收账款周转率', '非流动资产周转率', '应付账款周转率', '总资产周转率', '存货周转率']\n",
    "performence = ['托宾Q值', '净利润增长率', '经营活动产生的净流量增长率', '资本积累率', '利润总额增长率', '固定资产净利润率', '总资产净利润率', '投入资本回报率']\n",
    "matrix = dataset[operational]\n",
    "dataset['营运绩效'] = matrix.dot(entropy(matrix))\n",
    "matrix = dataset[performence[1:]]\n",
    "dataset['盈利绩效'] = matrix.dot(entropy(matrix))\n",
    "matrix = dataset[digital]\n",
    "dataset['digital'] =  matrix.dot(entropy(matrix))\n",
    "dataset['截止日期'] = dataset['截止日期'].astype(int)\n",
    "needs = ['股票代码','截止日期','行业代码','资产负债率','盈利绩效','托宾Q值','营运绩效','技术创新','股权性质','企业年限','企业规模','股权集中度','digital','数字化转型程度(量化)','数字化转型程度(文本)'] # ,'数字化转型程度(赵宸宇)'\n",
    "\n",
    "data = dataset[needs] # 股票代码\n",
    "data = data[(data['行业代码']!=39)&(data['截止日期']>2013)].set_index(['行业代码','截止日期'])\n",
    "\n",
    "data.rename(columns={'数字化转型程度(文本)':'digitalt','数字化转型程度(量化)':'digitalc'}, inplace=True)\n",
    "data"
   ],
   "metadata": {
    "collapsed": false,
    "ExecuteTime": {
     "end_time": "2024-03-28T12:12:19.557590Z",
     "start_time": "2024-03-28T12:12:19.027090Z"
    }
   },
   "id": "fa700e36ac5c56b7",
   "execution_count": 1
  },
  {
   "cell_type": "code",
   "outputs": [
    {
     "data": {
      "text/plain": "                          PanelOLS Estimation Summary                           \n================================================================================\nDep. Variable:                   营运绩效   R-squared:                        0.0196\nEstimator:                   PanelOLS   R-squared (Between):              0.6175\nNo. Observations:               10644   R-squared (Within):               0.0199\nDate:                Thu, Mar 28 2024   R-squared (Overall):              0.3215\nTime:                        14:50:28   Log-likelihood                  1.41e+04\nCov. Estimator:            Unadjusted                                           \n                                        F-statistic:                      42.286\nEntities:                          28   P-value                           0.0000\nAvg Obs:                       380.14   Distribution:                 F(5,10603)\nMin Obs:                       24.000                                           \nMax Obs:                       1327.0   F-statistic (robust):             42.286\n                                        P-value                           0.0000\nTime periods:                       9   Distribution:                 F(5,10603)\nAvg Obs:                       1182.7                                           \nMin Obs:                       967.00                                           \nMax Obs:                       1289.0                                           \n                                                                                \n                             Parameter Estimates                              \n==============================================================================\n            Parameter  Std. Err.     T-stat    P-value    Lower CI    Upper CI\n------------------------------------------------------------------------------\ndigital        0.0140     0.0078     1.7910     0.0733     -0.0013      0.0294\n股权性质           0.0074     0.0017     4.3148     0.0000      0.0041      0.0108\n股权集中度          0.0338     0.0033     10.239     0.0000      0.0273      0.0403\n企业规模           0.0002     0.0006     0.2444     0.8069     -0.0011      0.0014\n企业年限           0.0008     0.0001     6.6750     0.0000      0.0006      0.0010\n==============================================================================\n\nF-test for Poolability: 60.654\nP-value: 0.0000\nDistribution: F(35,10603)\n\nIncluded effects: Entity, Time\nPanelEffectsResults, id: 0x2c3bd9c2630",
      "text/html": "<table class=\"simpletable\">\n<caption>PanelOLS Estimation Summary</caption>\n<tr>\n  <th>Dep. Variable:</th>          <td>营运绩效</td>       <th>  R-squared:         </th>     <td>0.0196</td>  \n</tr>\n<tr>\n  <th>Estimator:</th>            <td>PanelOLS</td>     <th>  R-squared (Between):</th>    <td>0.6175</td>  \n</tr>\n<tr>\n  <th>No. Observations:</th>       <td>10644</td>      <th>  R-squared (Within):</th>     <td>0.0199</td>  \n</tr>\n<tr>\n  <th>Date:</th>             <td>Thu, Mar 28 2024</td> <th>  R-squared (Overall):</th>    <td>0.3215</td>  \n</tr>\n<tr>\n  <th>Time:</th>                 <td>14:50:28</td>     <th>  Log-likelihood     </th>    <td>1.41e+04</td> \n</tr>\n<tr>\n  <th>Cov. Estimator:</th>      <td>Unadjusted</td>    <th>                     </th>        <td></td>     \n</tr>\n<tr>\n  <th></th>                          <td></td>         <th>  F-statistic:       </th>     <td>42.286</td>  \n</tr>\n<tr>\n  <th>Entities:</th>                <td>28</td>        <th>  P-value            </th>     <td>0.0000</td>  \n</tr>\n<tr>\n  <th>Avg Obs:</th>               <td>380.14</td>      <th>  Distribution:      </th>   <td>F(5,10603)</td>\n</tr>\n<tr>\n  <th>Min Obs:</th>               <td>24.000</td>      <th>                     </th>        <td></td>     \n</tr>\n<tr>\n  <th>Max Obs:</th>               <td>1327.0</td>      <th>  F-statistic (robust):</th>   <td>42.286</td>  \n</tr>\n<tr>\n  <th></th>                          <td></td>         <th>  P-value            </th>     <td>0.0000</td>  \n</tr>\n<tr>\n  <th>Time periods:</th>             <td>9</td>        <th>  Distribution:      </th>   <td>F(5,10603)</td>\n</tr>\n<tr>\n  <th>Avg Obs:</th>               <td>1182.7</td>      <th>                     </th>        <td></td>     \n</tr>\n<tr>\n  <th>Min Obs:</th>               <td>967.00</td>      <th>                     </th>        <td></td>     \n</tr>\n<tr>\n  <th>Max Obs:</th>               <td>1289.0</td>      <th>                     </th>        <td></td>     \n</tr>\n<tr>\n  <th></th>                          <td></td>         <th>                     </th>        <td></td>     \n</tr>\n</table>\n<table class=\"simpletable\">\n<caption>Parameter Estimates</caption>\n<tr>\n     <td></td>     <th>Parameter</th> <th>Std. Err.</th> <th>T-stat</th> <th>P-value</th> <th>Lower CI</th> <th>Upper CI</th>\n</tr>\n<tr>\n  <th>digital</th>  <td>0.0140</td>    <td>0.0078</td>   <td>1.7910</td> <td>0.0733</td>   <td>-0.0013</td>  <td>0.0294</td> \n</tr>\n<tr>\n  <th>股权性质</th>     <td>0.0074</td>    <td>0.0017</td>   <td>4.3148</td> <td>0.0000</td>   <td>0.0041</td>   <td>0.0108</td> \n</tr>\n<tr>\n  <th>股权集中度</th>    <td>0.0338</td>    <td>0.0033</td>   <td>10.239</td> <td>0.0000</td>   <td>0.0273</td>   <td>0.0403</td> \n</tr>\n<tr>\n  <th>企业规模</th>     <td>0.0002</td>    <td>0.0006</td>   <td>0.2444</td> <td>0.8069</td>   <td>-0.0011</td>  <td>0.0014</td> \n</tr>\n<tr>\n  <th>企业年限</th>     <td>0.0008</td>    <td>0.0001</td>   <td>6.6750</td> <td>0.0000</td>   <td>0.0006</td>   <td>0.0010</td> \n</tr>\n</table><br/><br/>F-test for Poolability: 60.654<br/>P-value: 0.0000<br/>Distribution: F(35,10603)<br/><br/>Included effects: Entity, Time<br/>id: 0x2c3bd9c2630"
     },
     "execution_count": 4,
     "metadata": {},
     "output_type": "execute_result"
    }
   ],
   "source": [
    "from linearmodels.panel import PanelOLS\n",
    "import statsmodels.api as sm\n",
    "\n",
    "# 建立模型\n",
    "data_ = data.copy()\n",
    "control = ['资产负债率', '股权性质', '企业年限', '企业规模', '股权集中度']\n",
    "\n",
    "# data = data.set_index([\"firm\",\"year\"])\n",
    "# 数字化转型——>技术创新——>营运能力\n",
    "\n",
    "# needs = ['股票代码','截止日期','行业代码',\n",
    "# '资产负债率','股权性质','企业年限','企业规模','股权集中度',\n",
    "# '盈利能力', '托宾Q值','营运能力'\n",
    "# '适配能力',\n",
    "# 'digital','数字化转型程度(量化)','数字化转型程度(文本)']\n",
    "# + 股权集中度\n",
    "\n",
    "model = PanelOLS.from_formula(\"营运绩效 ~ digital + 股权性质 + 股权集中度+ 企业规模  + 企业年限 + EntityEffects + TimeEffects\", data=data_)\n",
    "model.fit()"
   ],
   "metadata": {
    "collapsed": false,
    "ExecuteTime": {
     "end_time": "2024-03-28T06:50:28.176910Z",
     "start_time": "2024-03-28T06:50:28.092750Z"
    }
   },
   "id": "a7fde5f005ad808c",
   "execution_count": 4
  },
  {
   "cell_type": "code",
   "outputs": [
    {
     "data": {
      "text/plain": "                          PanelOLS Estimation Summary                           \n================================================================================\nDep. Variable:                   技术创新   R-squared:                        0.0647\nEstimator:                   PanelOLS   R-squared (Between):             -3.3086\nNo. Observations:               10644   R-squared (Within):               0.0557\nDate:                Thu, Mar 28 2024   R-squared (Overall):             -2.6556\nTime:                        14:50:58   Log-likelihood                    5148.9\nCov. Estimator:            Unadjusted                                           \n                                        F-statistic:                      146.78\nEntities:                          28   P-value                           0.0000\nAvg Obs:                       380.14   Distribution:                 F(5,10603)\nMin Obs:                       24.000                                           \nMax Obs:                       1327.0   F-statistic (robust):             146.78\n                                        P-value                           0.0000\nTime periods:                       9   Distribution:                 F(5,10603)\nAvg Obs:                       1182.7                                           \nMin Obs:                       967.00                                           \nMax Obs:                       1289.0                                           \n                                                                                \n                             Parameter Estimates                              \n==============================================================================\n            Parameter  Std. Err.     T-stat    P-value    Lower CI    Upper CI\n------------------------------------------------------------------------------\ndigital        0.1313     0.0182     7.2268     0.0000      0.0957      0.1669\n股权性质          -0.0019     0.0040    -0.4706     0.6379     -0.0097      0.0059\n股权集中度         -0.0299     0.0077    -3.9023     0.0001     -0.0449     -0.0149\n企业规模          -0.0189     0.0015    -12.703     0.0000     -0.0219     -0.0160\n企业年限          -0.0036     0.0003    -12.647     0.0000     -0.0041     -0.0030\n==============================================================================\n\nF-test for Poolability: 104.26\nP-value: 0.0000\nDistribution: F(35,10603)\n\nIncluded effects: Entity, Time\nPanelEffectsResults, id: 0x2c3bd9c22a0",
      "text/html": "<table class=\"simpletable\">\n<caption>PanelOLS Estimation Summary</caption>\n<tr>\n  <th>Dep. Variable:</th>          <td>技术创新</td>       <th>  R-squared:         </th>     <td>0.0647</td>  \n</tr>\n<tr>\n  <th>Estimator:</th>            <td>PanelOLS</td>     <th>  R-squared (Between):</th>    <td>-3.3086</td> \n</tr>\n<tr>\n  <th>No. Observations:</th>       <td>10644</td>      <th>  R-squared (Within):</th>     <td>0.0557</td>  \n</tr>\n<tr>\n  <th>Date:</th>             <td>Thu, Mar 28 2024</td> <th>  R-squared (Overall):</th>    <td>-2.6556</td> \n</tr>\n<tr>\n  <th>Time:</th>                 <td>14:50:58</td>     <th>  Log-likelihood     </th>     <td>5148.9</td>  \n</tr>\n<tr>\n  <th>Cov. Estimator:</th>      <td>Unadjusted</td>    <th>                     </th>        <td></td>     \n</tr>\n<tr>\n  <th></th>                          <td></td>         <th>  F-statistic:       </th>     <td>146.78</td>  \n</tr>\n<tr>\n  <th>Entities:</th>                <td>28</td>        <th>  P-value            </th>     <td>0.0000</td>  \n</tr>\n<tr>\n  <th>Avg Obs:</th>               <td>380.14</td>      <th>  Distribution:      </th>   <td>F(5,10603)</td>\n</tr>\n<tr>\n  <th>Min Obs:</th>               <td>24.000</td>      <th>                     </th>        <td></td>     \n</tr>\n<tr>\n  <th>Max Obs:</th>               <td>1327.0</td>      <th>  F-statistic (robust):</th>   <td>146.78</td>  \n</tr>\n<tr>\n  <th></th>                          <td></td>         <th>  P-value            </th>     <td>0.0000</td>  \n</tr>\n<tr>\n  <th>Time periods:</th>             <td>9</td>        <th>  Distribution:      </th>   <td>F(5,10603)</td>\n</tr>\n<tr>\n  <th>Avg Obs:</th>               <td>1182.7</td>      <th>                     </th>        <td></td>     \n</tr>\n<tr>\n  <th>Min Obs:</th>               <td>967.00</td>      <th>                     </th>        <td></td>     \n</tr>\n<tr>\n  <th>Max Obs:</th>               <td>1289.0</td>      <th>                     </th>        <td></td>     \n</tr>\n<tr>\n  <th></th>                          <td></td>         <th>                     </th>        <td></td>     \n</tr>\n</table>\n<table class=\"simpletable\">\n<caption>Parameter Estimates</caption>\n<tr>\n     <td></td>     <th>Parameter</th> <th>Std. Err.</th> <th>T-stat</th>  <th>P-value</th> <th>Lower CI</th> <th>Upper CI</th>\n</tr>\n<tr>\n  <th>digital</th>  <td>0.1313</td>    <td>0.0182</td>   <td>7.2268</td>  <td>0.0000</td>   <td>0.0957</td>   <td>0.1669</td> \n</tr>\n<tr>\n  <th>股权性质</th>     <td>-0.0019</td>   <td>0.0040</td>   <td>-0.4706</td> <td>0.6379</td>   <td>-0.0097</td>  <td>0.0059</td> \n</tr>\n<tr>\n  <th>股权集中度</th>    <td>-0.0299</td>   <td>0.0077</td>   <td>-3.9023</td> <td>0.0001</td>   <td>-0.0449</td>  <td>-0.0149</td>\n</tr>\n<tr>\n  <th>企业规模</th>     <td>-0.0189</td>   <td>0.0015</td>   <td>-12.703</td> <td>0.0000</td>   <td>-0.0219</td>  <td>-0.0160</td>\n</tr>\n<tr>\n  <th>企业年限</th>     <td>-0.0036</td>   <td>0.0003</td>   <td>-12.647</td> <td>0.0000</td>   <td>-0.0041</td>  <td>-0.0030</td>\n</tr>\n</table><br/><br/>F-test for Poolability: 104.26<br/>P-value: 0.0000<br/>Distribution: F(35,10603)<br/><br/>Included effects: Entity, Time<br/>id: 0x2c3bd9c22a0"
     },
     "execution_count": 5,
     "metadata": {},
     "output_type": "execute_result"
    }
   ],
   "source": [
    "# \n",
    "model = PanelOLS.from_formula(\"技术创新 ~ digital + 股权性质 + 股权集中度+ 企业规模  + 企业年限 + EntityEffects + TimeEffects\", data=data_)\n",
    "model.fit()"
   ],
   "metadata": {
    "collapsed": false,
    "ExecuteTime": {
     "end_time": "2024-03-28T06:50:58.594943Z",
     "start_time": "2024-03-28T06:50:58.520861Z"
    }
   },
   "id": "6f648db14c3c2602",
   "execution_count": 5
  },
  {
   "cell_type": "code",
   "outputs": [
    {
     "data": {
      "text/plain": "                          PanelOLS Estimation Summary                           \n================================================================================\nDep. Variable:                   营运绩效   R-squared:                        0.0371\nEstimator:                   PanelOLS   R-squared (Between):             -0.3812\nNo. Observations:               10644   R-squared (Within):               0.0365\nDate:                Thu, Mar 28 2024   R-squared (Overall):             -0.2577\nTime:                        14:51:14   Log-likelihood                 1.419e+04\nCov. Estimator:            Unadjusted                                           \n                                        F-statistic:                      68.021\nEntities:                          28   P-value                           0.0000\nAvg Obs:                       380.14   Distribution:                 F(6,10602)\nMin Obs:                       24.000                                           \nMax Obs:                       1327.0   F-statistic (robust):             68.021\n                                        P-value                           0.0000\nTime periods:                       9   Distribution:                 F(6,10602)\nAvg Obs:                       1182.7                                           \nMin Obs:                       967.00                                           \nMax Obs:                       1289.0                                           \n                                                                                \n                             Parameter Estimates                              \n==============================================================================\n            Parameter  Std. Err.     T-stat    P-value    Lower CI    Upper CI\n------------------------------------------------------------------------------\ndigital        0.0216     0.0078     2.7750     0.0055      0.0063      0.0369\n技术创新          -0.0577     0.0042    -13.888     0.0000     -0.0658     -0.0495\n股权性质           0.0073     0.0017     4.2901     0.0000      0.0040      0.0107\n股权集中度          0.0321     0.0033     9.7979     0.0000      0.0257      0.0385\n企业规模          -0.0009     0.0006    -1.4556     0.1455     -0.0022      0.0003\n企业年限           0.0006     0.0001     4.9919     0.0000      0.0004      0.0008\n==============================================================================\n\nF-test for Poolability: 43.601\nP-value: 0.0000\nDistribution: F(35,10602)\n\nIncluded effects: Entity, Time\nPanelEffectsResults, id: 0x2c3bd9eab10",
      "text/html": "<table class=\"simpletable\">\n<caption>PanelOLS Estimation Summary</caption>\n<tr>\n  <th>Dep. Variable:</th>          <td>营运绩效</td>       <th>  R-squared:         </th>     <td>0.0371</td>  \n</tr>\n<tr>\n  <th>Estimator:</th>            <td>PanelOLS</td>     <th>  R-squared (Between):</th>    <td>-0.3812</td> \n</tr>\n<tr>\n  <th>No. Observations:</th>       <td>10644</td>      <th>  R-squared (Within):</th>     <td>0.0365</td>  \n</tr>\n<tr>\n  <th>Date:</th>             <td>Thu, Mar 28 2024</td> <th>  R-squared (Overall):</th>    <td>-0.2577</td> \n</tr>\n<tr>\n  <th>Time:</th>                 <td>14:51:14</td>     <th>  Log-likelihood     </th>    <td>1.419e+04</td>\n</tr>\n<tr>\n  <th>Cov. Estimator:</th>      <td>Unadjusted</td>    <th>                     </th>        <td></td>     \n</tr>\n<tr>\n  <th></th>                          <td></td>         <th>  F-statistic:       </th>     <td>68.021</td>  \n</tr>\n<tr>\n  <th>Entities:</th>                <td>28</td>        <th>  P-value            </th>     <td>0.0000</td>  \n</tr>\n<tr>\n  <th>Avg Obs:</th>               <td>380.14</td>      <th>  Distribution:      </th>   <td>F(6,10602)</td>\n</tr>\n<tr>\n  <th>Min Obs:</th>               <td>24.000</td>      <th>                     </th>        <td></td>     \n</tr>\n<tr>\n  <th>Max Obs:</th>               <td>1327.0</td>      <th>  F-statistic (robust):</th>   <td>68.021</td>  \n</tr>\n<tr>\n  <th></th>                          <td></td>         <th>  P-value            </th>     <td>0.0000</td>  \n</tr>\n<tr>\n  <th>Time periods:</th>             <td>9</td>        <th>  Distribution:      </th>   <td>F(6,10602)</td>\n</tr>\n<tr>\n  <th>Avg Obs:</th>               <td>1182.7</td>      <th>                     </th>        <td></td>     \n</tr>\n<tr>\n  <th>Min Obs:</th>               <td>967.00</td>      <th>                     </th>        <td></td>     \n</tr>\n<tr>\n  <th>Max Obs:</th>               <td>1289.0</td>      <th>                     </th>        <td></td>     \n</tr>\n<tr>\n  <th></th>                          <td></td>         <th>                     </th>        <td></td>     \n</tr>\n</table>\n<table class=\"simpletable\">\n<caption>Parameter Estimates</caption>\n<tr>\n     <td></td>     <th>Parameter</th> <th>Std. Err.</th> <th>T-stat</th>  <th>P-value</th> <th>Lower CI</th> <th>Upper CI</th>\n</tr>\n<tr>\n  <th>digital</th>  <td>0.0216</td>    <td>0.0078</td>   <td>2.7750</td>  <td>0.0055</td>   <td>0.0063</td>   <td>0.0369</td> \n</tr>\n<tr>\n  <th>技术创新</th>     <td>-0.0577</td>   <td>0.0042</td>   <td>-13.888</td> <td>0.0000</td>   <td>-0.0658</td>  <td>-0.0495</td>\n</tr>\n<tr>\n  <th>股权性质</th>     <td>0.0073</td>    <td>0.0017</td>   <td>4.2901</td>  <td>0.0000</td>   <td>0.0040</td>   <td>0.0107</td> \n</tr>\n<tr>\n  <th>股权集中度</th>    <td>0.0321</td>    <td>0.0033</td>   <td>9.7979</td>  <td>0.0000</td>   <td>0.0257</td>   <td>0.0385</td> \n</tr>\n<tr>\n  <th>企业规模</th>     <td>-0.0009</td>   <td>0.0006</td>   <td>-1.4556</td> <td>0.1455</td>   <td>-0.0022</td>  <td>0.0003</td> \n</tr>\n<tr>\n  <th>企业年限</th>     <td>0.0006</td>    <td>0.0001</td>   <td>4.9919</td>  <td>0.0000</td>   <td>0.0004</td>   <td>0.0008</td> \n</tr>\n</table><br/><br/>F-test for Poolability: 43.601<br/>P-value: 0.0000<br/>Distribution: F(35,10602)<br/><br/>Included effects: Entity, Time<br/>id: 0x2c3bd9eab10"
     },
     "execution_count": 6,
     "metadata": {},
     "output_type": "execute_result"
    }
   ],
   "source": [
    "# \n",
    "model = PanelOLS.from_formula(\"营运绩效 ~ digital + 技术创新 + 股权性质 + 股权集中度+ 企业规模  + 企业年限 + EntityEffects + TimeEffects\", data=data_)\n",
    "model.fit()"
   ],
   "metadata": {
    "collapsed": false,
    "ExecuteTime": {
     "end_time": "2024-03-28T06:51:14.080522Z",
     "start_time": "2024-03-28T06:51:14.012798Z"
    }
   },
   "id": "2298dd27d450313c",
   "execution_count": 6
  },
  {
   "cell_type": "code",
   "outputs": [
    {
     "data": {
      "text/plain": "                          PanelOLS Estimation Summary                           \n================================================================================\nDep. Variable:                   技术创新   R-squared:                        0.0257\nEstimator:                   PanelOLS   R-squared (Between):              0.7592\nNo. Observations:               18282   R-squared (Within):               0.0342\nDate:                Wed, Mar 27 2024   R-squared (Overall):              0.6896\nTime:                        15:07:03   Log-likelihood                    8582.8\nCov. Estimator:            Unadjusted                                           \n                                        F-statistic:                      96.301\nEntities:                          30   P-value                           0.0000\nAvg Obs:                       609.40   Distribution:                 F(5,18232)\nMin Obs:                       2.0000                                           \nMax Obs:                       2505.0   F-statistic (robust):             96.301\n                                        P-value                           0.0000\nTime periods:                      16   Distribution:                 F(5,18232)\nAvg Obs:                       1142.6                                           \nMin Obs:                       607.00                                           \nMax Obs:                       1508.0                                           \n                                                                                \n                             Parameter Estimates                              \n==============================================================================\n            Parameter  Std. Err.     T-stat    P-value    Lower CI    Upper CI\n------------------------------------------------------------------------------\ndigital        0.1428     0.0128     11.124     0.0000      0.1177      0.1680\n股权性质          -0.0116     0.0029    -3.9488     0.0001     -0.0174     -0.0058\n股权集中度          0.0041     0.0058     0.7016     0.4829     -0.0073      0.0154\n企业规模           0.0107     0.0012     9.2368     0.0000      0.0084      0.0129\n企业年限           0.0025     0.0002     10.719     0.0000      0.0020      0.0029\n==============================================================================\n\nF-test for Poolability: 47.049\nP-value: 0.0000\nDistribution: F(44,18232)\n\nIncluded effects: Entity, Time\nPanelEffectsResults, id: 0x2e33f4eb6e0",
      "text/html": "<table class=\"simpletable\">\n<caption>PanelOLS Estimation Summary</caption>\n<tr>\n  <th>Dep. Variable:</th>          <td>技术创新</td>       <th>  R-squared:         </th>     <td>0.0257</td>  \n</tr>\n<tr>\n  <th>Estimator:</th>            <td>PanelOLS</td>     <th>  R-squared (Between):</th>    <td>0.7592</td>  \n</tr>\n<tr>\n  <th>No. Observations:</th>       <td>18282</td>      <th>  R-squared (Within):</th>     <td>0.0342</td>  \n</tr>\n<tr>\n  <th>Date:</th>             <td>Wed, Mar 27 2024</td> <th>  R-squared (Overall):</th>    <td>0.6896</td>  \n</tr>\n<tr>\n  <th>Time:</th>                 <td>15:07:03</td>     <th>  Log-likelihood     </th>     <td>8582.8</td>  \n</tr>\n<tr>\n  <th>Cov. Estimator:</th>      <td>Unadjusted</td>    <th>                     </th>        <td></td>     \n</tr>\n<tr>\n  <th></th>                          <td></td>         <th>  F-statistic:       </th>     <td>96.301</td>  \n</tr>\n<tr>\n  <th>Entities:</th>                <td>30</td>        <th>  P-value            </th>     <td>0.0000</td>  \n</tr>\n<tr>\n  <th>Avg Obs:</th>               <td>609.40</td>      <th>  Distribution:      </th>   <td>F(5,18232)</td>\n</tr>\n<tr>\n  <th>Min Obs:</th>               <td>2.0000</td>      <th>                     </th>        <td></td>     \n</tr>\n<tr>\n  <th>Max Obs:</th>               <td>2505.0</td>      <th>  F-statistic (robust):</th>   <td>96.301</td>  \n</tr>\n<tr>\n  <th></th>                          <td></td>         <th>  P-value            </th>     <td>0.0000</td>  \n</tr>\n<tr>\n  <th>Time periods:</th>            <td>16</td>        <th>  Distribution:      </th>   <td>F(5,18232)</td>\n</tr>\n<tr>\n  <th>Avg Obs:</th>               <td>1142.6</td>      <th>                     </th>        <td></td>     \n</tr>\n<tr>\n  <th>Min Obs:</th>               <td>607.00</td>      <th>                     </th>        <td></td>     \n</tr>\n<tr>\n  <th>Max Obs:</th>               <td>1508.0</td>      <th>                     </th>        <td></td>     \n</tr>\n<tr>\n  <th></th>                          <td></td>         <th>                     </th>        <td></td>     \n</tr>\n</table>\n<table class=\"simpletable\">\n<caption>Parameter Estimates</caption>\n<tr>\n     <td></td>     <th>Parameter</th> <th>Std. Err.</th> <th>T-stat</th>  <th>P-value</th> <th>Lower CI</th> <th>Upper CI</th>\n</tr>\n<tr>\n  <th>digital</th>  <td>0.1428</td>    <td>0.0128</td>   <td>11.124</td>  <td>0.0000</td>   <td>0.1177</td>   <td>0.1680</td> \n</tr>\n<tr>\n  <th>股权性质</th>     <td>-0.0116</td>   <td>0.0029</td>   <td>-3.9488</td> <td>0.0001</td>   <td>-0.0174</td>  <td>-0.0058</td>\n</tr>\n<tr>\n  <th>股权集中度</th>    <td>0.0041</td>    <td>0.0058</td>   <td>0.7016</td>  <td>0.4829</td>   <td>-0.0073</td>  <td>0.0154</td> \n</tr>\n<tr>\n  <th>企业规模</th>     <td>0.0107</td>    <td>0.0012</td>   <td>9.2368</td>  <td>0.0000</td>   <td>0.0084</td>   <td>0.0129</td> \n</tr>\n<tr>\n  <th>企业年限</th>     <td>0.0025</td>    <td>0.0002</td>   <td>10.719</td>  <td>0.0000</td>   <td>0.0020</td>   <td>0.0029</td> \n</tr>\n</table><br/><br/>F-test for Poolability: 47.049<br/>P-value: 0.0000<br/>Distribution: F(44,18232)<br/><br/>Included effects: Entity, Time<br/>id: 0x2e33f4eb6e0"
     },
     "execution_count": 66,
     "metadata": {},
     "output_type": "execute_result"
    }
   ],
   "source": [
    "model = PanelOLS.from_formula(\"技术创新 ~ digital + 股权性质 + 股权集中度 + 企业规模 + 企业年限 + EntityEffects + TimeEffects\", data=data_)\n",
    "model.fit()"
   ],
   "metadata": {
    "collapsed": false,
    "ExecuteTime": {
     "end_time": "2024-03-27T07:07:03.784451Z",
     "start_time": "2024-03-27T07:07:03.705347Z"
    }
   },
   "id": "a94a8f4ef5fcd0c9",
   "execution_count": 66
  },
  {
   "cell_type": "code",
   "outputs": [
    {
     "name": "stdout",
     "output_type": "stream",
     "text": [
      "                            OLS Regression Results                            \n",
      "==============================================================================\n",
      "Dep. Variable:                   营运能力   R-squared:                       0.089\n",
      "Model:                            OLS   Adj. R-squared:                  0.087\n",
      "Method:                 Least Squares   F-statistic:                     48.17\n",
      "Date:                Wed, 27 Mar 2024   Prob (F-statistic):           1.12e-47\n",
      "Time:                        11:52:35   Log-Likelihood:                -1492.2\n",
      "No. Observations:                2468   AIC:                             2996.\n",
      "Df Residuals:                    2462   BIC:                             3031.\n",
      "Df Model:                           5                                         \n",
      "Covariance Type:            nonrobust                                         \n",
      "==============================================================================\n",
      "                 coef    std err          t      P>|t|      [0.025      0.975]\n",
      "------------------------------------------------------------------------------\n",
      "Intercept      0.0021      0.000     15.097      0.000       0.002       0.002\n",
      "适配能力           0.2440      0.082      2.993      0.003       0.084       0.404\n",
      "digital       -0.9477      0.272     -3.489      0.000      -1.480      -0.415\n",
      "企业规模          -0.0980      0.008    -11.692      0.000      -0.114      -0.082\n",
      "股权集中度          0.0201      0.002     12.246      0.000       0.017       0.023\n",
      "股权性质           0.0745      0.005     15.097      0.000       0.065       0.084\n",
      "企业年限          -0.1025      0.022     -4.683      0.000      -0.145      -0.060\n",
      "==============================================================================\n",
      "Omnibus:                      958.071   Durbin-Watson:                   0.554\n",
      "Prob(Omnibus):                  0.000   Jarque-Bera (JB):             3309.138\n",
      "Skew:                           1.971   Prob(JB):                         0.00\n",
      "Kurtosis:                       7.079   Cond. No.                     2.64e+15\n",
      "==============================================================================\n",
      "\n",
      "Notes:\n",
      "[1] Standard Errors assume that the covariance matrix of the errors is correctly specified.\n",
      "[2] The smallest eigenvalue is 6.58e-25. This might indicate that there are\n",
      "strong multicollinearity problems or that the design matrix is singular.\n"
     ]
    }
   ],
   "source": [
    "import statsmodels.api as sm\n",
    "import statsmodels.formula.api as smf\n",
    "# data_ = data[(data['行业类别']==36)] # &(data['截止日期']==2020)\n",
    "# data_ = data.copy()\n",
    "data_ = data_.set_index(['股票代码','截止日期'])\n",
    "# data_.describe()\n",
    "data_.columns=['营运能力','适配能力','digital','企业规模','行业类别','股权集中度','股权性质','企业年限']\n",
    "\n",
    "model = smf.ols(formula='营运能力~ 适配能力 + digital + 企业规模 + 股权集中度 + 股权性质 + 企业年限', data=data_)  # + C(行业类别)\n",
    "\n",
    "# data_['intercept']=1 \n",
    "# X = data_[['intercept','适配能力','digital','企业规模','行业类别','股权性质','股权集中度','企业年限']]  # \n",
    "# y = data_['营运能力']\n",
    "# model = sm.OLS(y,X)\n",
    "results = model.fit()\n",
    "print(results.summary())"
   ],
   "metadata": {
    "collapsed": false,
    "ExecuteTime": {
     "end_time": "2024-03-27T03:52:35.538Z",
     "start_time": "2024-03-27T03:52:35.519274Z"
    }
   },
   "id": "5675af9eeacf5620",
   "execution_count": 32
  },
  {
   "cell_type": "code",
   "outputs": [],
   "source": [],
   "metadata": {
    "collapsed": false,
    "ExecuteTime": {
     "end_time": "2024-03-26T13:51:31.112178Z",
     "start_time": "2024-03-26T13:51:31.102863Z"
    }
   },
   "id": "54bdd2a81aaddac7",
   "execution_count": 4
  }
 ],
 "metadata": {
  "kernelspec": {
   "display_name": "Python 3",
   "language": "python",
   "name": "python3"
  },
  "language_info": {
   "codemirror_mode": {
    "name": "ipython",
    "version": 2
   },
   "file_extension": ".py",
   "mimetype": "text/x-python",
   "name": "python",
   "nbconvert_exporter": "python",
   "pygments_lexer": "ipython2",
   "version": "2.7.6"
  }
 },
 "nbformat": 4,
 "nbformat_minor": 5
}
