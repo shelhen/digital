{
 "cells": [
  {
   "cell_type": "code",
   "execution_count": null,
   "id": "initial_id",
   "metadata": {
    "collapsed": true
   },
   "outputs": [],
   "source": [
    "import warnings\n",
    "import pandas as pd\n",
    "import numpy as np\n",
    "from ml_optimize import load_data\n",
    "warnings.filterwarnings('ignore')\n",
    "\n",
    "rs = 132\n",
    "np.random.seed(1)\n",
    "features = [\n",
    "    '净资产收益率', '投入资本回报率', '成本费用利润率', '总资产周转率', '应收账款周转率', '存货周转率', '资产负债率',\n",
    "    '速动比率', '现金流动负债比率', '营业总收入增长率', '营业利润增长率', '员工收入增长率(%)', '发明专利',\n",
    "    '研发人员占比(%)', '研发营收比(%)', '股权集中度(%)', '两权分离率(%)'\n",
    "]\n",
    "data_map, index_map = load_data(features, label_name='因子得分', test_size=0.2, random_state=rs)\n",
    "# {\"X_train_s\": X_train_s, \"X_test_s\": X_test_s, \"y_train\": y_train, \"y_test\": y_test}"
   ]
  },
  {
   "metadata": {},
   "cell_type": "code",
   "outputs": [],
   "execution_count": null,
   "source": [
    "# import matplotlib.pyplot as plt\n",
    "# plt.rcParams['font.family'] = 'serif'\n",
    "# plt.rcParams['font.serif'] = 'Songti SC'  # Times New Roman\n",
    "# plt.rcParams['axes.unicode_minus'] = False\n",
    "# font = {\"fontfamily\": \"Songti SC\", \"fontsize\":10}\n",
    "#\n",
    "#\n",
    "# fig, ax = plt.subplots(figsize=(8, 6), dpi=100)\n",
    "# # 绘制训练集验证集损失变化\n",
    "# \"\"\"\n",
    "# 训练过程中的损失函数变化情况\n",
    "# 模型在训练集上的损失远小于验证集的损失，说明模型过度拟合，但总体准确度已经较为准确。\n",
    "# 在训练的后期（大约150个epoch之后），验证集MSE下降速度很慢。这可能表明模型容量过大或正则化不足，可以适当增加正则化系数。\n",
    "# \"\"\"\n",
    "# ax.plot(hist.history['mse'], 'k', label='Train')\n",
    "# ax.plot(hist.history['val_mse'], 'b', label='Validation')\n",
    "# # plt.axvline(index,linestyle='--', color='k')\n",
    "# ax.set_ylabel('MSE')\n",
    "# ax.set_xlabel('Epoch')\n",
    "# # ax.title('Mean Squared Error')\n",
    "# plt.legend()\n",
    "# plt.show()"
   ],
   "id": "6ee9a7c6f96e271b"
  },
  {
   "metadata": {},
   "cell_type": "code",
   "outputs": [],
   "execution_count": null,
   "source": [
    "import shap\n",
    "import numpy as np\n",
    "from types import MethodType\n",
    "from sklearn.inspection import permutation_importance\n",
    "\n",
    "score = lambda self, X, y: self.evaluate(X, y, verbose=0)[1]\n",
    "# (1)权重特征重要度；\n"
   ],
   "id": "78bc8aadac1dbe7a"
  }
 ],
 "metadata": {
  "kernelspec": {
   "display_name": "Python 3",
   "language": "python",
   "name": "python3"
  },
  "language_info": {
   "codemirror_mode": {
    "name": "ipython",
    "version": 2
   },
   "file_extension": ".py",
   "mimetype": "text/x-python",
   "name": "python",
   "nbconvert_exporter": "python",
   "pygments_lexer": "ipython2",
   "version": "2.7.6"
  }
 },
 "nbformat": 4,
 "nbformat_minor": 5
}
